{
  "nbformat": 4,
  "nbformat_minor": 0,
  "metadata": {
    "colab": {
      "provenance": [],
      "authorship_tag": "ABX9TyO6gBy71HHJIIVjvUX8ReGJ",
      "include_colab_link": true
    },
    "kernelspec": {
      "name": "python3",
      "display_name": "Python 3"
    },
    "language_info": {
      "name": "python"
    }
  },
  "cells": [
    {
      "cell_type": "markdown",
      "metadata": {
        "id": "view-in-github",
        "colab_type": "text"
      },
      "source": [
        "<a href=\"https://colab.research.google.com/github/possomartin/Notebooks/blob/main/Mario_Kart_Analytics.ipynb\" target=\"_parent\"><img src=\"https://colab.research.google.com/assets/colab-badge.svg\" alt=\"Open In Colab\"/></a>"
      ]
    },
    {
      "cell_type": "code",
      "metadata": {
        "id": "uJfgCAr_LrRm"
      },
      "source": [
        "import pandas as pd\n",
        "import seaborn as sns\n",
        "import numpy as num\n",
        "import json\n",
        "import requests as req\n",
        "import matplotlib.pyplot as plt"
      ],
      "execution_count": null,
      "outputs": []
    },
    {
      "cell_type": "code",
      "metadata": {
        "id": "cCw24lpFNIFJ"
      },
      "source": [
        "URL = \"https://docs.google.com/spreadsheets/d/1Ha6RnZoWs-MlvPGh9zOUtdqDLIxPLkqY/edit?usp=sharing&ouid=115206086783772213149&rtpof=true&sd=true\"\n",
        "path = 'https://drive.google.com/uc?export=download&id=' + URL.split('/')[-2]\n",
        "\n",
        "GlidersDataSet = pd.read_excel(path, sheet_name='Gliders')\n",
        "TiresDataSet = pd.read_excel(path, sheet_name='Tires')\n",
        "FramesDataSet = pd.read_excel(path, sheet_name='Frames')\n",
        "CharactersDataSet = pd.read_excel(path, sheet_name='Characters')\n",
        "\n",
        "TireArray = TiresDataSet.to_numpy()\n",
        "FrameArray = FramesDataSet.to_numpy()\n",
        "Glider = GlidersDataSet.to_numpy()\n",
        "CharacterArray = CharactersDataSet.to_numpy()\n",
        "\n",
        "def GetSumArray(arrayList):\n",
        "  sum = 0\n",
        "  mayor = 0\n",
        "  prom = 0\n",
        "\n",
        "  for element in arrayList:\n",
        "    sum = 0\n",
        "    for i in range(len(element) - 1):\n",
        "      sum += element[i + 1]\n",
        "    prom = sum / (len(element) - 1)\n",
        "    if(prom > mayor):\n",
        "      mayor = prom\n",
        "      arrayElement = element\n",
        "    print(prom, sum, len(element) - 1)\n",
        "  return mayor, arrayElement\n",
        "\n"
      ],
      "execution_count": null,
      "outputs": []
    },
    {
      "cell_type": "code",
      "metadata": {
        "colab": {
          "base_uri": "https://localhost:8080/"
        },
        "id": "FYrfD-MJNePf",
        "outputId": "1705afe9-0c37-419c-9985-fde3812fb04c"
      },
      "source": [
        "print('Mayor', GetSumArray(CharacterArray))"
      ],
      "execution_count": null,
      "outputs": [
        {
          "output_type": "stream",
          "name": "stdout",
          "text": [
            "3.5833333333333335 21.5 6\n",
            "3.5 21.0 6\n",
            "3.5 21.0 6\n",
            "3.625 21.75 6\n",
            "3.5 21.0 6\n",
            "3.5833333333333335 21.5 6\n",
            "3.5416666666666665 21.25 6\n",
            "3.5416666666666665 21.25 6\n",
            "3.5 21.0 6\n",
            "3.5 21.0 6\n",
            "3.5 21.0 6\n",
            "3.5416666666666665 21.25 6\n",
            "3.4583333333333335 20.75 6\n",
            "3.4583333333333335 20.75 6\n",
            "3.5833333333333335 21.5 6\n",
            "3.4166666666666665 20.5 6\n",
            "Mayor (3.625, array(['Koopa Troopa, Lakitu, Bowser Jr.', 2.75, 4.0, 2.5, 4.5, 4.25,\n",
            "       3.75], dtype=object))\n"
          ]
        }
      ]
    },
    {
      "cell_type": "code",
      "metadata": {
        "id": "J0vpvdxbKQm1",
        "colab": {
          "base_uri": "https://localhost:8080/"
        },
        "outputId": "f99b48d8-ee75-484e-e574-e715e8df1062"
      },
      "source": [
        "#Login to API\n",
        "loginUrl = \"http://localhost:3000/users/login\"\n",
        "\n",
        "\n",
        "user = {'username': 'posso_martin', 'password': 'martin113'}\n",
        "headers = {'Content-type': 'application/json', 'Accept': 'text/plain'}\n",
        "try:\n",
        "  login = req.post(loginUrl, json=user)\n",
        "except req.exceptions.ConnectionError:\n",
        "  print(\"Connection Refused\");"
      ],
      "execution_count": null,
      "outputs": [
        {
          "output_type": "stream",
          "name": "stdout",
          "text": [
            "Connection Refused\n"
          ]
        }
      ]
    },
    {
      "cell_type": "code",
      "source": [],
      "metadata": {
        "id": "xpyjioPg6BfW"
      },
      "execution_count": null,
      "outputs": []
    }
  ]
}