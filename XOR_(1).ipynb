{
  "nbformat": 4,
  "nbformat_minor": 0,
  "metadata": {
    "colab": {
      "provenance": [],
      "include_colab_link": true
    },
    "kernelspec": {
      "name": "python3",
      "display_name": "Python 3"
    },
    "language_info": {
      "name": "python"
    }
  },
  "cells": [
    {
      "cell_type": "markdown",
      "metadata": {
        "id": "view-in-github",
        "colab_type": "text"
      },
      "source": [
        "<a href=\"https://colab.research.google.com/github/possomartin/Notebooks/blob/main/XOR_(1).ipynb\" target=\"_parent\"><img src=\"https://colab.research.google.com/assets/colab-badge.svg\" alt=\"Open In Colab\"/></a>"
      ]
    },
    {
      "cell_type": "code",
      "metadata": {
        "id": "_GLOeyYebrTU",
        "colab": {
          "base_uri": "https://localhost:8080/",
          "height": 265
        },
        "outputId": "2150f50a-f19d-4f57-df89-45e620bb2de2"
      },
      "source": [
        "#cálculo numérico y análisis de datos\n",
        "import numpy as np\n",
        "#para graficos en dos dimensiones\n",
        "import matplotlib.pyplot as plt\n",
        "#biblioteca de aprendizaje automatico\n",
        "from sklearn.metrics import mean_squared_error\n",
        "\n",
        "import warnings\n",
        "warnings.filterwarnings(\"ignore\")\n",
        "\n",
        "#modelo de la red neuronas: entradas, ocultas y salidas\n",
        "N_entrada = 2; N_ocultas = 4; N_salida = 1\n",
        "#N_entradaBias = 3\n",
        "\n",
        "#ejercicio XOR entradas sin bia\n",
        "r_i = np.matrix('0 1 0 1; 0 0 1 1')\n",
        "#r_i_bia = np.matrix('1 1 1 1;0 1 0 1;0 0 1 1')\n",
        "\n",
        "#salidas\n",
        "r_d = np.matrix('0,1,1,0')\n",
        "\n",
        "#inicializacion randomica de pesos\n",
        "#np.random.rand genera un aleatorio entre 0 y 1\n",
        "#(3,2) matriz de randomicos de 3 filas y 2 columnas\n",
        "w_h = np.random.rand(N_ocultas,N_entrada) - 0.5\n",
        "\n",
        "w_o = np.random.rand(N_salida,N_ocultas) -0.5\n",
        "#print(\"pesos entrada y oculta\",w_h)\n",
        "#print(\"pesos oculta salida\",w_h)\n",
        "\n",
        "#numero de repeticiones\n",
        "training_steps = 10000\n",
        "\n",
        "mse = []\n",
        "\n",
        "\n",
        "for i in range(training_steps):\n",
        "    #seleccionamos el ejemplo de entrenameinto randomicamente\n",
        "    i = np.floor(4*np.random.rand()).astype('int')\n",
        "    #print(\"ejemplo i\",i)\n",
        "\n",
        "    s_h = w_h*r_i[:,i]\n",
        "    #salidas en la capa oculta\n",
        "    r_h = 1/(1+np.exp(-s_h))\n",
        "\n",
        "    #r_h = 1/(1+np.exp(-w_h*r_i[:,i]))\n",
        "    #print(\"salidas capa oculta\",r_h)\n",
        "\n",
        "    #salidas de la red\n",
        "    s_o = w_o*r_h\n",
        "    #print(\"so\",s_o)\n",
        "    r_o = 1/(1+np.exp(-s_o))\n",
        "    #print(\"ro\",r_o)\n",
        "\n",
        "   # r_o = 1/(1+np.exp(-w_o*r_h))\n",
        "    #print(\"ro\",r_o)\n",
        "    #print(\"salidas \",r_o)\n",
        "\n",
        "    #calculo del error\n",
        "    #error salida deseada - salida obtenida\n",
        "    #capa salida para retropropagar derivada del erro\n",
        "    #salidaObtenida *(1-salida obtenida)\n",
        "    error = r_d[:,i]-r_o\n",
        "    #print(\"error\",error)\n",
        "    #derivada\n",
        "    d_o = (r_o*(1-r_o))*error\n",
        "    #print(\"derivada error salida\",d_o)\n",
        "\n",
        "\n",
        "    #multiplicacion de matrices por elemento np.multiply\n",
        "    #error de la capa oculta\n",
        "    #derivada salidaOculta*(1-salidaOculta)*sumatoria(derivadaSalida*pesos salida)\n",
        "    #Transpuesta\n",
        "    d_h = np.multiply(np.multiply(r_h,(1-r_h)),(w_o.T*d_o))\n",
        "    #print(\"derivada error oculta\",d_h)\n",
        "\n",
        "    #actualizar los pesos capa de salida\n",
        "    #pesosSalida+velocidadAprendizaje*derivadaSalida*entradaSalida\n",
        "    w_o = w_o +0.7*(r_h*d_o.T).T\n",
        "    #print(\"variacion pesos capa salida\",w_o)\n",
        "\n",
        "    #actualizar los pesos capa de entrada\n",
        "    #pesosEntrada+velocidadAprendizaje*derivadaoculta*entrada\n",
        "    w_h = w_h + 0.7*(r_i[:,i]*d_h.T).T\n",
        "    #print(\"variacion pesos entrada\",w_h)\n",
        "\n",
        "    #testear todos los patrones\n",
        "    test_h = 1/(1+np.exp(-w_h*r_i))\n",
        "    test_o = 1/(1+np.exp(-w_o*test_h))\n",
        "    #print(\"test salida\",test_o)\n",
        "    mse +=[mean_squared_error(r_d,test_o)]\n",
        "    #print(\"error cuadratico medio\",mse)\n",
        "\n",
        "\n",
        "plt.plot(mse)\n",
        "plt.show()"
      ],
      "execution_count": null,
      "outputs": [
        {
          "output_type": "display_data",
          "data": {
            "text/plain": [
              "<Figure size 432x288 with 1 Axes>"
            ],
            "image/png": "[encoded data removed]"
          },
          "metadata": {
            "needs_background": "light"
          }
        }
      ]
    },
    {
      "cell_type": "code",
      "metadata": {
        "colab": {
          "base_uri": "https://localhost:8080/"
        },
        "id": "r3TZZ2Ter_6t",
        "outputId": "829ea0a6-a562-4e2d-9ef9-e76c095dbfa2"
      },
      "source": [
        "#probar la red\n",
        "test_o"
      ],
      "execution_count": null,
      "outputs": [
        {
          "output_type": "execute_result",
          "data": {
            "text/plain": [
              "matrix([[0.07789258, 0.91225596, 0.90005908, 0.51057055]])"
            ]
          },
          "metadata": {},
          "execution_count": 2
        }
      ]
    },
    {
      "cell_type": "code",
      "source": [],
      "metadata": {
        "id": "q4Jgd6iM_IRW"
      },
      "execution_count": null,
      "outputs": []
    }
  ]
}