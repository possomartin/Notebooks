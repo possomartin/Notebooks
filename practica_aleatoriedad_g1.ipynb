{
  "nbformat": 4,
  "nbformat_minor": 0,
  "metadata": {
    "colab": {
      "provenance": [],
      "include_colab_link": true
    },
    "language_info": {
      "name": "python"
    },
    "kernelspec": {
      "name": "python3",
      "display_name": "Python 3"
    }
  },
  "cells": [
    {
      "cell_type": "markdown",
      "metadata": {
        "id": "view-in-github",
        "colab_type": "text"
      },
      "source": [
        "<a href=\"https://colab.research.google.com/github/possomartin/Notebooks/blob/main/practica_aleatoriedad_g1.ipynb\" target=\"_parent\"><img src=\"https://colab.research.google.com/assets/colab-badge.svg\" alt=\"Open In Colab\"/></a>"
      ]
    },
    {
      "cell_type": "markdown",
      "metadata": {
        "id": "YouKouu8bJyi"
      },
      "source": [
        "# Random walk on graphs\n",
        "\n",
        "Think on a motivation on using graphs for modeling\n",
        "\n",
        "- [The Structure and Function of Complex Networks](https://epubs.siam.org/doi/pdf/10.1137/S003614450342480)\n",
        "- [Introduction to graph theory in networkx](https://towardsdatascience.com/an-intro-to-graph-theory-centrality-measurements-and-networkx-1c2e580adf37)\n",
        "- [Random walks on graphs](https://graphstream-project.org/doc/Algorithms/Random-walks-on-graphs/)\n",
        "- [Architecture as a graph](https://towardsdatascience.com/architecture-as-a-graph-6a835d46f918)\n",
        "- [Network algorithms](https://towardsdatascience.com/10-graph-algorithms-visually-explained-e57faa1336f3)"
      ]
    },
    {
      "cell_type": "code",
      "metadata": {
        "id": "E17bYc9AVqi0"
      },
      "source": [
        "import numpy as np\n",
        "import matplotlib.pyplot as plt"
      ],
      "execution_count": null,
      "outputs": []
    },
    {
      "cell_type": "markdown",
      "metadata": {
        "id": "QbrYIuI_Vqi3"
      },
      "source": [
        "## Random walk on a graph\n",
        "\n",
        "Start at 0, go left with probability 1/2, go right with probability 1/2. Reflecting barrier at 0 - if particle hits 0, it must switch direction at next step and return to 1. Absorbing barrier at $n$ - particle stops when it hits state n. Estimate number of steps as a function of n until the particle is absorbed.\n",
        "Analytic solution: $n^2$. Use $n \\in \\{2, 3, 4, 5,...,10\\}$, where $n$ is the abosorbing barrier.\n",
        "\n",
        "![](https://raw.githubusercontent.com/marsgr6/r-scripts/master/imgs/rwbarriers.png)\n",
        "\n",
        "The state-transition diagram is shown below:\n",
        "\n",
        "![](https://raw.githubusercontent.com/marsgr6/r-scripts/master/imgs/drunkards-walk.png)\n",
        "\n",
        "- Check this resource on [absorbing markov chains](https://brilliant.org/wiki/absorbing-markov-chains/) and check also the [wiki entry](https://en.wikipedia.org/wiki/Absorbing_Markov_chain)."
      ]
    },
    {
      "cell_type": "code",
      "metadata": {
        "id": "4ZwNxwk3Vqi4",
        "colab": {
          "base_uri": "https://localhost:8080/",
          "height": 118
        },
        "outputId": "5e219f8f-4219-4443-a216-0328d1da9815"
      },
      "source": [
        "from sympy import Matrix\n",
        "n = 4\n",
        "ds = [1] + [0.5]*(n-1)\n",
        "Xs = np.diag(ds, 1)\n",
        "di = [0.5]*(n-1) + [0]\n",
        "Xi = np.diag(di, -1)\n",
        "dd = [0]*n + [1]\n",
        "Xd = np.diag(dd, 0)\n",
        "Q = Xs + Xi + Xd\n",
        "Matrix(Q)"
      ],
      "execution_count": null,
      "outputs": [
        {
          "output_type": "execute_result",
          "data": {
            "text/latex": "$\\displaystyle \\left[\\begin{matrix}0.0 & 1.0 & 0.0 & 0.0 & 0.0\\\\0.5 & 0.0 & 0.5 & 0.0 & 0.0\\\\0.0 & 0.5 & 0.0 & 0.5 & 0.0\\\\0.0 & 0.0 & 0.5 & 0.0 & 0.5\\\\0.0 & 0.0 & 0.0 & 0.0 & 1.0\\end{matrix}\\right]$",
            "text/plain": [
              "Matrix([\n",
              "[0.0, 1.0, 0.0, 0.0, 0.0],\n",
              "[0.5, 0.0, 0.5, 0.0, 0.0],\n",
              "[0.0, 0.5, 0.0, 0.5, 0.0],\n",
              "[0.0, 0.0, 0.5, 0.0, 0.5],\n",
              "[0.0, 0.0, 0.0, 0.0, 1.0]])"
            ]
          },
          "metadata": {
            "tags": []
          },
          "execution_count": 5
        }
      ]
    },
    {
      "cell_type": "code",
      "metadata": {
        "colab": {
          "base_uri": "https://localhost:8080/",
          "height": 282
        },
        "id": "zIl94jqtrF-A",
        "outputId": "e2b6056f-f303-4312-9760-a14ea519ed45"
      },
      "source": [
        "states = list(range(n+1))\n",
        "states\n",
        "start = 0\n",
        "walk = [start]\n",
        "\n",
        "while(True):\n",
        "    walk += [np.random.choice(states, p=Q[walk[-1]])]\n",
        "    if walk[-1] == n: break\n",
        "plt.plot(range(len(walk)), walk)"
      ],
      "execution_count": null,
      "outputs": [
        {
          "output_type": "execute_result",
          "data": {
            "text/plain": [
              "[<matplotlib.lines.Line2D at 0x7f700da90090>]"
            ]
          },
          "metadata": {
            "tags": []
          },
          "execution_count": 9
        },
        {
          "output_type": "display_data",
          "data": {
            "image/png": "[encoded data removed]",
            "text/plain": [
              "<Figure size 432x288 with 1 Axes>"
            ]
          },
          "metadata": {
            "tags": [],
            "needs_background": "light"
          }
        }
      ]
    },
    {
      "cell_type": "markdown",
      "metadata": {
        "id": "SqhfLKEPVqi5"
      },
      "source": [
        "## Random shortest path\n",
        "\n",
        "From the implementation above, how would you find a shortest path using random walks.\n",
        "\n",
        "![](https://upload.wikimedia.org/wikipedia/commons/thumb/3/3b/Shortest_path_with_direct_weights.svg/640px-Shortest_path_with_direct_weights.svg.png)"
      ]
    },
    {
      "cell_type": "code",
      "metadata": {
        "id": "p2oIs0ndVqi5",
        "colab": {
          "base_uri": "https://localhost:8080/"
        },
        "outputId": "059ff8ea-9410-45f2-8e43-af2a82cf3575"
      },
      "source": [
        "neighbors = ['B', 'C']\n",
        "weights = np.array([4, 2])\n",
        "prob = 1 - weights / np.sum(weights)\n",
        "neighbors, prob, np.random.choice(['B', 'C'], p=prob)"
      ],
      "execution_count": null,
      "outputs": [
        {
          "output_type": "execute_result",
          "data": {
            "text/plain": [
              "(['B', 'C'], array([0.33333333, 0.66666667]), 'C')"
            ]
          },
          "metadata": {
            "tags": []
          },
          "execution_count": 10
        }
      ]
    },
    {
      "cell_type": "code",
      "metadata": {
        "colab": {
          "base_uri": "https://localhost:8080/",
          "height": 225
        },
        "id": "Mztg8IuLuQRu",
        "outputId": "91c7df4c-ba03-4fe2-e37c-b22674f611ef"
      },
      "source": [
        "from string import ascii_uppercase\n",
        "import pandas as pd\n",
        "n = 6\n",
        "states = list(ascii_uppercase[:n])\n",
        "states\n",
        "M = np.matrix('0 2 4 0 0 0; 0 0 5 10 0 0; 0 0 0 0 3 0; 0 0 0 0 0 11; 0 0 0 4 0 0; 0 0 0 0 0 1')\n",
        "M = np.array(M)\n",
        "MD = pd.DataFrame(M, index=states, columns=states)\n",
        "MD"
      ],
      "execution_count": null,
      "outputs": [
        {
          "output_type": "execute_result",
          "data": {
            "text/html": [
              "<div>\n",
              "<style scoped>\n",
              "    .dataframe tbody tr th:only-of-type {\n",
              "        vertical-align: middle;\n",
              "    }\n",
              "\n",
              "    .dataframe tbody tr th {\n",
              "        vertical-align: top;\n",
              "    }\n",
              "\n",
              "    .dataframe thead th {\n",
              "        text-align: right;\n",
              "    }\n",
              "</style>\n",
              "<table border=\"1\" class=\"dataframe\">\n",
              "  <thead>\n",
              "    <tr style=\"text-align: right;\">\n",
              "      <th></th>\n",
              "      <th>A</th>\n",
              "      <th>B</th>\n",
              "      <th>C</th>\n",
              "      <th>D</th>\n",
              "      <th>E</th>\n",
              "      <th>F</th>\n",
              "    </tr>\n",
              "  </thead>\n",
              "  <tbody>\n",
              "    <tr>\n",
              "      <th>A</th>\n",
              "      <td>0</td>\n",
              "      <td>2</td>\n",
              "      <td>4</td>\n",
              "      <td>0</td>\n",
              "      <td>0</td>\n",
              "      <td>0</td>\n",
              "    </tr>\n",
              "    <tr>\n",
              "      <th>B</th>\n",
              "      <td>0</td>\n",
              "      <td>0</td>\n",
              "      <td>5</td>\n",
              "      <td>10</td>\n",
              "      <td>0</td>\n",
              "      <td>0</td>\n",
              "    </tr>\n",
              "    <tr>\n",
              "      <th>C</th>\n",
              "      <td>0</td>\n",
              "      <td>0</td>\n",
              "      <td>0</td>\n",
              "      <td>0</td>\n",
              "      <td>3</td>\n",
              "      <td>0</td>\n",
              "    </tr>\n",
              "    <tr>\n",
              "      <th>D</th>\n",
              "      <td>0</td>\n",
              "      <td>0</td>\n",
              "      <td>0</td>\n",
              "      <td>0</td>\n",
              "      <td>0</td>\n",
              "      <td>11</td>\n",
              "    </tr>\n",
              "    <tr>\n",
              "      <th>E</th>\n",
              "      <td>0</td>\n",
              "      <td>0</td>\n",
              "      <td>0</td>\n",
              "      <td>4</td>\n",
              "      <td>0</td>\n",
              "      <td>0</td>\n",
              "    </tr>\n",
              "    <tr>\n",
              "      <th>F</th>\n",
              "      <td>0</td>\n",
              "      <td>0</td>\n",
              "      <td>0</td>\n",
              "      <td>0</td>\n",
              "      <td>0</td>\n",
              "      <td>1</td>\n",
              "    </tr>\n",
              "  </tbody>\n",
              "</table>\n",
              "</div>"
            ],
            "text/plain": [
              "   A  B  C   D  E   F\n",
              "A  0  2  4   0  0   0\n",
              "B  0  0  5  10  0   0\n",
              "C  0  0  0   0  3   0\n",
              "D  0  0  0   0  0  11\n",
              "E  0  0  0   4  0   0\n",
              "F  0  0  0   0  0   1"
            ]
          },
          "metadata": {
            "tags": []
          },
          "execution_count": 29
        }
      ]
    },
    {
      "cell_type": "code",
      "metadata": {
        "colab": {
          "base_uri": "https://localhost:8080/",
          "height": 225
        },
        "id": "ItcYyV8kvV59",
        "outputId": "78328770-e2cc-4012-ccde-07b52ad8b643"
      },
      "source": [
        "P = [mii/mi.sum() if mii else mii for mi in M for mii in mi]\n",
        "P = np.array([1-pi if (pi != 0 and pi !=1) else pi for pi in P])\n",
        "P = P.reshape(n, n)\n",
        "Matrix(P)\n",
        "PD = pd.DataFrame(P, index=states, columns=states)\n",
        "PD"
      ],
      "execution_count": null,
      "outputs": [
        {
          "output_type": "execute_result",
          "data": {
            "text/html": [
              "<div>\n",
              "<style scoped>\n",
              "    .dataframe tbody tr th:only-of-type {\n",
              "        vertical-align: middle;\n",
              "    }\n",
              "\n",
              "    .dataframe tbody tr th {\n",
              "        vertical-align: top;\n",
              "    }\n",
              "\n",
              "    .dataframe thead th {\n",
              "        text-align: right;\n",
              "    }\n",
              "</style>\n",
              "<table border=\"1\" class=\"dataframe\">\n",
              "  <thead>\n",
              "    <tr style=\"text-align: right;\">\n",
              "      <th></th>\n",
              "      <th>A</th>\n",
              "      <th>B</th>\n",
              "      <th>C</th>\n",
              "      <th>D</th>\n",
              "      <th>E</th>\n",
              "      <th>F</th>\n",
              "    </tr>\n",
              "  </thead>\n",
              "  <tbody>\n",
              "    <tr>\n",
              "      <th>A</th>\n",
              "      <td>0.0</td>\n",
              "      <td>0.666667</td>\n",
              "      <td>0.333333</td>\n",
              "      <td>0.000000</td>\n",
              "      <td>0.0</td>\n",
              "      <td>0.0</td>\n",
              "    </tr>\n",
              "    <tr>\n",
              "      <th>B</th>\n",
              "      <td>0.0</td>\n",
              "      <td>0.000000</td>\n",
              "      <td>0.666667</td>\n",
              "      <td>0.333333</td>\n",
              "      <td>0.0</td>\n",
              "      <td>0.0</td>\n",
              "    </tr>\n",
              "    <tr>\n",
              "      <th>C</th>\n",
              "      <td>0.0</td>\n",
              "      <td>0.000000</td>\n",
              "      <td>0.000000</td>\n",
              "      <td>0.000000</td>\n",
              "      <td>1.0</td>\n",
              "      <td>0.0</td>\n",
              "    </tr>\n",
              "    <tr>\n",
              "      <th>D</th>\n",
              "      <td>0.0</td>\n",
              "      <td>0.000000</td>\n",
              "      <td>0.000000</td>\n",
              "      <td>0.000000</td>\n",
              "      <td>0.0</td>\n",
              "      <td>1.0</td>\n",
              "    </tr>\n",
              "    <tr>\n",
              "      <th>E</th>\n",
              "      <td>0.0</td>\n",
              "      <td>0.000000</td>\n",
              "      <td>0.000000</td>\n",
              "      <td>1.000000</td>\n",
              "      <td>0.0</td>\n",
              "      <td>0.0</td>\n",
              "    </tr>\n",
              "    <tr>\n",
              "      <th>F</th>\n",
              "      <td>0.0</td>\n",
              "      <td>0.000000</td>\n",
              "      <td>0.000000</td>\n",
              "      <td>0.000000</td>\n",
              "      <td>0.0</td>\n",
              "      <td>1.0</td>\n",
              "    </tr>\n",
              "  </tbody>\n",
              "</table>\n",
              "</div>"
            ],
            "text/plain": [
              "     A         B         C         D    E    F\n",
              "A  0.0  0.666667  0.333333  0.000000  0.0  0.0\n",
              "B  0.0  0.000000  0.666667  0.333333  0.0  0.0\n",
              "C  0.0  0.000000  0.000000  0.000000  1.0  0.0\n",
              "D  0.0  0.000000  0.000000  0.000000  0.0  1.0\n",
              "E  0.0  0.000000  0.000000  1.000000  0.0  0.0\n",
              "F  0.0  0.000000  0.000000  0.000000  0.0  1.0"
            ]
          },
          "metadata": {
            "tags": []
          },
          "execution_count": 30
        }
      ]
    },
    {
      "cell_type": "code",
      "metadata": {
        "colab": {
          "base_uri": "https://localhost:8080/"
        },
        "id": "1_amfxTNw2Fp",
        "outputId": "3b79d602-17d0-42dc-b323-2e7aeced2180"
      },
      "source": [
        "from collections import Counter\n",
        "\n",
        "start = 'A'\n",
        "target = 'F'\n",
        "all_walks = []\n",
        "for i in range(10000):\n",
        "    walk = [start]\n",
        "    while(True):\n",
        "        walk += [np.random.choice(states, p=PD.loc[walk[-1]])]\n",
        "        if walk[-1] == target: break\n",
        "    all_walks += [walk]\n",
        "C = Counter(str(wi) for wi in all_walks)\n",
        "C"
      ],
      "execution_count": null,
      "outputs": [
        {
          "output_type": "execute_result",
          "data": {
            "text/plain": [
              "Counter({\"['A', 'B', 'C', 'E', 'D', 'F']\": 4464,\n",
              "         \"['A', 'B', 'D', 'F']\": 2171,\n",
              "         \"['A', 'C', 'E', 'D', 'F']\": 3365})"
            ]
          },
          "metadata": {
            "tags": []
          },
          "execution_count": 31
        }
      ]
    },
    {
      "cell_type": "markdown",
      "metadata": {
        "id": "lroGQDHtJxMm"
      },
      "source": [
        "## Greedy search\n",
        "\n",
        "- Find the shortest path between **start** and **target**, using a greedy heuristic.\n",
        "  - The shortest path on a taxicab topology has an L-form.\n",
        "  - A stair between start and target will also be a minimum path.\n",
        "\n",
        "- Check the wiki entry on [greedy algorithms](https://en.wikipedia.org/wiki/Greedy_algorithm).  \n",
        "- How this would work on the graphs above.\n",
        "\n",
        "![](https://raw.githubusercontent.com/marsgr6/r-scripts/master/imgs/greedy_stairs.png)"
      ]
    },
    {
      "cell_type": "code",
      "metadata": {
        "colab": {
          "base_uri": "https://localhost:8080/",
          "height": 487
        },
        "id": "xNKZLaV3IsC8",
        "outputId": "31816660-87bd-4866-e10d-c88056129bbf"
      },
      "source": [
        "def generate_candidates(x, y):\n",
        "    return [(x + 1, y), (x - 1, y), (x, y + 1), (x, y - 1)]\n",
        "\n",
        "def calculate_distance(a, b):\n",
        "    # manhattan distance\n",
        "    return abs(a[0] - b[0]) + abs(a[1] - b[1])\n",
        "\n",
        "def return_best(actual, target, i):\n",
        "    k = generate_candidates(*actual)\n",
        "    distances = [calculate_distance(ki, target) for ki in k]\n",
        "    min_d = min(distances)\n",
        "\n",
        "    # 1 or 2 best knighbors can occurs\n",
        "    best_k = [loc for loc,val in enumerate(distances) if val == min_d]\n",
        "\n",
        "    # Stair path\n",
        "    if len(best_k) > 1:\n",
        "        best_ki = k[best_k[i%2]]\n",
        "    else:\n",
        "        best_ki = k[best_k[-1]]\n",
        "\n",
        "    best_ki = k[best_k[0]]  # L path\n",
        "    best_ki = k[best_k[-1]]  # L path\n",
        "\n",
        "    best_ki = k[np.random.choice(best_k)]\n",
        "\n",
        "    return best_ki\n",
        "\n",
        "\n",
        "limits = 10\n",
        "start = (2, 2)\n",
        "target = (9, 7)\n",
        "\n",
        "walk = [start]\n",
        "i = 0\n",
        "while(True):\n",
        "    walk += [return_best(walk[-1], target, i)]\n",
        "    i += 1\n",
        "    if walk[-1] == target: break\n",
        "walk = np.array(walk)\n",
        "\n",
        "plt.figure(figsize=(8,8))\n",
        "plt.xlim(0, limits)\n",
        "plt.ylim(0, limits)\n",
        "plt.xticks(range(limits+1))\n",
        "plt.yticks(range(limits+1))\n",
        "plt.plot(start[0], start[1], 'og', label=\"start\")\n",
        "plt.plot(target[0], target[1], 'or', label=\"target\")\n",
        "plt.plot(walk[:,0], walk[:,1], label='shortest path')  # plot greedy walk\n",
        "plt.legend()\n",
        "plt.grid(linestyle='--')"
      ],
      "execution_count": null,
      "outputs": [
        {
          "output_type": "display_data",
          "data": {
            "image/png": "[encoded data removed]",
            "text/plain": [
              "<Figure size 576x576 with 1 Axes>"
            ]
          },
          "metadata": {
            "tags": [],
            "needs_background": "light"
          }
        }
      ]
    },
    {
      "cell_type": "code",
      "metadata": {
        "id": "66Y1rakj2ImV",
        "colab": {
          "base_uri": "https://localhost:8080/",
          "height": 390
        },
        "outputId": "16be579a-547f-41ed-e992-4ea22a76f555"
      },
      "source": [
        "import random\n",
        "import numpy as np\n",
        "import matplotlib.pyplot as plt\n",
        "%matplotlib inline\n",
        "\n",
        "posiciones=[(0,0)]\n",
        "actual=(0,0)\n",
        "pasos = 0   #DEFINE EL NUMERO DE PASOS\n",
        "\n",
        "while (actual[1]<10):\n",
        "    if(actual[1]==0):\n",
        "        step=1\n",
        "    else:\n",
        "        step = random.randint(0, 1)\n",
        "    if(step==0):\n",
        "        actual=(actual[0]+1,actual[1]-1)\n",
        "        posiciones.append(actual)\n",
        "    else:\n",
        "        actual=(actual[0]+1,actual[1]+1)\n",
        "        posiciones.append(actual)\n",
        "print (posiciones)\n",
        "\n",
        "w = np.array(posiciones).T\n",
        "plt.figure(figsize=(5,5))\n",
        "plt.title('GRAFICA DEL CAMINO')\n",
        "plt.plot(w[0], w[1], ':.')"
      ],
      "execution_count": null,
      "outputs": [
        {
          "output_type": "stream",
          "text": [
            "[(0, 0), (1, 1), (2, 0), (3, 1), (4, 2), (5, 1), (6, 0), (7, 1), (8, 0), (9, 1), (10, 0), (11, 1), (12, 2), (13, 1), (14, 0), (15, 1), (16, 0), (17, 1), (18, 2), (19, 1), (20, 0), (21, 1), (22, 2), (23, 3), (24, 4), (25, 5), (26, 4), (27, 3), (28, 2), (29, 1), (30, 2), (31, 3), (32, 2), (33, 1), (34, 0), (35, 1), (36, 2), (37, 3), (38, 4), (39, 5), (40, 4), (41, 5), (42, 4), (43, 5), (44, 4), (45, 5), (46, 4), (47, 3), (48, 2), (49, 3), (50, 2), (51, 3), (52, 4), (53, 3), (54, 2), (55, 3), (56, 2), (57, 1), (58, 2), (59, 3), (60, 2), (61, 3), (62, 2), (63, 1), (64, 0), (65, 1), (66, 0), (67, 1), (68, 2), (69, 1), (70, 0), (71, 1), (72, 2), (73, 3), (74, 2), (75, 3), (76, 4), (77, 5), (78, 6), (79, 7), (80, 6), (81, 7), (82, 6), (83, 5), (84, 6), (85, 5), (86, 6), (87, 7), (88, 8), (89, 7), (90, 6), (91, 7), (92, 6), (93, 5), (94, 6), (95, 7), (96, 8), (97, 7), (98, 8), (99, 7), (100, 8), (101, 9), (102, 10)]\n"
          ],
          "name": "stdout"
        },
        {
          "output_type": "execute_result",
          "data": {
            "text/plain": [
              "[<matplotlib.lines.Line2D at 0x7f700c28fa90>]"
            ]
          },
          "metadata": {
            "tags": []
          },
          "execution_count": 38
        },
        {
          "output_type": "display_data",
          "data": {
            "image/png": "[encoded data removed]",
            "text/plain": [
              "<Figure size 360x360 with 1 Axes>"
            ]
          },
          "metadata": {
            "tags": [],
            "needs_background": "light"
          }
        }
      ]
    },
    {
      "cell_type": "code",
      "metadata": {
        "id": "imjEwUPm3yGQ"
      },
      "source": [],
      "execution_count": null,
      "outputs": []
    }
  ]
}