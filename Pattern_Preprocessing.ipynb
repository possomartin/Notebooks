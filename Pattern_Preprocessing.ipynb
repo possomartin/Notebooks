{
  "nbformat": 4,
  "nbformat_minor": 0,
  "metadata": {
    "colab": {
      "provenance": [],
      "include_colab_link": true
    },
    "kernelspec": {
      "name": "python3",
      "display_name": "Python 3"
    },
    "language_info": {
      "name": "python"
    }
  },
  "cells": [
    {
      "cell_type": "markdown",
      "metadata": {
        "id": "view-in-github",
        "colab_type": "text"
      },
      "source": [
        "<a href=\"https://colab.research.google.com/github/possomartin/Notebooks/blob/main/Pattern_Preprocessing.ipynb\" target=\"_parent\"><img src=\"https://colab.research.google.com/assets/colab-badge.svg\" alt=\"Open In Colab\"/></a>"
      ]
    },
    {
      "cell_type": "markdown",
      "source": [
        "# Pattern preprocessing"
      ],
      "metadata": {
        "id": "CeOnN4yh2Ai8"
      }
    },
    {
      "cell_type": "markdown",
      "source": [
        "> Preprocess the MNIST digits dataset to use as input of a machine learning model\n",
        "\n",
        "Start from the following notbooks:\n",
        "Deepnote\n",
        "* GitHub\n",
        "* Binarize the images.\n",
        "\n",
        "> Perform a feature engineering process on the images. (E.g. mean, standard deviation, row sum/range, columns sum/range).\n",
        "Perform a visualization of the new features grouped by class (digit)."
      ],
      "metadata": {
        "id": "RBCo7WyX2IGV"
      }
    },
    {
      "cell_type": "markdown",
      "source": [
        "### 1. Import Libraries"
      ],
      "metadata": {
        "id": "GKyPCM_h7STl"
      }
    },
    {
      "cell_type": "code",
      "source": [
        "import numpy as np\n",
        "import pandas as pd\n",
        "from matplotlib import pyplot as plt"
      ],
      "metadata": {
        "id": "w-o1lyaT2Hwx"
      },
      "execution_count": null,
      "outputs": []
    },
    {
      "cell_type": "markdown",
      "source": [
        "### 2. Read Dataset"
      ],
      "metadata": {
        "id": "Ec6jiDDB7ZeD"
      }
    },
    {
      "cell_type": "code",
      "source": [
        "data = pd.read_csv('https://raw.githubusercontent.com/sbussmann/kaggle-mnist/master/Data/train.csv')"
      ],
      "metadata": {
        "id": "hDMMAgi84CGA"
      },
      "execution_count": null,
      "outputs": []
    },
    {
      "cell_type": "markdown",
      "source": [
        "### 3. Preprocess data"
      ],
      "metadata": {
        "id": "mV53X7jb7dp-"
      }
    },
    {
      "cell_type": "code",
      "execution_count": null,
      "metadata": {
        "id": "miKnmpuK19TF"
      },
      "outputs": [],
      "source": [
        "data = np.array(data)\n",
        "m, n = data.shape\n",
        "np.random.shuffle(data) # shuffle before splitting into dev and training sets\n",
        "\n",
        "data_dev = data[0:1000].T\n",
        "Y_dev = data_dev[0]\n",
        "X_dev = data_dev[1:n]\n",
        "X_dev = X_dev / 255.\n",
        "\n",
        "data_train = data[1000:m].T\n",
        "Y_train = data_train[0]\n",
        "X_train = data_train[1:n]\n",
        "X_train = X_train / 255.\n",
        "_,m_train = X_train.shape"
      ]
    },
    {
      "cell_type": "code",
      "source": [
        "Y_train"
      ],
      "metadata": {
        "colab": {
          "base_uri": "https://localhost:8080/"
        },
        "id": "Zckg2tjr4BOD",
        "outputId": "11ff635b-39a2-4fbb-c2b0-94277c4f41d9"
      },
      "execution_count": null,
      "outputs": [
        {
          "output_type": "execute_result",
          "data": {
            "text/plain": [
              "array([7, 4, 1, ..., 4, 9, 2])"
            ]
          },
          "metadata": {},
          "execution_count": 9
        }
      ]
    },
    {
      "cell_type": "code",
      "source": [
        "def init_params():\n",
        "    W1 = np.random.rand(10, 784) - 0.5\n",
        "    b1 = np.random.rand(10, 1) - 0.5\n",
        "    W2 = np.random.rand(10, 10) - 0.5\n",
        "    b2 = np.random.rand(10, 1) - 0.5\n",
        "    return W1, b1, W2, b2\n",
        "\n",
        "def ReLU(Z):\n",
        "    return np.maximum(Z, 0)\n",
        "\n",
        "def softmax(Z):\n",
        "    A = np.exp(Z) / sum(np.exp(Z))\n",
        "    return A\n",
        "\n",
        "def forward_prop(W1, b1, W2, b2, X):\n",
        "    Z1 = W1.dot(X) + b1\n",
        "    A1 = ReLU(Z1)\n",
        "    Z2 = W2.dot(A1) + b2\n",
        "    A2 = softmax(Z2)\n",
        "    return Z1, A1, Z2, A2\n",
        "\n",
        "def ReLU_deriv(Z):\n",
        "    return Z > 0\n",
        "\n",
        "def one_hot(Y):\n",
        "    one_hot_Y = np.zeros((Y.size, Y.max() + 1))\n",
        "    one_hot_Y[np.arange(Y.size), Y] = 1\n",
        "    one_hot_Y = one_hot_Y.T\n",
        "    return one_hot_Y\n",
        "\n",
        "def backward_prop(Z1, A1, Z2, A2, W1, W2, X, Y):\n",
        "    one_hot_Y = one_hot(Y)\n",
        "    dZ2 = A2 - one_hot_Y\n",
        "    dW2 = 1 / m * dZ2.dot(A1.T)\n",
        "    db2 = 1 / m * np.sum(dZ2)\n",
        "    dZ1 = W2.T.dot(dZ2) * ReLU_deriv(Z1)\n",
        "    dW1 = 1 / m * dZ1.dot(X.T)\n",
        "    db1 = 1 / m * np.sum(dZ1)\n",
        "    return dW1, db1, dW2, db2\n",
        "\n",
        "def update_params(W1, b1, W2, b2, dW1, db1, dW2, db2, alpha):\n",
        "    W1 = W1 - alpha * dW1\n",
        "    b1 = b1 - alpha * db1\n",
        "    W2 = W2 - alpha * dW2\n",
        "    b2 = b2 - alpha * db2\n",
        "    return W1, b1, W2, b2"
      ],
      "metadata": {
        "id": "iCPYdi_o4MQf"
      },
      "execution_count": null,
      "outputs": []
    },
    {
      "cell_type": "code",
      "source": [
        "def get_predictions(A2):\n",
        "    return np.argmax(A2, 0)\n",
        "\n",
        "def get_accuracy(predictions, Y):\n",
        "    print(predictions, Y)\n",
        "    return np.sum(predictions == Y) / Y.size\n",
        "\n",
        "def gradient_descent(X, Y, alpha, iterations):\n",
        "    W1, b1, W2, b2 = init_params()\n",
        "    for i in range(iterations):\n",
        "        Z1, A1, Z2, A2 = forward_prop(W1, b1, W2, b2, X)\n",
        "        dW1, db1, dW2, db2 = backward_prop(Z1, A1, Z2, A2, W1, W2, X, Y)\n",
        "        W1, b1, W2, b2 = update_params(W1, b1, W2, b2, dW1, db1, dW2, db2, alpha)\n",
        "        if i % 10 == 0:\n",
        "            print(\"Iteration: \", i)\n",
        "            predictions = get_predictions(A2)\n",
        "            print(get_accuracy(predictions, Y))\n",
        "    return W1, b1, W2, b2"
      ],
      "metadata": {
        "id": "mopUkrnE4NbX"
      },
      "execution_count": null,
      "outputs": []
    },
    {
      "cell_type": "code",
      "source": [
        "W1, b1, W2, b2 = gradient_descent(X_train, Y_train, 0.10, 500)"
      ],
      "metadata": {
        "colab": {
          "base_uri": "https://localhost:8080/"
        },
        "id": "1nIRg6f54PV-",
        "outputId": "651895d7-c0e7-4529-c0ca-2368fdedc74b"
      },
      "execution_count": null,
      "outputs": [
        {
          "output_type": "stream",
          "name": "stdout",
          "text": [
            "Iteration:  0\n",
            "[1 4 0 ... 4 4 4] [7 4 1 ... 4 9 2]\n",
            "0.07082926829268292\n",
            "Iteration:  10\n",
            "[1 4 1 ... 4 4 2] [7 4 1 ... 4 9 2]\n",
            "0.24009756097560975\n",
            "Iteration:  20\n",
            "[3 4 8 ... 4 4 2] [7 4 1 ... 4 9 2]\n",
            "0.32834146341463416\n",
            "Iteration:  30\n",
            "[3 4 8 ... 4 4 2] [7 4 1 ... 4 9 2]\n",
            "0.4339268292682927\n",
            "Iteration:  40\n",
            "[5 4 8 ... 7 4 2] [7 4 1 ... 4 9 2]\n",
            "0.503219512195122\n",
            "Iteration:  50\n",
            "[7 4 8 ... 7 4 2] [7 4 1 ... 4 9 2]\n",
            "0.5507317073170732\n",
            "Iteration:  60\n",
            "[7 4 8 ... 7 4 2] [7 4 1 ... 4 9 2]\n",
            "0.5812682926829268\n",
            "Iteration:  70\n",
            "[7 4 8 ... 9 4 2] [7 4 1 ... 4 9 2]\n",
            "0.6064390243902439\n",
            "Iteration:  80\n",
            "[7 4 8 ... 9 4 2] [7 4 1 ... 4 9 2]\n",
            "0.6274146341463415\n",
            "Iteration:  90\n",
            "[7 4 8 ... 9 4 2] [7 4 1 ... 4 9 2]\n",
            "0.6452926829268293\n",
            "Iteration:  100\n",
            "[7 4 8 ... 9 4 2] [7 4 1 ... 4 9 2]\n",
            "0.660829268292683\n",
            "Iteration:  110\n",
            "[7 4 8 ... 9 4 2] [7 4 1 ... 4 9 2]\n",
            "0.6747804878048781\n",
            "Iteration:  120\n",
            "[7 4 8 ... 9 4 2] [7 4 1 ... 4 9 2]\n",
            "0.6857317073170732\n",
            "Iteration:  130\n",
            "[7 4 8 ... 9 4 2] [7 4 1 ... 4 9 2]\n",
            "0.6969024390243902\n",
            "Iteration:  140\n",
            "[7 4 8 ... 9 9 2] [7 4 1 ... 4 9 2]\n",
            "0.7077317073170731\n",
            "Iteration:  150\n",
            "[7 4 1 ... 9 9 2] [7 4 1 ... 4 9 2]\n",
            "0.7179024390243902\n",
            "Iteration:  160\n",
            "[7 4 1 ... 4 9 2] [7 4 1 ... 4 9 2]\n",
            "0.7269024390243902\n",
            "Iteration:  170\n",
            "[7 4 1 ... 4 9 2] [7 4 1 ... 4 9 2]\n",
            "0.7343414634146341\n",
            "Iteration:  180\n",
            "[7 4 1 ... 4 9 2] [7 4 1 ... 4 9 2]\n",
            "0.7426341463414634\n",
            "Iteration:  190\n",
            "[7 4 1 ... 4 9 2] [7 4 1 ... 4 9 2]\n",
            "0.7491707317073171\n",
            "Iteration:  200\n",
            "[7 4 1 ... 4 9 2] [7 4 1 ... 4 9 2]\n",
            "0.7560487804878049\n",
            "Iteration:  210\n",
            "[7 4 1 ... 4 9 2] [7 4 1 ... 4 9 2]\n",
            "0.7615609756097561\n",
            "Iteration:  220\n",
            "[7 4 1 ... 4 9 2] [7 4 1 ... 4 9 2]\n",
            "0.7671219512195122\n",
            "Iteration:  230\n",
            "[7 4 1 ... 4 9 2] [7 4 1 ... 4 9 2]\n",
            "0.7717073170731708\n",
            "Iteration:  240\n",
            "[7 4 1 ... 4 9 2] [7 4 1 ... 4 9 2]\n",
            "0.776\n",
            "Iteration:  250\n",
            "[7 4 1 ... 4 9 2] [7 4 1 ... 4 9 2]\n",
            "0.780829268292683\n",
            "Iteration:  260\n",
            "[7 4 1 ... 4 9 2] [7 4 1 ... 4 9 2]\n",
            "0.7849756097560976\n",
            "Iteration:  270\n",
            "[7 4 1 ... 4 9 2] [7 4 1 ... 4 9 2]\n",
            "0.7891707317073171\n",
            "Iteration:  280\n",
            "[7 4 1 ... 4 9 2] [7 4 1 ... 4 9 2]\n",
            "0.7925609756097561\n",
            "Iteration:  290\n",
            "[7 4 1 ... 4 9 2] [7 4 1 ... 4 9 2]\n",
            "0.7958536585365854\n",
            "Iteration:  300\n",
            "[7 4 1 ... 4 9 2] [7 4 1 ... 4 9 2]\n",
            "0.7996585365853659\n",
            "Iteration:  310\n",
            "[7 4 1 ... 4 9 2] [7 4 1 ... 4 9 2]\n",
            "0.8025365853658537\n",
            "Iteration:  320\n",
            "[7 4 1 ... 4 9 2] [7 4 1 ... 4 9 2]\n",
            "0.8053170731707318\n",
            "Iteration:  330\n",
            "[7 4 1 ... 4 9 2] [7 4 1 ... 4 9 2]\n",
            "0.8083902439024391\n",
            "Iteration:  340\n",
            "[7 4 1 ... 4 9 2] [7 4 1 ... 4 9 2]\n",
            "0.8111219512195122\n",
            "Iteration:  350\n",
            "[7 4 1 ... 4 9 2] [7 4 1 ... 4 9 2]\n",
            "0.8140731707317073\n",
            "Iteration:  360\n",
            "[7 4 1 ... 4 9 2] [7 4 1 ... 4 9 2]\n",
            "0.8164878048780487\n",
            "Iteration:  370\n",
            "[7 4 1 ... 4 9 2] [7 4 1 ... 4 9 2]\n",
            "0.8189024390243902\n",
            "Iteration:  380\n",
            "[7 4 1 ... 4 9 2] [7 4 1 ... 4 9 2]\n",
            "0.8213170731707317\n",
            "Iteration:  390\n",
            "[7 4 1 ... 4 9 2] [7 4 1 ... 4 9 2]\n",
            "0.8232926829268292\n",
            "Iteration:  400\n",
            "[7 4 1 ... 4 9 2] [7 4 1 ... 4 9 2]\n",
            "0.825780487804878\n",
            "Iteration:  410\n",
            "[7 4 1 ... 4 9 2] [7 4 1 ... 4 9 2]\n",
            "0.8280975609756097\n",
            "Iteration:  420\n",
            "[7 4 1 ... 4 9 2] [7 4 1 ... 4 9 2]\n",
            "0.8300975609756097\n",
            "Iteration:  430\n",
            "[7 4 1 ... 4 9 2] [7 4 1 ... 4 9 2]\n",
            "0.8322439024390244\n",
            "Iteration:  440\n",
            "[7 4 1 ... 4 9 2] [7 4 1 ... 4 9 2]\n",
            "0.8339268292682926\n",
            "Iteration:  450\n",
            "[7 4 1 ... 4 9 2] [7 4 1 ... 4 9 2]\n",
            "0.8357560975609756\n",
            "Iteration:  460\n",
            "[7 4 1 ... 4 9 2] [7 4 1 ... 4 9 2]\n",
            "0.8372926829268292\n",
            "Iteration:  470\n",
            "[7 4 1 ... 4 9 2] [7 4 1 ... 4 9 2]\n",
            "0.8390731707317073\n",
            "Iteration:  480\n",
            "[7 4 1 ... 4 9 2] [7 4 1 ... 4 9 2]\n",
            "0.840390243902439\n",
            "Iteration:  490\n",
            "[7 4 1 ... 4 9 2] [7 4 1 ... 4 9 2]\n",
            "0.8420731707317073\n"
          ]
        }
      ]
    },
    {
      "cell_type": "code",
      "source": [
        "def make_predictions(X, W1, b1, W2, b2):\n",
        "    _, _, _, A2 = forward_prop(W1, b1, W2, b2, X)\n",
        "    predictions = get_predictions(A2)\n",
        "    return predictions\n",
        "\n",
        "def test_prediction(index, W1, b1, W2, b2):\n",
        "    current_image = X_train[:, index, None]\n",
        "    prediction = make_predictions(X_train[:, index, None], W1, b1, W2, b2)\n",
        "    label = Y_train[index]\n",
        "    print(\"Prediction: \", prediction)\n",
        "    print(\"Label: \", label)\n",
        "\n",
        "    current_image = current_image.reshape((28, 28)) * 255\n",
        "    plt.gray()\n",
        "    plt.imshow(current_image, interpolation='nearest')\n",
        "    plt.show()"
      ],
      "metadata": {
        "id": "vZDEA7eF4WEx"
      },
      "execution_count": null,
      "outputs": []
    },
    {
      "cell_type": "code",
      "source": [
        "test_prediction(0, W1, b1, W2, b2)\n",
        "test_prediction(1, W1, b1, W2, b2)\n",
        "test_prediction(2, W1, b1, W2, b2)\n",
        "test_prediction(3, W1, b1, W2, b2)"
      ],
      "metadata": {
        "colab": {
          "base_uri": "https://localhost:8080/",
          "height": 1000
        },
        "id": "TssDZRk-4bMN",
        "outputId": "da1f433a-fe42-4e72-a45d-21b08a69be96"
      },
      "execution_count": null,
      "outputs": [
        {
          "output_type": "stream",
          "name": "stdout",
          "text": [
            "Prediction:  [7]\n",
            "Label:  7\n"
          ]
        },
        {
          "output_type": "display_data",
          "data": {
            "text/plain": [
              "<Figure size 432x288 with 1 Axes>"
            ],
            "image/png": "[encoded data removed]"
          },
          "metadata": {
            "needs_background": "light"
          }
        },
        {
          "output_type": "stream",
          "name": "stdout",
          "text": [
            "Prediction:  [4]\n",
            "Label:  4\n"
          ]
        },
        {
          "output_type": "display_data",
          "data": {
            "text/plain": [
              "<Figure size 432x288 with 1 Axes>"
            ],
            "image/png": "[encoded data removed]"
          },
          "metadata": {
            "needs_background": "light"
          }
        },
        {
          "output_type": "stream",
          "name": "stdout",
          "text": [
            "Prediction:  [1]\n",
            "Label:  1\n"
          ]
        },
        {
          "output_type": "display_data",
          "data": {
            "text/plain": [
              "<Figure size 432x288 with 1 Axes>"
            ],
            "image/png": "[encoded data removed]"
          },
          "metadata": {
            "needs_background": "light"
          }
        },
        {
          "output_type": "stream",
          "name": "stdout",
          "text": [
            "Prediction:  [1]\n",
            "Label:  1\n"
          ]
        },
        {
          "output_type": "display_data",
          "data": {
            "text/plain": [
              "<Figure size 432x288 with 1 Axes>"
            ],
            "image/png": "[encoded data removed]"
          },
          "metadata": {
            "needs_background": "light"
          }
        }
      ]
    },
    {
      "cell_type": "code",
      "source": [],
      "metadata": {
        "id": "sVmCq2_C54oU"
      },
      "execution_count": null,
      "outputs": []
    }
  ]
}