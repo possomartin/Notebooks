{
  "cells": [
    {
      "cell_type": "markdown",
      "metadata": {
        "id": "view-in-github",
        "colab_type": "text"
      },
      "source": [
        "<a href=\"https://colab.research.google.com/github/possomartin/Notebooks/blob/main/elementary_cellular_automata.ipynb\" target=\"_parent\"><img src=\"https://colab.research.google.com/assets/colab-badge.svg\" alt=\"Open In Colab\"/></a>"
      ]
    },
    {
      "cell_type": "markdown",
      "source": [
        "#UDLA\n",
        "#ISWZ3401-2626_2627-INTELIGENCIA ARTIFICIAL I\n",
        "\n",
        "\n",
        "---\n",
        "\n",
        "\n",
        "# Integrantes\n",
        "\n",
        "* Kevin Coloma\n",
        "* Fernando Orbe\n",
        "* Martin Posso\n",
        "\n",
        "\n",
        "---"
      ],
      "metadata": {
        "id": "BadeBau-jki1"
      }
    },
    {
      "cell_type": "markdown",
      "source": [
        "# Elementary cellular automata\n",
        "\n",
        "The simplest class of one-dimensional cellular automata, the elementary cellular automata, have two possible values for each cell (0 or 1), and rules that depend only on nearest neighbor values.\n",
        "\n",
        "![](https://natureofcode.com/book/imgs/chapter07/ch07_03.png)\n",
        "\n",
        "As a result, the evolution of an elementary cellular automaton can completely be described by a table specifying the state a given cell will have in the next generation based on the value of the cell to its left, the value the cell itself, and the value of the cell to its right.\n",
        "\n",
        "![](https://natureofcode.com/book/imgs/chapter07/ch07_04.png)\n",
        "\n",
        "Since there are $2\\times2\\times2=2^3=8$ possible binary states for the three cells neighboring a given cell, there are a total of $2^8=256$ elementary cellular automata, each of which can be indexed with an 8-bit binary number (Wolfram 1983, 2002).\n",
        "\n",
        "For example, the table giving the evolution of rule 90 is illustrated below. In this diagram, the possible values of the three neighboring cells are shown in the top row of each panel, and the resulting value the central cell takes in the next generation is shown below. ￼\n",
        "\n",
        "![](https://natureofcode.com/book/imgs/chapter07/ch07_11.png)\n",
        "\n",
        "Generations of the elementary cellular automata for rule 90 is:\n",
        "\n",
        "![](https://natureofcode.com/book/imgs/chapter07/ch07_12.png)\n",
        "\n",
        "- **Note:** mind on how you start the automata (initial state), and what to do with the borders.\n",
        "\n",
        "### Resources\n",
        "\n",
        "- https://mathworld.wolfram.com/ElementaryCellularAutomaton.html\n",
        "- https://natureofcode.com/book/chapter-7-cellular-automata/\n",
        "\n",
        "## Implement an elementary cellular autamata:\n",
        "\n",
        "![](https://mathworld.wolfram.com/images/eps-gif/ElementaryCA_850.gif)\n",
        "\n",
        "### Trabajo Autónomo:\n",
        "\n",
        "1. Cuando el CA llegue a la parte inferior de la ventana de procesamiento, el CA comienza de nuevo con un nuevo conjunto de reglas al azar.\n",
        "2. Examine lo que ocurre si se inicializa la primera generación, con cada célula en un estado aleatorio.\n",
        "3. Visualice el CA de una manera no tradicional. Rompa todas las reglas que pueda; no se sienta atado a la utilización de los lugares en una cuadrícula perfecta con blanco y negro.\n",
        "4. Crear una visualización del CA que se desplaza hacia arriba, con el aumento generaciones, para que pueda ver las generaciones de forma \"infinita\". Sugerencia: en lugar de hacer el seguimiento de sólo una generación a la vez, tendrá que almacenar un historial de las generaciones, siempre añadiendo una nueva y eliminar la más antigua de cada fotograma.\n",
        "5. Cierre los bordes del autómata celular."
      ],
      "metadata": {
        "cell_id": "f0c7aec8-72bb-4133-ab51-e72d47782024",
        "deepnote_cell_type": "markdown",
        "deepnote_cell_height": 1020.09375,
        "id": "sUlBnUdDjLch"
      }
    },
    {
      "cell_type": "code",
      "source": [
        "#IMPORTS\n",
        "import random as rand\n",
        "import numpy as np\n",
        "import matplotlib.pyplot as plt\n",
        "from scipy.stats import bernoulli"
      ],
      "metadata": {
        "id": "PzCVKmF4nCJW"
      },
      "execution_count": null,
      "outputs": []
    },
    {
      "cell_type": "code",
      "source": [
        "# FUNCTIONS DECLARATIONS\n",
        "\n",
        "def rule_to_binary(rule):\n",
        "    return bin(rule)[2:].rjust(8, '0')[::-1]  # reversed binary rule\n",
        "\n",
        "def get_neighborhood(CA, cell_i):\n",
        "    return ''.join(CA[cell_i-1:cell_i+2].astype('str'))\n",
        "\n",
        "def update_automata(CA, binary_rule):\n",
        "    CAU = CA.copy()  # CAU, state in t+1\n",
        "    for cell_i in range(1, len(CA)-1):\n",
        "        CAU[cell_i] = binary_rule[int(get_neighborhood(CA, cell_i), 2)]\n",
        "\n",
        "    return CAU\n",
        "\n",
        "def wolfram_initialization(size):\n",
        "    CA = np.zeros(size, dtype='int')\n",
        "    CA[len(CA)//2] = 1\n",
        "    return CA"
      ],
      "metadata": {
        "id": "JAqoBKNEnGWM"
      },
      "execution_count": null,
      "outputs": []
    },
    {
      "cell_type": "code",
      "metadata": {
        "tags": [],
        "deepnote_to_be_reexecuted": false,
        "source_hash": "5cc07ef0",
        "execution_start": 1643147981996,
        "execution_millis": 424,
        "cell_id": "00001-d69ccfb8-b8b6-4f15-89ff-f13b94efaf9d",
        "owner_user_id": "1a15c8b5-c70b-4bb0-9bf8-ab47b30a5e81",
        "deepnote_cell_type": "code",
        "deepnote_cell_height": 1049.1875,
        "deepnote_output_heights": [
          21.1875,
          306
        ],
        "colab": {
          "base_uri": "https://localhost:8080/",
          "height": 339
        },
        "id": "OQ_2GtshjLcl",
        "outputId": "6639b6a7-5a21-4bd2-97bf-4dfc0f9a26fb"
      },
      "source": [
        "\n",
        "size = 251  # size of the automata\n",
        "steps = 300  # time steps\n",
        "#randomNumber = rand.randint(0, 256)\n",
        "#print(randomNumber)\n",
        "#rule = randomNumber  # decimal rule\n",
        "rule = 90\n",
        "binary_rule = rule_to_binary(rule)\n",
        "CA = [wolfram_initialization(size)]  # state in time 0\n",
        "\n",
        "# Evolve the automata for t steps\n",
        "for t in range(steps):\n",
        "    CA += [update_automata(CA[-1], binary_rule)]\n",
        "\n",
        "plt.matshow(CA)"
      ],
      "execution_count": null,
      "outputs": [
        {
          "output_type": "execute_result",
          "data": {
            "text/plain": [
              "<matplotlib.image.AxesImage at 0x7f7a9294a8d0>"
            ]
          },
          "metadata": {},
          "execution_count": 120
        },
        {
          "output_type": "display_data",
          "data": {
            "text/plain": [
              "<Figure size 288x345.371 with 1 Axes>"
            ],
            "image/png": "[encoded data removed]"
          },
          "metadata": {
            "needs_background": "light"
          }
        }
      ]
    },
    {
      "cell_type": "code",
      "metadata": {
        "tags": [],
        "deepnote_to_be_reexecuted": false,
        "source_hash": "51a56370",
        "execution_start": 1643069849853,
        "execution_millis": 8,
        "cell_id": "00002-25a575f4-ff3d-4f28-8095-c8681af0450c",
        "deepnote_cell_type": "code",
        "deepnote_cell_height": 118.1875,
        "id": "a4T8GvxUjLcn",
        "outputId": "4c6adf14-7fd9-4976-c2b0-e1dd595afc6c"
      },
      "source": [
        "bin(90)[2:].rjust(8, '0')[::-1], int('01011010', 2)"
      ],
      "execution_count": null,
      "outputs": [
        {
          "output_type": "execute_result",
          "execution_count": 13,
          "data": {
            "text/plain": "('01011010', 90)"
          },
          "metadata": {}
        }
      ]
    },
    {
      "cell_type": "code",
      "metadata": {
        "tags": [],
        "deepnote_to_be_reexecuted": false,
        "source_hash": "e5f70e55",
        "execution_start": 1643070083057,
        "execution_millis": 3,
        "cell_id": "00003-db6ccadf-917a-4172-97e6-59ec49c80bd5",
        "deepnote_cell_type": "code",
        "deepnote_cell_height": 154.1875,
        "id": "bNef9iaXjLco",
        "outputId": "7a0c4e7a-b52b-4d44-8d0f-99ed08b0d5eb"
      },
      "source": [
        "CA = bernoulli.rvs(0.5, size=10)\n",
        "cell_i = 4\n",
        "CA, CA[4]"
      ],
      "execution_count": null,
      "outputs": [
        {
          "output_type": "execute_result",
          "execution_count": 20,
          "data": {
            "text/plain": "(array([0, 0, 1, 0, 1, 1, 1, 0, 1, 1]), 1)"
          },
          "metadata": {}
        }
      ]
    },
    {
      "cell_type": "code",
      "metadata": {
        "tags": [],
        "deepnote_to_be_reexecuted": false,
        "source_hash": "d5ad7a54",
        "execution_start": 1643070229472,
        "execution_millis": 5,
        "cell_id": "00004-b907cf2e-5ed2-41de-a445-e664d5d728a7",
        "deepnote_cell_type": "code",
        "deepnote_cell_height": 118.1875,
        "deepnote_output_heights": [
          21.1875
        ],
        "id": "cGuam2hzjLco",
        "outputId": "52e38635-3367-421b-9cbc-b0c5075eb90e"
      },
      "source": [
        "''.join(CA[cell_i-1:cell_i+2].astype('str'))"
      ],
      "execution_count": null,
      "outputs": [
        {
          "output_type": "execute_result",
          "execution_count": 25,
          "data": {
            "text/plain": "'011'"
          },
          "metadata": {}
        }
      ]
    },
    {
      "cell_type": "code",
      "metadata": {
        "tags": [],
        "deepnote_to_be_reexecuted": false,
        "source_hash": "1a22eea8",
        "execution_start": 1643070584025,
        "execution_millis": 5,
        "cell_id": "00005-1f75f33b-d7b4-4f0a-88a9-a09ad8c73e9a",
        "deepnote_cell_type": "code",
        "deepnote_cell_height": 154.1875,
        "deepnote_output_heights": [
          21.1875
        ],
        "id": "QaqzsU0ejLcp",
        "outputId": "69ae7006-9727-4326-c590-8b2ac1b9c0f7"
      },
      "source": [
        "CA = np.zeros(11, dtype='int')\n",
        "CA[len(CA)//2] = 1\n",
        "CA"
      ],
      "execution_count": null,
      "outputs": [
        {
          "output_type": "execute_result",
          "execution_count": 29,
          "data": {
            "text/plain": "array([0, 0, 0, 0, 0, 1, 0, 0, 0, 0, 0])"
          },
          "metadata": {}
        }
      ]
    },
    {
      "cell_type": "code",
      "metadata": {
        "tags": [],
        "cell_id": "00006-5f36b47f-cb17-4cd5-a055-e9ba6402ea3b",
        "deepnote_cell_type": "code",
        "deepnote_cell_height": 66,
        "id": "4RIs_jxejLcp"
      },
      "source": [],
      "execution_count": null,
      "outputs": []
    },
    {
      "cell_type": "markdown",
      "source": [
        "#Deber automatas celulares\n",
        "* Examine lo que ocurre si se inicializa la primera generación, con cada célula en un estado aleatorio, donde la probabilidad que aparezca un 1 es p, Math input error(P(Celli​=1)=p), pruebe diferentes valores de Math input errorp∈{0.25,0.5,0,75}).\n",
        " * Vea la regla 184 para diferentes valores de Math input errorp: https://en.wikipedia.org/wiki/Rule_184\n"
      ],
      "metadata": {
        "id": "qtKpNjJNj-0D"
      }
    },
    {
      "cell_type": "markdown",
      "source": [
        "Probabilidades de 0.75, 0.25, 0.5"
      ],
      "metadata": {
        "id": "EfyhIwsqEm5q"
      }
    },
    {
      "cell_type": "code",
      "source": [
        "bernoulli.rvs(p=0.75, size=(1,1))[0][0], bernoulli.rvs(p=0.25, size=(1,1))[0][0], bernoulli.rvs(p=0.5, size=(1,1))[0][0]"
      ],
      "metadata": {
        "colab": {
          "base_uri": "https://localhost:8080/"
        },
        "id": "uZjzHMj5Eaqn",
        "outputId": "a28d2152-03bb-46f6-e36e-b710218e0ed3"
      },
      "execution_count": null,
      "outputs": [
        {
          "output_type": "execute_result",
          "data": {
            "text/plain": [
              "(0, 0, 1)"
            ]
          },
          "metadata": {},
          "execution_count": 94
        }
      ]
    },
    {
      "cell_type": "code",
      "source": [
        "def wolfram_initialization(size, p):\n",
        "    CA = np.zeros(size, dtype='int')\n",
        "    CA[len(CA)//2] = bernoulli.rvs(p, size=(1,1))[0][0]\n",
        "    return CA"
      ],
      "metadata": {
        "id": "dss0Jz1SERAA"
      },
      "execution_count": null,
      "outputs": []
    },
    {
      "cell_type": "code",
      "source": [
        "size = 251  # size of the automata\n",
        "steps = 300  # time steps\n",
        "#randomNumber = rand.randint(0, 256)\n",
        "#print(randomNumber)\n",
        "#rule = randomNumber  # decimal rule\n",
        "rule = 90\n",
        "binary_rule = rule_to_binary(rule)\n",
        "CA = [wolfram_initialization(size, p=0.25)]  # state in time 0\n",
        "\n",
        "# Evolve the automata for t steps\n",
        "for t in range(steps):\n",
        "    CA += [update_automata(CA[-1], binary_rule)]\n",
        "\n",
        "plt.matshow(CA)"
      ],
      "metadata": {
        "colab": {
          "base_uri": "https://localhost:8080/",
          "height": 339
        },
        "id": "DpDK99AGkgpf",
        "outputId": "9b53b4f6-ab45-484f-c92b-f88e8b7820a7"
      },
      "execution_count": null,
      "outputs": [
        {
          "output_type": "execute_result",
          "data": {
            "text/plain": [
              "<matplotlib.image.AxesImage at 0x7f7a92db9c50>"
            ]
          },
          "metadata": {},
          "execution_count": 102
        },
        {
          "output_type": "display_data",
          "data": {
            "text/plain": [
              "<Figure size 288x345.371 with 1 Axes>"
            ],
            "image/png": "[encoded data removed]"
          },
          "metadata": {
            "needs_background": "light"
          }
        }
      ]
    },
    {
      "cell_type": "code",
      "source": [
        "size = 251  # size of the automata\n",
        "steps = 300  # time steps\n",
        "#randomNumber = rand.randint(0, 256)\n",
        "#print(randomNumber)\n",
        "#rule = randomNumber  # decimal rule\n",
        "rule = 90\n",
        "binary_rule = rule_to_binary(rule)\n",
        "CA = [wolfram_initialization(size, p=0.5)]  # state in time 0\n",
        "\n",
        "# Evolve the automata for t steps\n",
        "for t in range(steps):\n",
        "    CA += [update_automata(CA[-1], binary_rule)]\n",
        "\n",
        "plt.matshow(CA)"
      ],
      "metadata": {
        "colab": {
          "base_uri": "https://localhost:8080/",
          "height": 339
        },
        "id": "JoBxGMCCE8rg",
        "outputId": "cd6704f5-5eb8-4730-ca37-464a5bc98049"
      },
      "execution_count": null,
      "outputs": [
        {
          "output_type": "execute_result",
          "data": {
            "text/plain": [
              "<matplotlib.image.AxesImage at 0x7f7a92a23850>"
            ]
          },
          "metadata": {},
          "execution_count": 111
        },
        {
          "output_type": "display_data",
          "data": {
            "text/plain": [
              "<Figure size 288x345.371 with 1 Axes>"
            ],
            "image/png": "[encoded data removed]"
          },
          "metadata": {
            "needs_background": "light"
          }
        }
      ]
    },
    {
      "cell_type": "code",
      "source": [
        "size = 251  # size of the automata\n",
        "steps = 300  # time steps\n",
        "#randomNumber = rand.randint(0, 256)\n",
        "#print(randomNumber)\n",
        "#rule = randomNumber  # decimal rule\n",
        "rule = 90\n",
        "binary_rule = rule_to_binary(rule)\n",
        "CA = [wolfram_initialization(size, p=0.75)]  # state in time 0\n",
        "\n",
        "# Evolve the automata for t steps\n",
        "for t in range(steps):\n",
        "    CA += [update_automata(CA[-1], binary_rule)]\n",
        "\n",
        "plt.matshow(CA)"
      ],
      "metadata": {
        "colab": {
          "base_uri": "https://localhost:8080/",
          "height": 339
        },
        "id": "y_c8El0IFB13",
        "outputId": "8f2b129f-50f8-4147-f40e-e9a779d358eb"
      },
      "execution_count": null,
      "outputs": [
        {
          "output_type": "execute_result",
          "data": {
            "text/plain": [
              "<matplotlib.image.AxesImage at 0x7f7a92a3b150>"
            ]
          },
          "metadata": {},
          "execution_count": 110
        },
        {
          "output_type": "display_data",
          "data": {
            "text/plain": [
              "<Figure size 288x345.371 with 1 Axes>"
            ],
            "image/png": "[encoded data removed]"
          },
          "metadata": {
            "needs_background": "light"
          }
        }
      ]
    },
    {
      "cell_type": "markdown",
      "source": [
        "    Dependiendo del numero de probabilidad de que aparezca un 1, vemos como se genera el automata"
      ],
      "metadata": {
        "id": "Qzw7_rGWFaJT"
      }
    },
    {
      "cell_type": "markdown",
      "source": [
        "* Cierre los bordes del autómata celular.\n"
      ],
      "metadata": {
        "id": "J9j3nuNCkhKo"
      }
    },
    {
      "cell_type": "code",
      "source": [
        "def update_automata(CA, binary_rule):\n",
        "    CAU = CA.copy()  # CAU, state in t+1\n",
        "    for cell_i in range(1, len(CA)):\n",
        "        CAU[cell_i] = binary_rule[int(get_neighborhood(CA, cell_i), 2)]\n",
        "\n",
        "    return CAU"
      ],
      "metadata": {
        "id": "HdSPJXUbGA_7"
      },
      "execution_count": null,
      "outputs": []
    },
    {
      "cell_type": "markdown",
      "source": [
        "Función Update Automata sin cerrar bordes"
      ],
      "metadata": {
        "id": "MSutp2NCHYY0"
      }
    },
    {
      "cell_type": "code",
      "source": [
        "size = 251  # size of the automata\n",
        "steps = 300  # time steps\n",
        "#randomNumber = rand.randint(0, 256)\n",
        "#print(randomNumber)\n",
        "#rule = randomNumber  # decimal rule\n",
        "rule = 214\n",
        "binary_rule = rule_to_binary(rule)\n",
        "CA = [wolfram_initialization(size)]  # state in time 0\n",
        "\n",
        "# Evolve the automata for t steps\n",
        "for t in range(steps):\n",
        "    CA += [update_automata(CA[-1], binary_rule)]\n",
        "\n",
        "plt.matshow(CA)"
      ],
      "metadata": {
        "colab": {
          "base_uri": "https://localhost:8080/",
          "height": 339
        },
        "id": "ahpDxE7pHOKP",
        "outputId": "cad30cc2-a2cb-4c23-b283-5dfd3cc28d16"
      },
      "execution_count": null,
      "outputs": [
        {
          "output_type": "execute_result",
          "data": {
            "text/plain": [
              "<matplotlib.image.AxesImage at 0x7f7a92436750>"
            ]
          },
          "metadata": {},
          "execution_count": 136
        },
        {
          "output_type": "display_data",
          "data": {
            "text/plain": [
              "<Figure size 288x345.371 with 1 Axes>"
            ],
            "image/png": "[encoded data removed]"
          },
          "metadata": {
            "needs_background": "light"
          }
        }
      ]
    },
    {
      "cell_type": "markdown",
      "source": [
        "Funcion Update Automata cerrando bordes"
      ],
      "metadata": {
        "id": "rrQFa1IFHezG"
      }
    },
    {
      "cell_type": "code",
      "source": [
        "size = 251  # size of the automata\n",
        "steps = 300  # time steps\n",
        "randomNumber = rand.randint(0, 256)\n",
        "print(randomNumber)\n",
        "rule = 214  # decimal rule\n",
        "#rule = rand.randint(0, 256)\n",
        "binary_rule = rule_to_binary(rule)\n",
        "CA = [wolfram_initialization(size)]  # state in time 0\n",
        "\n",
        "# Evolve the automata for t steps\n",
        "for t in range(steps):\n",
        "    CA += [update_automata(CA[-1], binary_rule)]\n",
        "\n",
        "plt.matshow(CA)"
      ],
      "metadata": {
        "colab": {
          "base_uri": "https://localhost:8080/",
          "height": 358
        },
        "id": "oo9P2XFmkjnx",
        "outputId": "463d7f98-bfff-4629-b76a-6e414818787b"
      },
      "execution_count": null,
      "outputs": [
        {
          "output_type": "stream",
          "name": "stdout",
          "text": [
            "250\n"
          ]
        },
        {
          "output_type": "execute_result",
          "data": {
            "text/plain": [
              "<matplotlib.image.AxesImage at 0x7f7a91c650d0>"
            ]
          },
          "metadata": {},
          "execution_count": 175
        },
        {
          "output_type": "display_data",
          "data": {
            "text/plain": [
              "<Figure size 288x345.371 with 1 Axes>"
            ],
            "image/png": "[encoded data removed]"
          },
          "metadata": {
            "needs_background": "light"
          }
        }
      ]
    },
    {
      "cell_type": "markdown",
      "source": [
        "* Realice una actualización asíncrona:\n",
        " * Implemente alguno de los siguientes esquemas:\n",
        "    * Random independent scheme - at each time step, a given number of cell is chosen at random with replacement, and updated.\n",
        "    * The random order scheme - at each time step, all nodes are updated, but in random order.\n",
        "    * The cyclic scheme - at each time step a node is chosen according to a fixed update order, which was decided at random during initialisation of the model.\n",
        " * Vea: https://en.wikipedia.org/wiki/Asynchronous_cellular_automaton    "
      ],
      "metadata": {
        "id": "Y0NKi3RZkj2A"
      }
    },
    {
      "cell_type": "code",
      "source": [
        "def update_automata(CA, binary_rule):\n",
        "    CAU = CA.copy()  # CAU, state in t+1\n",
        "    np.random.shuffle(CAU)\n",
        "    for cell_i in range(1, len(CA)-1):\n",
        "        CAU[cell_i] = binary_rule[int(get_neighborhood(CA, cell_i), 2)]\n",
        "\n",
        "    return CAU"
      ],
      "metadata": {
        "id": "XzPbUk64knpw"
      },
      "execution_count": null,
      "outputs": []
    },
    {
      "cell_type": "markdown",
      "source": [
        "Updated cell with normal order"
      ],
      "metadata": {
        "id": "_jH3fhvoJGOy"
      }
    },
    {
      "cell_type": "code",
      "source": [
        "size = 251  # size of the automata\n",
        "steps = 300  # time steps\n",
        "#randomNumber = rand.randint(0, 256)\n",
        "#print(randomNumber)\n",
        "#rule = randomNumber  # decimal rule\n",
        "rule = 90\n",
        "binary_rule = rule_to_binary(rule)\n",
        "CA = [wolfram_initialization(size)]  # state in time 0\n",
        "\n",
        "# Evolve the automata for t steps\n",
        "for t in range(steps):\n",
        "    CA += [update_automata(CA[-1], binary_rule)]\n",
        "\n",
        "plt.matshow(CA)"
      ],
      "metadata": {
        "colab": {
          "base_uri": "https://localhost:8080/",
          "height": 339
        },
        "id": "aHtCkz3cJA9N",
        "outputId": "14c8e809-ab59-481e-8952-7683454915bb"
      },
      "execution_count": null,
      "outputs": [
        {
          "output_type": "execute_result",
          "data": {
            "text/plain": [
              "<matplotlib.image.AxesImage at 0x7f7a9206d990>"
            ]
          },
          "metadata": {},
          "execution_count": 164
        },
        {
          "output_type": "display_data",
          "data": {
            "text/plain": [
              "<Figure size 288x345.371 with 1 Axes>"
            ],
            "image/png": "[encoded data removed]"
          },
          "metadata": {
            "needs_background": "light"
          }
        }
      ]
    },
    {
      "cell_type": "markdown",
      "source": [
        "Updated cell with random order at each step"
      ],
      "metadata": {
        "id": "j7oV0IzLJKLt"
      }
    },
    {
      "cell_type": "code",
      "source": [
        "size = 251  # size of the automata\n",
        "steps = 300  # time steps\n",
        "#randomNumber = rand.randint(0, 256)\n",
        "#print(randomNumber)\n",
        "#rule = randomNumber  # decimal rule\n",
        "rule = 90\n",
        "binary_rule = rule_to_binary(rule)\n",
        "CA = [wolfram_initialization(size)]  # state in time 0\n",
        "\n",
        "# Evolve the automata for t steps\n",
        "for t in range(steps):\n",
        "    CA += [update_automata(CA[-1], binary_rule)]\n",
        "\n",
        "plt.matshow(CA)"
      ],
      "metadata": {
        "colab": {
          "base_uri": "https://localhost:8080/",
          "height": 339
        },
        "id": "llvR-9sgH7ta",
        "outputId": "54306276-0528-4be3-cd75-c5370ca5332b"
      },
      "execution_count": null,
      "outputs": [
        {
          "output_type": "execute_result",
          "data": {
            "text/plain": [
              "<matplotlib.image.AxesImage at 0x7f7a91e66810>"
            ]
          },
          "metadata": {},
          "execution_count": 168
        },
        {
          "output_type": "display_data",
          "data": {
            "text/plain": [
              "<Figure size 288x345.371 with 1 Axes>"
            ],
            "image/png": "[encoded data removed]"
          },
          "metadata": {
            "needs_background": "light"
          }
        }
      ]
    },
    {
      "cell_type": "code",
      "source": [
        "binary_rule[0]\n",
        "\n",
        "print(binary_rule)"
      ],
      "metadata": {
        "colab": {
          "base_uri": "https://localhost:8080/"
        },
        "id": "X1zKUb-bIDws",
        "outputId": "ecd4776a-8b73-4eda-91df-0704ee1d95bb"
      },
      "execution_count": null,
      "outputs": [
        {
          "output_type": "stream",
          "name": "stdout",
          "text": [
            "01101011\n"
          ]
        }
      ]
    },
    {
      "cell_type": "code",
      "source": [],
      "metadata": {
        "id": "Bi1XcYPyIS8L"
      },
      "execution_count": null,
      "outputs": []
    }
  ],
  "nbformat": 4,
  "nbformat_minor": 0,
  "metadata": {
    "deepnote": {},
    "deepnote_execution_queue": [],
    "deepnote_notebook_id": "57f9b1ac-89d9-48a6-8c9c-6240edc2c46d",
    "kernelspec": {
      "display_name": "Python 3",
      "language": "python",
      "name": "python3"
    },
    "language_info": {
      "codemirror_mode": {
        "name": "ipython",
        "version": 3
      },
      "file_extension": ".py",
      "mimetype": "text/x-python",
      "name": "python",
      "nbconvert_exporter": "python",
      "pygments_lexer": "ipython3",
      "version": "3.8.3"
    },
    "colab": {
      "provenance": [],
      "include_colab_link": true
    }
  }
}