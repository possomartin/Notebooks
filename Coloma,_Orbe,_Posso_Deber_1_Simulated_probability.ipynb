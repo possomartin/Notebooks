{
  "nbformat": 4,
  "nbformat_minor": 0,
  "metadata": {
    "colab": {
      "provenance": [],
      "authorship_tag": "ABX9TyO+RdozTsZWPxSQQjVFiz41",
      "include_colab_link": true
    },
    "kernelspec": {
      "name": "python3",
      "display_name": "Python 3"
    },
    "language_info": {
      "name": "python"
    }
  },
  "cells": [
    {
      "cell_type": "markdown",
      "metadata": {
        "id": "view-in-github",
        "colab_type": "text"
      },
      "source": [
        "<a href=\"https://colab.research.google.com/github/possomartin/Notebooks/blob/main/Coloma%2C_Orbe%2C_Posso_Deber_1_Simulated_probability.ipynb\" target=\"_parent\"><img src=\"https://colab.research.google.com/assets/colab-badge.svg\" alt=\"Open In Colab\"/></a>"
      ]
    },
    {
      "cell_type": "markdown",
      "metadata": {
        "id": "CxmDr7rbFCC8"
      },
      "source": [
        ">  # Universidad de las Americas\n",
        "\n",
        "**Integrantes:** Kevin Coloma, Fernando Orbe, Martin Posso\n",
        "\n",
        "# HW 1 (10%)\n",
        "(3%) A group of 30 dice are thrown. What is the probability that 5 of each of the values 1,2,3,4,5,6 appear?\n",
        "  * That is 5 1s, 5 2s, 5 3s, 5 4s, 5 5s and 5 6s.\n",
        "\n",
        "(3%) Tyrion, Cersei, and ten other people are sitting at a round table, with their seating arrangement having been randomly assigned.\n",
        "* What is the probability that Tyrion and Cersei are sitting next to each other?\n",
        "\n",
        "(4%) A monkey at a typewriter types each of the 26 letters of the alphabet exactly once, the order being random.\n",
        "\n",
        "* What is the probability that the word HAMLET appears somewhere in the string of letters?\n",
        "\n",
        "(Optional) What is the probability that the word HAMLET appears somewhere in the string of letters if keys can be hitted more than once within the 26 hits?"
      ]
    },
    {
      "cell_type": "markdown",
      "metadata": {
        "id": "IYit39GzGuw2"
      },
      "source": [
        "#A group of 30 dice are thrown. What is the probability that 5 of each of the values 1,2,3,4,5,6 appear?\n",
        "\n",
        "That is 5 1s, 5 2s, 5 3s, 5 4s, 5 5s and 5 6s."
      ]
    },
    {
      "cell_type": "code",
      "metadata": {
        "id": "LxsoAq39C-pl"
      },
      "source": [
        "import numpy as np\n",
        "import seaborn as sns\n",
        "import matplotlib.pyplot as plt\n",
        "from matplotlib.patches import Rectangle\n",
        "import sympy as sym\n",
        "import math as math\n",
        "import random"
      ],
      "execution_count": null,
      "outputs": []
    },
    {
      "cell_type": "code",
      "metadata": {
        "colab": {
          "base_uri": "https://localhost:8080/"
        },
        "id": "wgvmIRRMG43-",
        "outputId": "0982991e-3d9c-4f1c-c694-727f255a0759"
      },
      "source": [
        "def ThrowDice(n = 30): #Funcion que genera un numero random de lado del dado en los 30 lanzados\n",
        "  dice = np.array([1, 2, 3, 4, 5, 6]) #arreglo para el numero de lados de un dado\n",
        "\n",
        "  dices = [] #arreglo donde se hace set del numero random generado de lado\n",
        "\n",
        "  for i in range(n):\n",
        "    roll = np.random.choice(dice) #se genera el numero random\n",
        "    dices.append(roll)\n",
        "  return dices\n",
        "\n",
        "print(ThrowDice(30))"
      ],
      "execution_count": null,
      "outputs": [
        {
          "output_type": "stream",
          "text": [
            "[5, 6, 3, 5, 4, 6, 6, 3, 1, 2, 4, 5, 6, 2, 5, 4, 2, 6, 5, 2, 4, 1, 6, 3, 6, 3, 5, 2, 6, 4]\n"
          ],
          "name": "stdout"
        }
      ]
    },
    {
      "cell_type": "code",
      "metadata": {
        "colab": {
          "base_uri": "https://localhost:8080/"
        },
        "id": "0bVu0ltyHvTf",
        "outputId": "dc11c0fa-2e0b-4f77-83bc-18cf0c429503"
      },
      "source": [
        "def Appears(): #funcion que calcula cuantas veces han salido dentro de los 30 Lanzados\n",
        "\n",
        "  outcomes = [0, 0, 0, 0, 0, 0, 0] #arreglo para insertar el numero de veces que se repite el numero\n",
        "\n",
        "  listValues = ThrowDice(30)\n",
        "\n",
        "  for n in listValues:\n",
        "    outcomes[n] += 1 #contador aumenta cuando encuentra\n",
        "  del outcomes[0]\n",
        "  return outcomes\n",
        "\n",
        "print(Appears())\n",
        "\n",
        "\n",
        "\n",
        ""
      ],
      "execution_count": null,
      "outputs": [
        {
          "output_type": "stream",
          "text": [
            "[5, 3, 5, 3, 9, 5]\n"
          ],
          "name": "stdout"
        }
      ]
    },
    {
      "cell_type": "code",
      "metadata": {
        "colab": {
          "base_uri": "https://localhost:8080/"
        },
        "id": "KNNiKzP6Hz2m",
        "outputId": "28a72e65-996f-4d5f-9173-6424daea364b"
      },
      "source": [
        "suma = 0 #numero de veces que se repite cada numero en la simulacion\n",
        "\n",
        "nveces = 10000 #numero de veces para la simulacion\n",
        "\n",
        "percs = [0, 0, 0, 0, 0, 0]\n",
        "\n",
        "for i in range(nveces): #for que simula n veces los dados y la cantidad que han salido\n",
        "  numProb = Appears()\n",
        "  if i > 20 and i < 50:\n",
        "    print(numProb)\n",
        "  if numProb.count(5) == 6:\n",
        "    print(numProb)\n",
        "    suma += 1\n",
        "\n",
        "\n",
        "probabilidad = (suma) / nveces\n",
        "\n",
        "print('Numero de Veces que han Salido', suma)\n",
        "print('La probabilidad es',probabilidad)\n",
        "print('Con respecto a', nveces, ' hechas')"
      ],
      "execution_count": null,
      "outputs": [
        {
          "output_type": "stream",
          "text": [
            "[5, 5, 4, 5, 4, 7]\n",
            "[3, 8, 8, 1, 3, 7]\n",
            "[5, 7, 6, 1, 5, 6]\n",
            "[3, 10, 4, 3, 4, 6]\n",
            "[4, 7, 8, 3, 5, 3]\n",
            "[7, 8, 5, 4, 2, 4]\n",
            "[5, 4, 4, 5, 4, 8]\n",
            "[7, 7, 5, 3, 3, 5]\n",
            "[5, 5, 5, 7, 2, 6]\n",
            "[6, 4, 4, 7, 5, 4]\n",
            "[9, 4, 4, 4, 7, 2]\n",
            "[3, 4, 4, 7, 6, 6]\n",
            "[3, 6, 7, 2, 4, 8]\n",
            "[2, 7, 2, 3, 8, 8]\n",
            "[5, 2, 5, 5, 8, 5]\n",
            "[6, 6, 3, 5, 5, 5]\n",
            "[4, 6, 6, 4, 5, 5]\n",
            "[9, 9, 4, 4, 2, 2]\n",
            "[1, 5, 6, 7, 5, 6]\n",
            "[7, 4, 9, 2, 6, 2]\n",
            "[5, 6, 7, 3, 1, 8]\n",
            "[4, 8, 4, 2, 6, 6]\n",
            "[7, 4, 3, 5, 9, 2]\n",
            "[3, 5, 7, 9, 2, 4]\n",
            "[3, 3, 5, 4, 7, 8]\n",
            "[5, 6, 7, 4, 3, 5]\n",
            "[3, 10, 4, 4, 3, 6]\n",
            "[5, 7, 6, 3, 5, 4]\n",
            "[7, 4, 3, 3, 5, 8]\n",
            "[5, 5, 5, 5, 5, 5]\n",
            "[5, 5, 5, 5, 5, 5]\n",
            "[5, 5, 5, 5, 5, 5]\n",
            "[5, 5, 5, 5, 5, 5]\n",
            "Numero de Veces que han Salido 4\n",
            "La probabilidad es 0.0004\n",
            "Con respecto a 10000  hechas\n"
          ],
          "name": "stdout"
        }
      ]
    },
    {
      "cell_type": "markdown",
      "metadata": {
        "id": "OnGcvmVl_FNs"
      },
      "source": [
        "#(3%) Tyrion, Cersei, and ten other people are sitting at a round table, with their seating arrangement having been randomly assigned.\n",
        "* What is the probability that Tyrion and Cersei are sitting next to each other?\n"
      ]
    },
    {
      "cell_type": "code",
      "metadata": {
        "colab": {
          "base_uri": "https://localhost:8080/"
        },
        "id": "TIEv6ZxaWSuU",
        "outputId": "b9f83f50-b8a9-43d0-f45b-76047dee8ac2"
      },
      "source": [
        "people = [1,2,3,4,5,6,7,8,9,10,11,12]\n",
        "\n",
        "print('Grupo De personas Original',people)\n",
        "\n",
        "random.shuffle(people)\n",
        "\n",
        "print('Grupo Randomizado', people)\n",
        "\n",
        "def GenerateRandom(): #Metodo para generar Random y obtener si Tyrione Y Cersei se encuentran juntos\n",
        "  suma = 0\n",
        "\n",
        "  random.shuffle(people)\n",
        "\n",
        "  for i in range(len(people)):\n",
        "    if i + 1 < len(people) and i - 1 >= 0: #se obtiene el elemento anterior, actual y siguiente para poder determinar\n",
        "      prev = people[i - 1]\n",
        "      current = people[i]\n",
        "      next = people[i + 1]\n",
        "\n",
        "      if (prev == 1 and current == 2) or (current == 2 and next == 1): #se verifica que esten juntos 1 - Tyrion y 2 - Cersei en caso de que este a la derecha\n",
        "        return 1\n",
        "      elif (prev == 2 and current == 1) or (current == 1 and next == 2): #se verifica cuando esta a la izquierda\n",
        "        return 1\n",
        "  return 0"
      ],
      "execution_count": null,
      "outputs": [
        {
          "output_type": "stream",
          "text": [
            "Grupo De personas Original [1, 2, 3, 4, 5, 6, 7, 8, 9, 10, 11, 12]\n",
            "Grupo Randomizado [1, 5, 9, 2, 6, 11, 3, 12, 8, 4, 7, 10]\n"
          ],
          "name": "stdout"
        }
      ]
    },
    {
      "cell_type": "code",
      "metadata": {
        "id": "2TVWt5IFBxpH"
      },
      "source": [
        "def CalcularProbabilidad(n = 100): #funcion para calcular la probabilidad\n",
        "  Total = [] # array que aloja todas las posibles ocaciones que esten juntos\n",
        "\n",
        "  for i in range(n): #for para generar la simulacion\n",
        "    Total.append(GenerateRandom())\n",
        "\n",
        "  nSuma = np.sum(Total) #suma total de todo para calcular la probabilidad\n",
        "\n",
        "  print('Simulaciones', Total)\n",
        "  print('Suma Total de Combinaciones posibles en todas las simulaciones',nSuma)\n",
        "  return nSuma / n\n"
      ],
      "execution_count": null,
      "outputs": []
    },
    {
      "cell_type": "code",
      "metadata": {
        "colab": {
          "base_uri": "https://localhost:8080/"
        },
        "id": "fuLCzdW6MXMA",
        "outputId": "44e31532-5fff-4308-fb59-e1c3d04781fe"
      },
      "source": [
        "print('La Probabilidad es',CalcularProbabilidad(n = 3000))\n",
        "\n"
      ],
      "execution_count": null,
      "outputs": [
        {
          "output_type": "stream",
          "text": [
            "Simulaciones [1, 0, 0, 0, 0, 1, 0, 0, 0, 0, 0, 0, 0, 0, 1, 0, 0, 0, 0, 0, 0, 0, 0, 0, 0, 0, 0, 0, 0, 0, 1, 0, 1, 0, 0, 0, 1, 0, 0, 0, 0, 0, 0, 0, 0, 0, 1, 0, 0, 0, 0, 0, 0, 1, 1, 0, 0, 0, 0, 0, 0, 0, 0, 0, 0, 0, 0, 0, 0, 0, 0, 0, 0, 0, 0, 0, 0, 0, 1, 0, 0, 0, 0, 0, 0, 0, 0, 0, 0, 0, 0, 1, 1, 0, 0, 1, 0, 0, 0, 0, 1, 0, 0, 0, 0, 0, 0, 1, 0, 0, 1, 0, 1, 0, 0, 0, 0, 0, 1, 0, 1, 0, 0, 0, 0, 0, 0, 0, 1, 0, 0, 0, 1, 1, 1, 1, 1, 0, 0, 0, 0, 0, 0, 1, 0, 0, 0, 0, 0, 0, 0, 0, 0, 0, 0, 0, 1, 0, 0, 0, 0, 0, 1, 0, 0, 0, 0, 0, 0, 0, 0, 1, 0, 0, 0, 0, 0, 0, 0, 0, 0, 0, 0, 0, 0, 0, 0, 0, 0, 0, 1, 0, 1, 0, 0, 0, 0, 0, 1, 0, 0, 1, 1, 1, 0, 0, 0, 1, 0, 0, 0, 0, 0, 0, 0, 0, 0, 0, 0, 0, 0, 0, 1, 0, 0, 0, 0, 0, 0, 0, 0, 0, 0, 0, 1, 0, 0, 0, 0, 0, 0, 0, 0, 0, 0, 0, 0, 0, 0, 0, 0, 0, 0, 0, 0, 0, 0, 0, 0, 1, 1, 0, 0, 0, 0, 0, 0, 0, 0, 0, 0, 0, 0, 0, 1, 0, 0, 0, 0, 0, 0, 0, 0, 0, 0, 0, 0, 1, 1, 0, 1, 1, 0, 0, 0, 1, 0, 0, 0, 0, 0, 0, 0, 0, 0, 1, 0, 0, 0, 0, 0, 0, 0, 0, 0, 0, 0, 0, 0, 0, 0, 0, 0, 0, 0, 0, 0, 0, 0, 0, 0, 0, 1, 0, 1, 0, 0, 0, 0, 0, 0, 0, 0, 0, 0, 0, 0, 1, 0, 1, 0, 0, 0, 1, 0, 0, 0, 0, 0, 0, 0, 0, 0, 0, 0, 0, 1, 0, 0, 0, 0, 0, 0, 0, 0, 0, 0, 0, 0, 1, 0, 0, 0, 0, 0, 0, 0, 0, 0, 1, 0, 0, 0, 0, 1, 1, 0, 0, 0, 1, 0, 0, 0, 0, 0, 0, 0, 0, 0, 0, 0, 0, 0, 0, 0, 0, 0, 0, 0, 0, 1, 0, 0, 0, 0, 0, 0, 0, 0, 0, 1, 0, 0, 0, 0, 0, 0, 0, 1, 1, 0, 0, 0, 0, 0, 1, 0, 0, 0, 0, 0, 0, 0, 0, 0, 0, 1, 0, 0, 0, 1, 0, 0, 0, 0, 0, 0, 0, 0, 1, 0, 1, 1, 0, 0, 0, 0, 0, 0, 0, 1, 0, 0, 0, 0, 0, 0, 0, 0, 1, 0, 0, 0, 0, 1, 0, 1, 0, 0, 0, 0, 1, 0, 0, 0, 0, 1, 1, 0, 1, 1, 1, 1, 0, 1, 0, 0, 1, 0, 0, 0, 0, 0, 0, 0, 0, 0, 0, 0, 0, 0, 0, 0, 0, 0, 0, 0, 0, 1, 0, 0, 0, 0, 1, 0, 0, 1, 0, 1, 0, 0, 1, 0, 1, 0, 0, 1, 0, 1, 0, 1, 0, 0, 0, 0, 0, 0, 0, 1, 0, 0, 0, 0, 0, 0, 0, 0, 0, 0, 0, 0, 1, 1, 1, 0, 0, 0, 0, 0, 1, 1, 0, 0, 0, 0, 0, 0, 0, 0, 0, 1, 0, 0, 0, 0, 0, 0, 0, 0, 1, 0, 1, 0, 0, 0, 0, 0, 0, 1, 1, 0, 0, 0, 0, 0, 0, 0, 0, 0, 1, 0, 0, 1, 0, 0, 0, 0, 0, 0, 1, 0, 0, 0, 0, 0, 0, 0, 0, 0, 0, 0, 0, 0, 0, 0, 0, 0, 0, 0, 0, 1, 0, 0, 0, 1, 0, 1, 1, 0, 0, 0, 0, 0, 0, 0, 0, 0, 0, 0, 0, 0, 0, 0, 0, 0, 0, 0, 0, 0, 0, 0, 0, 0, 0, 0, 0, 0, 0, 0, 0, 0, 0, 1, 0, 0, 1, 0, 1, 0, 0, 1, 0, 1, 0, 0, 0, 0, 0, 0, 0, 0, 1, 0, 0, 0, 0, 0, 0, 0, 0, 0, 0, 0, 0, 0, 0, 1, 1, 0, 1, 0, 0, 0, 0, 0, 1, 0, 0, 0, 0, 1, 0, 0, 0, 0, 0, 0, 1, 0, 1, 1, 1, 0, 0, 0, 0, 1, 0, 0, 0, 0, 0, 1, 0, 1, 0, 0, 0, 0, 0, 0, 0, 0, 1, 0, 0, 0, 0, 1, 0, 0, 0, 1, 0, 0, 0, 0, 0, 0, 0, 0, 0, 0, 0, 0, 0, 1, 0, 0, 0, 0, 0, 0, 0, 0, 0, 0, 0, 1, 0, 1, 0, 0, 1, 0, 0, 0, 1, 0, 0, 0, 1, 0, 0, 0, 0, 0, 0, 0, 0, 0, 0, 0, 0, 0, 1, 0, 1, 0, 0, 0, 0, 0, 0, 0, 0, 0, 0, 0, 0, 0, 0, 0, 0, 0, 0, 0, 0, 0, 0, 0, 0, 1, 0, 0, 0, 0, 0, 1, 1, 0, 0, 0, 0, 0, 0, 0, 0, 0, 0, 0, 0, 0, 0, 0, 1, 0, 0, 0, 0, 0, 1, 0, 1, 0, 0, 0, 1, 0, 0, 1, 0, 0, 0, 0, 0, 0, 0, 1, 0, 0, 1, 0, 0, 0, 0, 0, 0, 0, 0, 1, 1, 0, 0, 1, 0, 0, 0, 0, 0, 1, 0, 0, 0, 1, 0, 0, 0, 0, 0, 0, 0, 0, 1, 0, 1, 0, 0, 0, 0, 0, 0, 0, 0, 0, 0, 0, 0, 0, 0, 1, 0, 0, 0, 0, 0, 0, 0, 0, 0, 0, 0, 0, 0, 1, 1, 0, 0, 1, 0, 0, 1, 0, 1, 0, 0, 0, 0, 0, 0, 0, 0, 0, 0, 0, 0, 0, 1, 0, 1, 0, 0, 0, 0, 1, 0, 0, 0, 0, 0, 0, 0, 0, 1, 0, 0, 0, 1, 1, 0, 0, 0, 0, 1, 0, 1, 0, 0, 1, 0, 0, 0, 0, 0, 0, 0, 0, 0, 0, 0, 1, 0, 0, 1, 0, 1, 0, 0, 0, 0, 0, 0, 0, 0, 0, 0, 1, 0, 0, 0, 0, 0, 0, 1, 0, 0, 0, 0, 0, 0, 0, 0, 0, 0, 0, 0, 0, 0, 0, 0, 0, 0, 0, 1, 1, 0, 0, 0, 1, 0, 0, 0, 0, 0, 0, 0, 0, 0, 0, 0, 1, 0, 0, 1, 0, 0, 1, 0, 0, 1, 0, 0, 1, 0, 0, 0, 1, 0, 0, 0, 0, 0, 0, 0, 0, 0, 0, 0, 0, 0, 0, 0, 0, 0, 0, 0, 0, 0, 0, 1, 0, 1, 0, 0, 1, 0, 0, 1, 0, 0, 0, 0, 0, 0, 0, 0, 0, 0, 0, 0, 0, 1, 0, 0, 0, 0, 0, 0, 1, 1, 0, 0, 1, 0, 0, 0, 0, 0, 0, 0, 1, 0, 0, 0, 0, 0, 0, 0, 0, 0, 0, 0, 0, 0, 0, 0, 0, 0, 0, 0, 0, 0, 0, 0, 0, 0, 0, 0, 1, 0, 0, 0, 0, 0, 0, 0, 0, 0, 0, 0, 0, 0, 1, 1, 0, 0, 0, 1, 1, 0, 0, 0, 0, 0, 0, 1, 0, 1, 0, 1, 0, 0, 0, 0, 1, 0, 0, 0, 1, 0, 0, 0, 1, 0, 0, 1, 0, 0, 0, 0, 1, 0, 1, 0, 1, 0, 1, 0, 0, 1, 0, 0, 1, 0, 0, 0, 0, 0, 0, 0, 0, 0, 0, 0, 0, 0, 0, 0, 1, 0, 0, 0, 0, 1, 0, 0, 0, 1, 0, 0, 0, 1, 0, 0, 0, 0, 0, 0, 0, 0, 1, 0, 1, 0, 1, 0, 0, 0, 0, 0, 0, 1, 0, 0, 1, 0, 0, 0, 0, 1, 0, 0, 0, 0, 0, 1, 0, 0, 0, 1, 0, 0, 1, 1, 0, 0, 0, 1, 0, 0, 0, 0, 1, 0, 0, 0, 0, 0, 0, 0, 0, 0, 0, 0, 0, 0, 0, 0, 0, 0, 0, 0, 0, 0, 1, 0, 0, 0, 0, 1, 0, 0, 0, 1, 0, 0, 0, 0, 0, 0, 0, 0, 1, 0, 0, 0, 0, 0, 0, 0, 0, 0, 0, 0, 0, 0, 0, 0, 1, 0, 0, 0, 0, 0, 0, 0, 1, 0, 0, 0, 1, 0, 0, 1, 0, 0, 0, 0, 0, 0, 0, 0, 0, 0, 0, 0, 0, 0, 1, 0, 1, 0, 0, 0, 0, 0, 0, 1, 0, 0, 0, 0, 1, 1, 0, 0, 0, 0, 0, 1, 0, 1, 0, 0, 0, 0, 0, 0, 0, 0, 0, 0, 0, 0, 1, 0, 0, 0, 0, 0, 0, 0, 0, 1, 0, 1, 0, 1, 0, 0, 0, 0, 0, 0, 1, 0, 0, 0, 1, 0, 0, 0, 0, 0, 0, 0, 0, 0, 0, 0, 1, 0, 0, 0, 0, 0, 0, 0, 0, 0, 0, 0, 0, 0, 1, 0, 0, 0, 0, 0, 0, 1, 1, 1, 0, 0, 0, 0, 0, 0, 0, 0, 0, 0, 0, 0, 1, 1, 0, 0, 1, 0, 0, 0, 0, 0, 0, 1, 0, 0, 0, 0, 0, 0, 0, 0, 0, 0, 0, 0, 0, 1, 0, 0, 1, 0, 0, 0, 0, 0, 0, 1, 0, 0, 0, 0, 0, 0, 0, 0, 1, 1, 0, 0, 0, 0, 0, 0, 0, 0, 1, 0, 0, 0, 0, 0, 0, 0, 1, 0, 0, 0, 0, 0, 0, 0, 0, 0, 0, 1, 0, 1, 0, 0, 0, 0, 0, 0, 1, 0, 0, 0, 1, 0, 1, 0, 1, 0, 0, 1, 0, 0, 0, 0, 1, 0, 0, 0, 1, 0, 0, 0, 1, 0, 1, 0, 1, 0, 0, 0, 0, 0, 0, 0, 0, 0, 0, 0, 1, 0, 0, 0, 0, 0, 0, 0, 0, 0, 0, 1, 0, 0, 0, 0, 0, 0, 0, 0, 0, 0, 0, 0, 0, 0, 0, 0, 0, 0, 0, 0, 0, 0, 0, 0, 0, 0, 1, 1, 0, 0, 0, 0, 0, 0, 0, 0, 0, 0, 0, 0, 0, 0, 0, 1, 0, 0, 0, 0, 0, 0, 0, 0, 0, 0, 1, 0, 1, 0, 0, 1, 0, 0, 0, 0, 0, 0, 1, 0, 0, 0, 0, 0, 0, 0, 0, 0, 0, 0, 0, 0, 1, 0, 0, 0, 0, 0, 0, 0, 0, 0, 0, 1, 0, 0, 0, 0, 0, 0, 0, 0, 0, 0, 0, 0, 0, 0, 0, 0, 0, 0, 1, 0, 0, 0, 0, 0, 0, 0, 0, 0, 1, 0, 0, 0, 0, 0, 1, 0, 0, 0, 0, 0, 0, 1, 0, 0, 0, 1, 0, 0, 0, 0, 1, 0, 0, 0, 1, 0, 0, 1, 0, 0, 0, 0, 0, 1, 0, 0, 0, 0, 0, 1, 1, 0, 0, 0, 0, 0, 0, 0, 0, 0, 1, 0, 0, 1, 0, 0, 0, 1, 0, 0, 0, 0, 0, 1, 0, 0, 0, 1, 1, 0, 0, 0, 0, 0, 0, 1, 1, 0, 0, 0, 0, 1, 0, 0, 0, 1, 0, 0, 0, 1, 0, 0, 0, 0, 1, 0, 1, 0, 0, 0, 1, 0, 1, 0, 0, 1, 0, 0, 0, 0, 0, 0, 0, 1, 0, 0, 0, 1, 0, 0, 0, 0, 0, 0, 1, 0, 0, 0, 0, 0, 0, 0, 0, 1, 0, 0, 0, 1, 0, 0, 0, 0, 0, 0, 0, 0, 0, 1, 0, 0, 0, 0, 0, 0, 0, 0, 0, 0, 0, 0, 1, 0, 0, 1, 1, 0, 0, 0, 0, 1, 0, 0, 1, 1, 0, 0, 1, 0, 0, 0, 0, 0, 1, 0, 0, 0, 0, 0, 0, 0, 0, 1, 1, 0, 0, 0, 0, 0, 0, 0, 0, 1, 0, 0, 0, 0, 0, 0, 0, 0, 0, 1, 0, 1, 0, 1, 0, 0, 0, 0, 0, 0, 0, 0, 0, 0, 1, 0, 0, 0, 0, 1, 1, 0, 0, 0, 1, 0, 0, 0, 0, 0, 0, 0, 0, 0, 0, 0, 0, 0, 0, 1, 0, 0, 0, 1, 0, 0, 0, 0, 0, 0, 1, 0, 0, 0, 0, 1, 0, 1, 0, 0, 0, 0, 1, 0, 0, 0, 1, 0, 0, 0, 0, 0, 0, 0, 0, 0, 0, 0, 0, 0, 0, 0, 0, 0, 0, 1, 0, 0, 0, 1, 0, 0, 1, 0, 0, 1, 0, 0, 0, 0, 1, 0, 0, 0, 1, 0, 0, 0, 0, 0, 0, 0, 0, 1, 0, 0, 0, 0, 0, 1, 0, 0, 1, 0, 0, 0, 0, 0, 0, 0, 0, 0, 0, 0, 0, 0, 1, 0, 0, 0, 0, 0, 0, 1, 0, 0, 0, 0, 0, 1, 0, 0, 0, 0, 0, 0, 0, 0, 0, 0, 0, 0, 0, 0, 0, 0, 1, 0, 0, 0, 0, 0, 0, 1, 0, 0, 1, 0, 1, 0, 1, 0, 0, 1, 0, 1, 0, 0, 0, 0, 0, 0, 0, 0, 0, 1, 0, 0, 1, 0, 1, 0, 0, 0, 0, 0, 0, 1, 0, 1, 0, 0, 0, 0, 0, 0, 0, 0, 1, 1, 0, 0, 0, 0, 0, 0, 0, 0, 0, 0, 0, 0, 0, 0, 1, 0, 1, 0, 0, 0, 0, 1, 0, 0, 0, 0, 0, 1, 0, 0, 0, 0, 0, 0, 0, 0, 1, 1, 0, 0, 0, 0, 1, 0, 0, 0, 0, 0, 0, 1, 1, 0, 0, 0, 0, 0, 0, 0, 0, 0, 0, 0, 0, 0, 0, 0, 0, 1, 0, 1, 1, 0, 0, 1, 0, 0, 0, 0, 0, 0, 0, 1, 0, 1, 0, 0, 0, 1, 0, 0, 0, 0, 0, 0, 0, 0, 1, 0, 0, 0, 0, 0, 0, 0, 0, 1, 0, 0, 0, 0, 1, 0, 0, 0, 1, 1, 0, 0, 0, 0, 0, 0, 0, 0, 0, 0, 0, 0, 0, 0, 0, 0, 0, 0, 0, 0, 1, 0, 0, 0, 0, 0, 0, 0, 0, 0, 0, 0, 1, 0, 0, 0, 0, 0, 0, 0, 0, 0, 1, 0, 1, 0, 0, 0, 0, 0, 0, 0, 0, 0, 1, 0, 0, 0, 0, 0, 0, 0, 0, 0, 1, 0, 0, 0, 0, 1, 0, 0, 0, 0, 0, 0, 0, 0, 0, 0, 0, 0, 0, 0, 0, 0, 0, 0, 0, 0, 0, 0, 0, 0, 0, 1, 0, 0, 0, 0, 0, 0, 0, 1, 0, 0, 0, 0, 0, 0, 0, 0, 0, 0, 0, 1, 0, 0, 0, 0, 0, 0, 1, 0, 1, 1, 0, 0, 0, 0, 0, 0, 0, 0, 0, 0, 0, 0, 0, 0, 1, 0, 0, 0, 0, 0, 1, 0, 1, 0, 0, 0, 0, 0, 0, 0, 1, 1, 0, 0, 0, 0, 1, 0, 0, 0, 0, 0, 0, 1, 0, 0, 0, 0, 0, 1, 1, 0, 0, 0, 1, 0, 0, 0, 0, 0, 0, 0, 0, 0, 0, 0, 0, 0, 0, 0, 0, 0, 0, 0, 1, 0, 0, 1, 0, 0, 0, 1, 0, 0, 1, 0, 0, 1, 0, 0, 0, 0, 0, 0, 1, 0, 1, 0, 0, 0, 1, 0, 0, 1, 0, 0, 1, 1, 0, 0, 0, 0, 0, 0, 1, 0, 0, 1, 0, 0, 0, 0, 0, 0, 0, 1, 0, 0, 1, 0, 1, 0, 0, 0, 0, 0, 0, 0, 0, 0, 1, 1, 0, 0, 0, 0, 0, 0, 0, 0, 0, 0, 0, 0, 1, 0, 0, 0, 0, 0, 0, 0, 0, 0, 0, 0, 0, 0, 0, 0, 0, 1, 0, 0, 0, 0, 0, 0, 0, 0, 0, 0, 0, 0, 0, 0, 0, 0, 0, 0, 0, 0, 0, 1, 0, 0, 0, 1, 1, 0, 1, 0, 0, 0, 0, 0, 0, 0, 0, 0, 1, 0, 0, 1, 0, 0, 0, 0, 0, 0, 0, 0, 0, 1, 0, 0, 0, 0, 1, 0, 0, 0, 0, 0, 0, 0, 0, 1, 0, 1, 0, 0, 0, 0, 0, 1, 0, 0, 0, 1, 0, 0, 0, 0, 1, 0, 0, 1, 0, 0, 1, 0, 1, 0, 0, 0, 0, 1, 1, 0, 0, 0, 0, 0, 0, 1, 0, 0, 1, 0, 0, 1, 0, 0, 0, 0, 0, 0, 0, 0, 0, 1, 0, 0, 0, 0, 0, 0, 0, 0, 0, 0, 0, 0, 0, 0, 0, 1, 0, 0, 0, 0, 0, 0, 0, 0, 0, 0, 0, 0, 1, 0, 0, 1, 0, 0, 0, 0, 0, 1, 0, 1, 0, 0, 0, 0, 0, 0, 0, 0, 0, 0, 0, 0, 0, 0, 0, 0, 1, 0, 0, 0, 1, 0, 0, 0, 1, 1, 0, 0, 0, 1, 0, 0, 1, 0, 0, 0, 0, 0, 0, 0, 0, 1, 0, 0, 1, 0, 0, 0, 0, 0, 0, 1, 0, 0, 1, 0, 0, 0, 0, 0, 0, 0, 0, 0, 1, 0, 1, 0, 0, 0, 0, 0, 0, 0, 0, 1, 0, 0, 0, 0, 0, 1, 0, 1, 1, 0, 1, 1, 0, 0, 0, 0, 0, 0, 0, 1, 0, 0, 0, 0, 0, 0, 1, 0, 0, 0, 1, 0, 0, 0, 0, 0, 0, 0, 1, 0, 0, 0, 0, 0, 0, 0, 0, 0, 0, 1, 1, 0, 0, 0, 0, 0, 0, 0, 0, 0, 0, 0, 0, 0, 0, 0, 0, 1, 0, 0, 0, 0, 0, 0, 0, 0, 0, 1, 0, 1, 0, 0, 0, 0, 1, 0, 0, 0, 0, 0, 0, 0, 0, 0, 0, 0, 0, 0, 1, 1, 1, 0, 0, 0, 0, 0]\n",
            "Suma Total de Combinaciones posibles en todas las simulaciones 492\n",
            "La Probabilidad es 0.164\n"
          ],
          "name": "stdout"
        }
      ]
    },
    {
      "cell_type": "markdown",
      "metadata": {
        "id": "2tWbRHw1XhiO"
      },
      "source": [
        "#(4%) A monkey at a typewriter types each of the 26 letters of the alphabet exactly once, the order being random.\n",
        "\n",
        "* What is the probability that the word HAMLET appears somewhere in the string of letters?\n",
        "* (Optional) What is the probability that the word HAMLET appears somewhere in the string of letters if keys can be hitted more than once within the 26 hits?"
      ]
    },
    {
      "cell_type": "code",
      "metadata": {
        "id": "0W5ce9nFOErH"
      },
      "source": [
        "def Monkeying(): #funcion para crear el abecedario y ordenarlo de manera random\n",
        "  ABC = ['a', 'b', 'c', 'd', 'e', 'f', 'g', 'h', 'i', 'j', 'k', 'l', 'm', 'n', 'o', 'p', 'q', 'r', 's', 't', 'u', 'v', 'w', 'x', 'y', 'z']\n",
        "  random.shuffle(ABC)\n",
        "  return ''.join(ABC)"
      ],
      "execution_count": null,
      "outputs": []
    },
    {
      "cell_type": "code",
      "metadata": {
        "id": "4XtdZE5waLLo"
      },
      "source": [
        "def ScrambleWords(n = 1000): #funcion para simular n veces y buscar la palabra Hamlet\n",
        "  suma = 0\n",
        "  found = False;\n",
        "\n",
        "  for i in range(n): #for de n veces la simulacion\n",
        "    Shuffle_Word = Monkeying() #obtenemos la palabra generada en orden random\n",
        "    index = Shuffle_Word.find('hamlet') #si lo encuentra retorna el indice\n",
        "    if (index > -1):\n",
        "      print(Shuffle_Word)\n",
        "      print('Indice donde comienza la palabra:', index)\n",
        "      suma += 1 #contador de las palabra encontrda\n",
        "      found = True;\n",
        "\n",
        "  print('Veces Palabra HAMLET se Encontro:', suma, 'en la simulacion de', n)\n",
        "\n",
        "  if (index == -1 and found == False):\n",
        "    print('No se encotró la palabra')\n",
        "\n",
        "  return (suma / n) #retorna la probabilidad\n"
      ],
      "execution_count": null,
      "outputs": []
    },
    {
      "cell_type": "code",
      "metadata": {
        "colab": {
          "base_uri": "https://localhost:8080/"
        },
        "id": "S_Piy_kXbOge",
        "outputId": "302fac97-a3a0-43d8-ce0a-a26f0f8bd0d5"
      },
      "source": [
        "print(ScrambleWords(50000))"
      ],
      "execution_count": null,
      "outputs": [
        {
          "output_type": "stream",
          "text": [
            "Veces Palabra HAMLET se Encontro: 0 en la simulacion de 50000\n",
            "No se encotró la palabra\n",
            "0\n"
          ],
          "name": "stdout"
        }
      ]
    },
    {
      "cell_type": "code",
      "metadata": {
        "colab": {
          "base_uri": "https://localhost:8080/"
        },
        "id": "_1TE6CGOf507",
        "outputId": "1f4f5761-73df-4d0e-eaee-90ac3b563588"
      },
      "source": [
        "print(ScrambleWords(50000))"
      ],
      "execution_count": null,
      "outputs": [
        {
          "output_type": "stream",
          "text": [
            "Veces Palabra HAMLET se Encontro: 0 en la simulacion de 50000\n",
            "No se encotró la palabra\n",
            "0\n"
          ],
          "name": "stdout"
        }
      ]
    },
    {
      "cell_type": "code",
      "metadata": {
        "colab": {
          "base_uri": "https://localhost:8080/"
        },
        "id": "QCT586-uf-X7",
        "outputId": "e48af6bd-8457-4b26-e12b-0585e15de0f0"
      },
      "source": [
        "print(ScrambleWords(500000))"
      ],
      "execution_count": null,
      "outputs": [
        {
          "output_type": "stream",
          "text": [
            "Veces Palabra HAMLET se Encontro: 0 en la simulacion de 500000\n",
            "No se encotró la palabra\n",
            "0\n"
          ],
          "name": "stdout"
        }
      ]
    },
    {
      "cell_type": "code",
      "metadata": {
        "colab": {
          "base_uri": "https://localhost:8080/"
        },
        "id": "uLP3xYwRf_9T",
        "outputId": "5095053d-332f-4afc-ff13-3e25d3b50395"
      },
      "source": [
        "print(ScrambleWords(100000000))"
      ],
      "execution_count": null,
      "outputs": [
        {
          "output_type": "stream",
          "text": [
            "ikuwbvndosfzrgphamletyqxjc\n",
            "Indice donde comienza la palabra: 15\n",
            "osvupdgcqyrhamletxbjzwfkin\n",
            "Indice donde comienza la palabra: 11\n",
            "gocdqpiybhamletjwurfxzksvn\n",
            "Indice donde comienza la palabra: 9\n",
            "pqsnwhamletzkudgcjvyxbifro\n",
            "Indice donde comienza la palabra: 5\n",
            "zyrgnkbsvcdjpihamletufqowx\n",
            "Indice donde comienza la palabra: 14\n",
            "udgyhamletxiksvonqjpzbrwcf\n",
            "Indice donde comienza la palabra: 4\n",
            "vpuynczojksrhamletxfdqiwgb\n",
            "Indice donde comienza la palabra: 12\n",
            "zcjrfpqighamletxwuvodsknyb\n",
            "Indice donde comienza la palabra: 9\n",
            "kcpiuwnhamletyvbodgrqxjfzs\n",
            "Indice donde comienza la palabra: 7\n",
            "woiuvczxkbdysqnpjfhamletrg\n",
            "Indice donde comienza la palabra: 18\n",
            "Veces Palabra HAMLET se Encontro: 10 en la simulacion de 100000000\n",
            "No se encotró la palabra\n",
            "10\n"
          ],
          "name": "stdout"
        }
      ]
    },
    {
      "cell_type": "code",
      "metadata": {
        "colab": {
          "base_uri": "https://localhost:8080/"
        },
        "id": "6tq0UbsWgfAq",
        "outputId": "c2cc9021-25a1-49b7-92d5-f841517036db"
      },
      "source": [
        "print('la probabilidad es de:', ScrambleWords(n = 10000000))"
      ],
      "execution_count": null,
      "outputs": [
        {
          "output_type": "stream",
          "text": [
            "hamletisrkpdfzyncxobugjwvq\n",
            "Indice donde comienza la palabra: 0\n",
            "Veces Palabra HAMLET se Encontro: 1 en la simulacion de 10000000\n",
            "la probabilidad es de: 1e-07\n"
          ],
          "name": "stdout"
        }
      ]
    },
    {
      "cell_type": "markdown",
      "metadata": {
        "id": "oRijQLCivrui"
      },
      "source": [
        "#* (Optional) What is the probability that the word HAMLET appears somewhere in the string of letters if keys can be hitted more than once within the 26 hits?"
      ]
    },
    {
      "cell_type": "code",
      "metadata": {
        "colab": {
          "base_uri": "https://localhost:8080/",
          "height": 35
        },
        "id": "sRH6X4oUo9aV",
        "outputId": "071f9b78-c862-4ded-bf91-a15d74398833"
      },
      "source": [
        "def Scramble(): #funcion para crear el abecedario y ordenarlo de manera random y que pueda aplastar mas de una vez la tecla\n",
        "  ABC = ['a', 'b', 'c', 'd', 'e', 'f', 'g', 'h', 'i', 'j', 'k', 'l', 'm', 'n', 'o', 'p', 'q', 'r', 's', 't', 'u', 'v', 'w', 'x', 'y', 'z']\n",
        "  return ''.join(random.choices(ABC, k=26))\n",
        "\n",
        "\n",
        "Scramble()"
      ],
      "execution_count": null,
      "outputs": [
        {
          "output_type": "execute_result",
          "data": {
            "application/vnd.google.colaboratory.intrinsic+json": {
              "type": "string"
            },
            "text/plain": [
              "'nwymfdpaorntowwnnnkgmncswx'"
            ]
          },
          "metadata": {
            "tags": []
          },
          "execution_count": 469
        }
      ]
    },
    {
      "cell_type": "code",
      "metadata": {
        "id": "Q8M3_5F0wBbX"
      },
      "source": [
        "def ScrambleWordsOptional(n = 1000): #funcion para simular n veces y buscar la palabra Hamlet\n",
        "  suma = 0\n",
        "  found = False;\n",
        "\n",
        "  for i in range(n): #for de n veces la simulacion\n",
        "    Shuffle_Word = Scramble() #obtenemos la palabra generada en orden random\n",
        "    index = Shuffle_Word.find('hamlet') #si lo encuentra retorna el indice\n",
        "    if (index > -1):\n",
        "      print(Shuffle_Word)\n",
        "      print('Indice donde comienza la palabra:', index)\n",
        "      suma += 1 #contador de las palabra encontrda\n",
        "      found = True;\n",
        "\n",
        "  print('Veces Palabra HAMLET se Encontro:', suma, 'en la simulacion de', n)\n",
        "\n",
        "  if (index == -1 and found == False):\n",
        "    print('No se encotró la palabra')\n",
        "\n",
        "  return (suma / n) #retorna la probabilidad"
      ],
      "execution_count": null,
      "outputs": []
    },
    {
      "cell_type": "code",
      "metadata": {
        "colab": {
          "base_uri": "https://localhost:8080/"
        },
        "id": "5Ki-T1CvwNiH",
        "outputId": "8ba6402f-72f9-4173-fd0d-72b98b0b1fe3"
      },
      "source": [
        "print('la probabilidad es de:', ScrambleWordsOptional(n = 100000000))"
      ],
      "execution_count": null,
      "outputs": [
        {
          "output_type": "stream",
          "text": [
            "rhvshamletqdmcibgosvvwdtyc\n",
            "Indice donde comienza la palabra: 4\n",
            "ppxvvtgtysuzcugrshamletccr\n",
            "Indice donde comienza la palabra: 17\n",
            "bpycvrvfrzdtisoshamletuzcd\n",
            "Indice donde comienza la palabra: 16\n",
            "eaeyytzfhamletmvhukkaylsnv\n",
            "Indice donde comienza la palabra: 8\n",
            "mmrefonbvnvondvszhamletosp\n",
            "Indice donde comienza la palabra: 17\n",
            "hamletrxfyltmnozaupbqjpbps\n",
            "Indice donde comienza la palabra: 0\n",
            "bhrwxwqbhydoihamletrmiadev\n",
            "Indice donde comienza la palabra: 13\n",
            "cdseponpaafhamletqotnlgqpj\n",
            "Indice donde comienza la palabra: 11\n",
            "Veces Palabra HAMLET se Encontro: 8 en la simulacion de 100000000\n",
            "la probabilidad es de: 8e-08\n"
          ],
          "name": "stdout"
        }
      ]
    },
    {
      "cell_type": "code",
      "metadata": {
        "id": "shSrn4SLwPqf"
      },
      "source": [],
      "execution_count": null,
      "outputs": []
    }
  ]
}