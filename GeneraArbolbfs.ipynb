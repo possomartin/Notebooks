{
  "nbformat": 4,
  "nbformat_minor": 0,
  "metadata": {
    "colab": {
      "provenance": [],
      "include_colab_link": true
    },
    "kernelspec": {
      "name": "python3",
      "display_name": "Python 3"
    },
    "language_info": {
      "name": "python"
    }
  },
  "cells": [
    {
      "cell_type": "markdown",
      "metadata": {
        "id": "view-in-github",
        "colab_type": "text"
      },
      "source": [
        "<a href=\"https://colab.research.google.com/github/possomartin/Notebooks/blob/main/GeneraArbolbfs.ipynb\" target=\"_parent\"><img src=\"https://colab.research.google.com/assets/colab-badge.svg\" alt=\"Open In Colab\"/></a>"
      ]
    },
    {
      "cell_type": "code",
      "execution_count": null,
      "metadata": {
        "id": "CRWtMbsza3Ga"
      },
      "outputs": [],
      "source": [
        "from collections import defaultdict\n",
        "\n",
        "class Graph:\n",
        "    #construcor\n",
        "    def __init__(self):\n",
        "        #diccionario almacenar el grafo\n",
        "        print(\"Constructor\")\n",
        "        self.graph = defaultdict(list)\n",
        "\n",
        "    #función para adicionar los nodos al grafo\n",
        "    def addEdge(self, u, v):\n",
        "        self.graph[u].append(v)\n",
        "\n",
        "    #funcion para generar el arbol utilizando la busqueda\n",
        "    #en anchura BFS\n",
        "    def BFS(self, s, goal):\n",
        "       #generar padres\n",
        "        #parents = {}\n",
        "        #parents[s] = None\n",
        "\n",
        "        #hacer a todos los nodos como no visitados\n",
        "        visited = {gi:False for gi in self.graph.keys()}\n",
        "\n",
        "        #crear cola para BFS\n",
        "        queue = []\n",
        "\n",
        "        #marcando cada nodo como visitado en la cola\n",
        "        queue.append(s)\n",
        "        visited[s] = True\n",
        "\n",
        "        while queue:\n",
        "            s = queue.pop(0)\n",
        "            print(s, end = \" \")\n",
        "\n",
        "            if s == goal:\n",
        "              return\n",
        "\n",
        "            for i in self.graph[s]:\n",
        "                if visited[i] == False:\n",
        "                    queue.append(i)\n",
        "                    visited[i] = True\n",
        "                   # parents[i] = s\n",
        "        #return parents"
      ]
    },
    {
      "cell_type": "code",
      "source": [
        "g = Graph()\n",
        "g.addEdge('0', '1')\n",
        "g.addEdge('0', '3')\n",
        "g.addEdge('1', '0')\n",
        "g.addEdge('1', '4')\n",
        "g.addEdge('2', '0')\n",
        "g.addEdge('2', '4')\n",
        "g.addEdge('C', 'F')\n",
        "g.addEdge('D', 'B')\n",
        "g.addEdge('E', 'B')\n",
        "g.addEdge('E', 'F')\n",
        "g.addEdge('F', 'C')\n",
        "g.addEdge('F', 'E')\n",
        "\n",
        "g.BFS('A', 'F')"
      ],
      "metadata": {
        "colab": {
          "base_uri": "https://localhost:8080/"
        },
        "id": "gHMcNmqZheWp",
        "outputId": "bfd8a240-ff73-467a-d48f-2999fdc697cd"
      },
      "execution_count": null,
      "outputs": [
        {
          "output_type": "stream",
          "name": "stdout",
          "text": [
            "Constructor\n",
            "A B C D E F "
          ]
        }
      ]
    },
    {
      "cell_type": "code",
      "source": [],
      "metadata": {
        "id": "ozRZ7LkIhiCA"
      },
      "execution_count": null,
      "outputs": []
    }
  ]
}