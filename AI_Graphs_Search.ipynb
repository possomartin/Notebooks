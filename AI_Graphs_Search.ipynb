{
  "nbformat": 4,
  "nbformat_minor": 0,
  "metadata": {
    "colab": {
      "provenance": [],
      "authorship_tag": "ABX9TyMODOpAg5JNZd83X/q6wfWI",
      "include_colab_link": true
    },
    "kernelspec": {
      "name": "python3",
      "display_name": "Python 3"
    },
    "language_info": {
      "name": "python"
    }
  },
  "cells": [
    {
      "cell_type": "markdown",
      "metadata": {
        "id": "view-in-github",
        "colab_type": "text"
      },
      "source": [
        "<a href=\"https://colab.research.google.com/github/possomartin/Notebooks/blob/main/AI_Graphs_Search.ipynb\" target=\"_parent\"><img src=\"https://colab.research.google.com/assets/colab-badge.svg\" alt=\"Open In Colab\"/></a>"
      ]
    },
    {
      "cell_type": "markdown",
      "source": [
        "# Graph Search (DFS)\n",
        "\n",
        "Depth-first search is an algorithm for traversing or searching tree or graph data structures. The algorithm starts at the root node (selecting some arbitrary node as the root node in the case of a graph) and explores as far as possible along each branch before backtracking. So the basic idea is to start from the root or any arbitrary node and mark the node and move to the adjacent unmarked node and continue this loop until there is no unmarked adjacent node. Then backtrack and check for other unmarked nodes and traverse them. Finally, print the nodes in the path."
      ],
      "metadata": {
        "id": "DRBlZA7cMHsu"
      }
    },
    {
      "cell_type": "code",
      "source": [
        "from collections import defaultdict\n",
        "\n",
        "class Graph:\n",
        "    #construcor\n",
        "    def __init__(self):\n",
        "        #diccionario almacenar el grafo\n",
        "        print(\"Constructor\")\n",
        "        self.graph = defaultdict(list)\n",
        "\n",
        "\n",
        "    #función para adicionar los nodos al grafo\n",
        "    def addEdge(self, u, v):\n",
        "        self.graph[u].append(v)\n",
        "\n",
        "    #funcion para generar el arbol utilizando la busqueda\n",
        "    #en anchura BFS\n",
        "    def BFS(self, s):\n",
        "       #generar padres\n",
        "        parents = {}\n",
        "        parents[s] = None\n",
        "\n",
        "        #hacer a todos los nodos como no visitados\n",
        "        visited = {gi:False for gi in self.graph.keys()}\n",
        "\n",
        "        #crear cola para BFS\n",
        "        queue = []\n",
        "\n",
        "        #marcando cada nodo como visitado en la cola\n",
        "        queue.append(s)\n",
        "        visited[s] = True\n",
        "\n",
        "        while queue:\n",
        "            s = queue.pop(0)\n",
        "            print(s, end = \" \")\n",
        "\n",
        "            for i in self.graph[s]:\n",
        "                if visited[i] == False:\n",
        "                    queue.append(i)\n",
        "                    visited[i] = True\n",
        "                    parents[i] = s\n",
        "        return parents\n",
        "    def DFS(self, s):\n",
        "       #generar padres\n",
        "        parents = {}\n",
        "        parents[s] = None\n",
        "\n",
        "        #hacer a todos los nodos como no visitados\n",
        "        visited = {gi:False for gi in self.graph.keys()}\n",
        "\n",
        "        #crear cola para BFS\n",
        "        lista = []\n",
        "\n",
        "        #marcando cada nodo como visitado en la cola\n",
        "        lista.append(s)\n",
        "        visited[s] = True\n",
        "\n",
        "        while lista:\n",
        "            s = lista.pop()\n",
        "            print(s, end = \" \")\n",
        "\n",
        "            for i in self.graph[s]:\n",
        "                if visited[i] == False:\n",
        "                    lista.append(i)\n",
        "                    visited[i] = True\n",
        "                    parents[i] = s\n",
        "        return parents"
      ],
      "metadata": {
        "id": "mBPx9n6kE1JA"
      },
      "execution_count": null,
      "outputs": []
    },
    {
      "cell_type": "code",
      "source": [
        "def caminoDesdeOrigen(origen, n, parents):\n",
        "  if origen == n:\n",
        "    return []\n",
        "  path = [n]\n",
        "  i = n\n",
        "\n",
        "  while True:\n",
        "    i = parents[i]\n",
        "    path.insert(0, i)\n",
        "    if i == origen:\n",
        "      return path\n"
      ],
      "metadata": {
        "id": "7uoX80kilHz_"
      },
      "execution_count": null,
      "outputs": []
    },
    {
      "cell_type": "code",
      "source": [
        "g = Graph()\n",
        "g.addEdge('A', 'B')\n",
        "g.addEdge('A', 'C')\n",
        "g.addEdge('B', 'A')\n",
        "g.addEdge('B', 'D')\n",
        "g.addEdge('B', 'E')\n",
        "g.addEdge('C', 'A')\n",
        "g.addEdge('C', 'F')\n",
        "g.addEdge('D', 'B')\n",
        "g.addEdge('E', 'B')\n",
        "g.addEdge('E', 'F')\n",
        "g.addEdge('F', 'C')\n",
        "g.addEdge('F', 'E')\n",
        "\n",
        "parentsBFS = g.BFS('A')\n",
        "print('\\n')\n",
        "parentsDFS = g.DFS('A')\n",
        "\n",
        "print('\\nFuncion Ejecutada', parentsBFS)\n",
        "print('\\nFuncion Ejecutada BFS', parentsDFS)\n",
        "\n",
        "\n",
        "d = Graph()\n",
        "d.addEdge('A', 'B')\n",
        "d.addEdge('A', 'D')\n",
        "d.addEdge('A', 'E')\n",
        "d.addEdge('A', 'S')\n",
        "d.addEdge('B', 'A')\n",
        "d.addEdge('B', 'C')\n",
        "d.addEdge('B', 'E')\n",
        "d.addEdge('C', 'B')\n",
        "d.addEdge('D', 'A')\n",
        "d.addEdge('D', 'E')\n",
        "d.addEdge('D', 'S')\n",
        "d.addEdge('E', 'B')\n",
        "d.addEdge('E', 'D')\n",
        "d.addEdge('E', 'F')\n",
        "d.addEdge('F', 'E')\n",
        "d.addEdge('F', 'G')\n",
        "d.addEdge('G', 'F')\n",
        "d.addEdge('S', 'A')\n",
        "d.addEdge('S', 'D')\n",
        "\n",
        "parentsBFS = d.BFS('S')\n",
        "print('\\n')\n",
        "parentsDFS = d.DFS('S')\n",
        "\n",
        "print('\\nFuncion Ejecutada BFS', parentsBFS)\n",
        "print('\\nFuncion Ejecutada BFS', parentsDFS)"
      ],
      "metadata": {
        "colab": {
          "base_uri": "https://localhost:8080/"
        },
        "id": "7KdL7iP4Y4US",
        "outputId": "0137ffbc-beea-4c60-9131-7f0a130645c7"
      },
      "execution_count": null,
      "outputs": [
        {
          "output_type": "stream",
          "name": "stdout",
          "text": [
            "Constructor\n",
            "A B C D E F \n",
            "\n",
            "A C F E B D \n",
            "Funcion Ejecutada {'A': None, 'B': 'A', 'C': 'A', 'D': 'B', 'E': 'B', 'F': 'C'}\n",
            "\n",
            "Funcion Ejecutada BFS {'A': None, 'B': 'A', 'C': 'A', 'F': 'C', 'E': 'F', 'D': 'B'}\n",
            "Constructor\n",
            "S A D B E C F G \n",
            "\n",
            "S D E F G B C A \n",
            "Funcion Ejecutada BFS {'S': None, 'A': 'S', 'D': 'S', 'B': 'A', 'E': 'A', 'C': 'B', 'F': 'E', 'G': 'F'}\n",
            "\n",
            "Funcion Ejecutada BFS {'S': None, 'A': 'S', 'D': 'S', 'E': 'D', 'B': 'E', 'F': 'E', 'G': 'F', 'C': 'B'}\n"
          ]
        }
      ]
    },
    {
      "cell_type": "code",
      "source": [
        "print(parentsBFS)\n",
        "caminoDesdeOrigen('S', 'G', parentsBFS)"
      ],
      "metadata": {
        "colab": {
          "base_uri": "https://localhost:8080/"
        },
        "id": "7HJFGrfirl7V",
        "outputId": "6bd69c02-4d24-4808-9aba-edb878b293e1"
      },
      "execution_count": null,
      "outputs": [
        {
          "output_type": "stream",
          "name": "stdout",
          "text": [
            "{'S': None, 'A': 'S', 'D': 'S', 'B': 'A', 'E': 'A', 'C': 'B', 'F': 'E', 'G': 'F'}\n"
          ]
        },
        {
          "output_type": "execute_result",
          "data": {
            "text/plain": [
              "['S', 'A', 'E', 'F', 'G']"
            ]
          },
          "metadata": {},
          "execution_count": 103
        }
      ]
    },
    {
      "cell_type": "markdown",
      "source": [
        "#CODIGO PARA CORRER COMO IMPUT\n"
      ],
      "metadata": {
        "id": "kKtfKKWe5qhe"
      }
    },
    {
      "cell_type": "code",
      "source": [
        "def GetInput(g):\n",
        "  opt = 50\n",
        "\n",
        "  while(opt != 0):\n",
        "    print('1. USE BREADTH FIND SEARCH: \\n')\n",
        "    print('2. USE DEEP FIND SEARCH: \\n')\n",
        "    print('0. Exit \\n')\n",
        "    opt = int(input())\n",
        "\n",
        "    if opt == 1:\n",
        "      parentsBFS = g.BFS(str(input('\\nEnter Starting Node For BFS:')))\n",
        "      print(caminoDesdeOrigen(str(input('\\nEnter Starting Node:')), str(input('Enter Ending Node:')), parentsBFS), '\\n')\n",
        "    if opt == 2:\n",
        "      parentsDFS = g.DFS(str(input('\\nEnter Starting Node For DFS:')))\n",
        "      print(caminoDesdeOrigen(str(input('\\nEnter Starting Node:')), str(input('Enter Ending Node:')), parentsDFS), '\\n')\n",
        "    if opt == 0:\n",
        "      return\n",
        "\n",
        ""
      ],
      "metadata": {
        "id": "SzqxPLoXg6DK"
      },
      "execution_count": null,
      "outputs": []
    },
    {
      "cell_type": "code",
      "source": [
        "def RunGraphSearch():\n",
        "  opt = 50\n",
        "  while(opt != 0):\n",
        "    print('1. Ejercicio Deber: \\n')\n",
        "    print('2. Ejercicio Diapositva: \\n')\n",
        "    print('3. Ciudades de Rumania: \\n')\n",
        "    print('0. Exit \\n')\n",
        "    opt = int(input())\n",
        "\n",
        "    if(opt == 1):\n",
        "      d = Graph()\n",
        "      d.addEdge('A', 'B')\n",
        "      d.addEdge('A', 'D')\n",
        "      d.addEdge('A', 'E')\n",
        "      d.addEdge('A', 'S')\n",
        "      d.addEdge('B', 'A')\n",
        "      d.addEdge('B', 'C')\n",
        "      d.addEdge('B', 'E')\n",
        "      d.addEdge('C', 'B')\n",
        "      d.addEdge('D', 'A')\n",
        "      d.addEdge('D', 'E')\n",
        "      d.addEdge('D', 'S')\n",
        "      d.addEdge('E', 'B')\n",
        "      d.addEdge('E', 'D')\n",
        "      d.addEdge('E', 'F')\n",
        "      d.addEdge('F', 'E')\n",
        "      d.addEdge('F', 'G')\n",
        "      d.addEdge('G', 'F')\n",
        "      d.addEdge('S', 'A')\n",
        "      d.addEdge('S', 'D')\n",
        "\n",
        "      GetInput(d)\n",
        "\n",
        "    if(opt == 2):\n",
        "      p = Graph()\n",
        "      p.addEdge('A', 'G')\n",
        "      p.addEdge('A', 'S')\n",
        "      p.addEdge('B', 'G')\n",
        "      p.addEdge('B', 'S')\n",
        "      p.addEdge('C', 'G')\n",
        "      p.addEdge('C', 'S')\n",
        "      p.addEdge('G', 'A')\n",
        "      p.addEdge('G', 'B')\n",
        "      p.addEdge('G', 'C')\n",
        "      p.addEdge('S', 'A')\n",
        "      p.addEdge('S', 'B')\n",
        "      p.addEdge('S', 'C')\n",
        "\n",
        "      GetInput(p)\n",
        "\n",
        "    if(opt == 3):\n",
        "      r = Graph()\n",
        "      r.addEdge('Arad', 'Sibiu')\n",
        "      r.addEdge('Arad', 'Timisoara')\n",
        "      r.addEdge('Arad', 'Zerind')\n",
        "\n",
        "      r.addEdge('Bucharest', 'Fagaras')\n",
        "      r.addEdge('Bucharest', 'Giurgiu')\n",
        "      r.addEdge('Bucharest', 'Pitesti')\n",
        "      r.addEdge('Bucharest', 'Urziceni')\n",
        "\n",
        "      r.addEdge('Craiova', 'Dobreta')\n",
        "      r.addEdge('Craiova', 'Pitesti')\n",
        "      r.addEdge('Craiova', 'Rimnicu Vilcea')\n",
        "\n",
        "      r.addEdge('Dobreta', 'Craiova')\n",
        "      r.addEdge('Dobreta', 'Mehadia')\n",
        "\n",
        "      r.addEdge('Eforie', 'Hirsova')\n",
        "\n",
        "      r.addEdge('Fagaras', 'Bucharest')\n",
        "      r.addEdge('Fagaras', 'Sibiu')\n",
        "\n",
        "      r.addEdge('Giurgiu', 'Bucharest')\n",
        "\n",
        "      r.addEdge('Hirsova', 'Eforie')\n",
        "\n",
        "      r.addEdge('Iasi', 'Neamt')\n",
        "      r.addEdge('Iasi', 'Valsui')\n",
        "\n",
        "      r.addEdge('Lugoj', 'Timisoara')\n",
        "\n",
        "      r.addEdge('Mehadia', 'Dobreta')\n",
        "      r.addEdge('Mehadia', 'Lugoj')\n",
        "\n",
        "      r.addEdge('Neamt', 'Iasi')\n",
        "\n",
        "      r.addEdge('Oradea', 'Sibiu')\n",
        "      r.addEdge('Oradea', 'Zerind')\n",
        "\n",
        "      r.addEdge('Rimnicu Vilcea', 'Craiova')\n",
        "      r.addEdge('Rimnicu Vilcea', 'Pitesti')\n",
        "      r.addEdge('Rimnicu Vilcea', 'Sibiu')\n",
        "\n",
        "      r.addEdge('Pitesti', 'Bucharest')\n",
        "      r.addEdge('Pitesti', 'Craiova')\n",
        "      r.addEdge('Pitesti', 'Rimnicu Vilcea')\n",
        "\n",
        "      r.addEdge('Sibiu', 'Arad')\n",
        "      r.addEdge('Sibiu', 'Fagaras')\n",
        "      r.addEdge('Sibiu', 'Oradea')\n",
        "      r.addEdge('Sibiu', 'Rimnicu Vilcea')\n",
        "\n",
        "      r.addEdge('Timisoara', 'Arad')\n",
        "      r.addEdge('Timisoara', 'Lugoj')\n",
        "\n",
        "      r.addEdge('Urziceni', 'Bucharest')\n",
        "      r.addEdge('Urziceni', 'Hirsova')\n",
        "      r.addEdge('Urziceni', 'Valsui')\n",
        "\n",
        "      r.addEdge('Valsui', 'Iasi')\n",
        "      r.addEdge('Valsui', 'Urziceni')\n",
        "\n",
        "      r.addEdge('Zerind', 'Arad')\n",
        "      r.addEdge('Zerind', 'Oradea')\n",
        "\n",
        "      GetInput(r)\n"
      ],
      "metadata": {
        "id": "Y5CcSUlAwFBb"
      },
      "execution_count": null,
      "outputs": []
    },
    {
      "cell_type": "code",
      "source": [
        "RunGraphSearch()"
      ],
      "metadata": {
        "colab": {
          "base_uri": "https://localhost:8080/"
        },
        "id": "ZZ9pSz4Ig6SI",
        "outputId": "a984af9e-0833-4bc4-bdd1-813db17a9d5f"
      },
      "execution_count": null,
      "outputs": [
        {
          "name": "stdout",
          "output_type": "stream",
          "text": [
            "1. Ejercicio Deber: \n",
            "\n",
            "2. Ejercicio Diapositva: \n",
            "\n",
            "3. Ciudades de Rumania: \n",
            "\n",
            "0. Exit \n",
            "\n",
            "3\n",
            "Constructor\n",
            "1. USE BREADTH FIND SEARCH: \n",
            "\n",
            "2. USE DEEP FIND SEARCH: \n",
            "\n",
            "0. Exit \n",
            "\n",
            "1\n",
            "\n",
            "Enter Starting Node For BFS:Arad\n",
            "Arad Sibiu Timisoara Zerind Fagaras Oradea Rimnicu Vilcea Lugoj Bucharest Craiova Pitesti Giurgiu Urziceni Dobreta Hirsova Valsui Mehadia Eforie Iasi Neamt \n",
            "Enter Starting Node:Arad\n",
            "Enter Ending Node:Bucharest\n",
            "['Arad', 'Sibiu', 'Fagaras', 'Bucharest'] \n",
            "\n",
            "1. USE BREADTH FIND SEARCH: \n",
            "\n",
            "2. USE DEEP FIND SEARCH: \n",
            "\n",
            "0. Exit \n",
            "\n",
            "2\n",
            "\n",
            "Enter Starting Node For DFS:Arad\n",
            "Arad Zerind Oradea Timisoara Lugoj Sibiu Rimnicu Vilcea Pitesti Bucharest Urziceni Valsui Iasi Neamt Hirsova Eforie Giurgiu Craiova Dobreta Mehadia Fagaras \n",
            "Enter Starting Node:Arad\n",
            "Enter Ending Node:Bucharest\n",
            "['Arad', 'Sibiu', 'Rimnicu Vilcea', 'Pitesti', 'Bucharest'] \n",
            "\n",
            "1. USE BREADTH FIND SEARCH: \n",
            "\n",
            "2. USE DEEP FIND SEARCH: \n",
            "\n",
            "0. Exit \n",
            "\n",
            "0\n",
            "1. Ejercicio Deber: \n",
            "\n",
            "2. Ejercicio Diapositva: \n",
            "\n",
            "3. Ciudades de Rumania: \n",
            "\n",
            "0. Exit \n",
            "\n",
            "0\n"
          ]
        }
      ]
    },
    {
      "cell_type": "markdown",
      "source": [
        "#MI CODIGO (NO TOMARLO EN CUENTA)"
      ],
      "metadata": {
        "id": "5-g1KL7g5xgc"
      }
    },
    {
      "cell_type": "code",
      "source": [
        "class Graph:\n",
        "\n",
        "  def __init__(self):\n",
        "    self.graph = {}\n",
        "    self.visited = set()\n",
        "    self.queue = []\n",
        "    self.weights = {}\n",
        "\n",
        "  def addEdge(self, start, end):\n",
        "    if start not in self.graph:\n",
        "      self.graph.update({start: end})\n",
        "    else:\n",
        "      if not isinstance(self.graph[start], list):\n",
        "        self.graph[start] = [self.graph[start]]\n",
        "        self.graph[start].append(end)\n",
        "\n",
        "  def DFS(self, v):\n",
        "    if v not in self.visited:\n",
        "      print(v, end = ' ')\n",
        "      self.visited.add(v)\n",
        "      if v in self.graph:\n",
        "        for neighbour in self.graph[v]:\n",
        "          #print(neighbour , end = ' ')\n",
        "          self.DFS(neighbour)\n",
        "        #print('\\n')\n",
        "\n",
        "  def findPath(self, start, end, path=[]):\n",
        "    path += [start]\n",
        "\n",
        "    if start == end:\n",
        "      return path\n",
        "\n",
        "    if start in self.graph:\n",
        "      for node in self.graph[start]:\n",
        "        if node not in path:\n",
        "          newpath = self.findPath(node, end, path)\n",
        "          if newpath:\n",
        "            return newpath\n",
        "\n",
        "  def BFS(self, v):\n",
        "    self.visited.add(v)\n",
        "    self.queue.append(v)\n",
        "\n",
        "    while self.queue:\n",
        "      s = self.queue.pop(0)\n",
        "      print (s, end = \" \")\n",
        "\n",
        "      if s in self.graph:\n",
        "        for neighbour in self.graph[s]:\n",
        "          if neighbour not in self.visited:\n",
        "            self.visited.add(neighbour)\n",
        "            self.queue.append(neighbour)\n"
      ],
      "metadata": {
        "id": "S-T8Y175TGga"
      },
      "execution_count": null,
      "outputs": []
    },
    {
      "cell_type": "code",
      "source": [
        "tree = Graph()\n",
        "\n",
        "tree.addEdge('s', 'd')\n",
        "tree.addEdge('d', 'e')\n",
        "tree.addEdge('e', 'f')\n",
        "tree.addEdge('f', 'g')\n",
        "tree.addEdge('s', 'a')\n",
        "tree.addEdge('a', 'b')\n",
        "tree.addEdge('b', 'c')\n",
        "tree.addEdge('a', 'd')\n",
        "tree.addEdge('e', 'b')\n",
        "tree.addEdge('d', 'a')\n",
        "tree.addEdge('b', 'e')\n",
        "\n",
        "\n",
        "tree.addEdge('g', 'f')\n",
        "tree.addEdge('f', 'e')\n",
        "tree.addEdge('e', 'd')\n",
        "tree.addEdge('d', 's')\n",
        "tree.addEdge('c', 'b')\n",
        "tree.addEdge('b', 'a')\n",
        "tree.addEdge('a', 's')\n",
        "\n",
        "\n",
        "\n"
      ],
      "metadata": {
        "id": "_EG8bU_gTcOy"
      },
      "execution_count": null,
      "outputs": []
    },
    {
      "cell_type": "code",
      "source": [
        "print('BFS:\\n')\n",
        "tree.BFS('s')"
      ],
      "metadata": {
        "colab": {
          "base_uri": "https://localhost:8080/"
        },
        "id": "7IlURhdBaBbN",
        "outputId": "76d06d5f-5456-4fc7-ad9c-fc1cd89c486b"
      },
      "execution_count": null,
      "outputs": [
        {
          "output_type": "stream",
          "name": "stdout",
          "text": [
            "BFS:\n",
            "\n",
            "s d a e b f c g "
          ]
        }
      ]
    },
    {
      "cell_type": "code",
      "source": [
        "print(tree.graph)\n",
        "\n",
        "print(\"DFS: \\n\")\n",
        "tree.DFS('s')"
      ],
      "metadata": {
        "colab": {
          "base_uri": "https://localhost:8080/"
        },
        "id": "MpHhIejvmlIC",
        "outputId": "a73d32a4-8aee-48ac-827f-f4fe791c6c67"
      },
      "execution_count": null,
      "outputs": [
        {
          "output_type": "stream",
          "name": "stdout",
          "text": [
            "{'s': ['d', 'a'], 'd': ['e', 'a'], 'e': ['f', 'b'], 'f': ['g', 'e'], 'a': ['b', 'd'], 'b': ['c', 'e'], 'g': 'f', 'c': 'b'}\n",
            "DFS: \n",
            "\n",
            "s d e f g b c a "
          ]
        }
      ]
    },
    {
      "cell_type": "code",
      "source": [
        "print(\"Find Path: \\n\")\n",
        "print(tree.findPath('s', 'g'))"
      ],
      "metadata": {
        "colab": {
          "base_uri": "https://localhost:8080/"
        },
        "id": "skMSVXkaabXP",
        "outputId": "31e61d80-a66b-4d81-ea9d-9f6fcc9b14e8"
      },
      "execution_count": null,
      "outputs": [
        {
          "output_type": "stream",
          "name": "stdout",
          "text": [
            "Find Path: \n",
            "\n",
            "['s', 'd', 'e', 'f', 'g']\n"
          ]
        }
      ]
    },
    {
      "cell_type": "code",
      "source": [],
      "metadata": {
        "id": "__0SaDdfbtge"
      },
      "execution_count": null,
      "outputs": []
    }
  ]
}