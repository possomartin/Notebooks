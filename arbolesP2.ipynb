{
  "cells": [
    {
      "cell_type": "markdown",
      "metadata": {
        "id": "view-in-github",
        "colab_type": "text"
      },
      "source": [
        "<a href=\"https://colab.research.google.com/github/possomartin/Notebooks/blob/main/arbolesP2.ipynb\" target=\"_parent\"><img src=\"https://colab.research.google.com/assets/colab-badge.svg\" alt=\"Open In Colab\"/></a>"
      ]
    },
    {
      "cell_type": "markdown",
      "source": [
        "#UDLA\n",
        "#ISWZ3401-2626_2627-INTELIGENCIA ARTIFICIAL I\n",
        "\n",
        "\n",
        "---\n",
        "\n",
        "\n",
        "# Integrantes\n",
        "\n",
        "* Kevin Coloma\n",
        "* Fernando Orbe\n",
        "* Martin Posso\n",
        "\n",
        "\n",
        "---\n",
        "\n"
      ],
      "metadata": {
        "id": "qMSinejhPbOt"
      }
    },
    {
      "cell_type": "markdown",
      "source": [
        "# Old Code"
      ],
      "metadata": {
        "id": "P-5M_IqPP-PG"
      }
    },
    {
      "cell_type": "code",
      "execution_count": null,
      "metadata": {
        "id": "jxBcFQ0dgeOO",
        "outputId": "2ee9f51f-a252-440b-c63a-3f498793fa18",
        "colab": {
          "base_uri": "https://localhost:8080/",
          "height": 400
        }
      },
      "outputs": [
        {
          "output_type": "error",
          "ename": "FileNotFoundError",
          "evalue": "ignored",
          "traceback": [
            "\u001b[0;31m---------------------------------------------------------------------------\u001b[0m",
            "\u001b[0;31mFileNotFoundError\u001b[0m                         Traceback (most recent call last)",
            "\u001b[0;32m<ipython-input-33-bea4e71b554b>\u001b[0m in \u001b[0;36m<module>\u001b[0;34m()\u001b[0m\n\u001b[1;32m      4\u001b[0m \u001b[0;32mimport\u001b[0m \u001b[0mpandas\u001b[0m \u001b[0;32mas\u001b[0m \u001b[0mpd\u001b[0m\u001b[0;34m\u001b[0m\u001b[0;34m\u001b[0m\u001b[0m\n\u001b[1;32m      5\u001b[0m \u001b[0;34m\u001b[0m\u001b[0m\n\u001b[0;32m----> 6\u001b[0;31m \u001b[0mquemadura_data\u001b[0m \u001b[0;34m=\u001b[0m \u001b[0mpd\u001b[0m\u001b[0;34m.\u001b[0m\u001b[0mread_csv\u001b[0m\u001b[0;34m(\u001b[0m\u001b[0;34m\"arbQuemadura.csv\"\u001b[0m\u001b[0;34m,\u001b[0m \u001b[0mindex_col\u001b[0m\u001b[0;34m=\u001b[0m\u001b[0;36m0\u001b[0m\u001b[0;34m)\u001b[0m\u001b[0;34m\u001b[0m\u001b[0;34m\u001b[0m\u001b[0m\n\u001b[0m\u001b[1;32m      7\u001b[0m \u001b[0mquemadura_data\u001b[0m\u001b[0;34m.\u001b[0m\u001b[0mhead\u001b[0m\u001b[0;34m(\u001b[0m\u001b[0;34m)\u001b[0m\u001b[0;34m\u001b[0m\u001b[0;34m\u001b[0m\u001b[0m\n",
            "\u001b[0;32m/usr/local/lib/python3.7/dist-packages/pandas/util/_decorators.py\u001b[0m in \u001b[0;36mwrapper\u001b[0;34m(*args, **kwargs)\u001b[0m\n\u001b[1;32m    309\u001b[0m                     \u001b[0mstacklevel\u001b[0m\u001b[0;34m=\u001b[0m\u001b[0mstacklevel\u001b[0m\u001b[0;34m,\u001b[0m\u001b[0;34m\u001b[0m\u001b[0;34m\u001b[0m\u001b[0m\n\u001b[1;32m    310\u001b[0m                 )\n\u001b[0;32m--> 311\u001b[0;31m             \u001b[0;32mreturn\u001b[0m \u001b[0mfunc\u001b[0m\u001b[0;34m(\u001b[0m\u001b[0;34m*\u001b[0m\u001b[0margs\u001b[0m\u001b[0;34m,\u001b[0m \u001b[0;34m**\u001b[0m\u001b[0mkwargs\u001b[0m\u001b[0;34m)\u001b[0m\u001b[0;34m\u001b[0m\u001b[0;34m\u001b[0m\u001b[0m\n\u001b[0m\u001b[1;32m    312\u001b[0m \u001b[0;34m\u001b[0m\u001b[0m\n\u001b[1;32m    313\u001b[0m         \u001b[0;32mreturn\u001b[0m \u001b[0mwrapper\u001b[0m\u001b[0;34m\u001b[0m\u001b[0;34m\u001b[0m\u001b[0m\n",
            "\u001b[0;32m/usr/local/lib/python3.7/dist-packages/pandas/io/parsers/readers.py\u001b[0m in \u001b[0;36mread_csv\u001b[0;34m(filepath_or_buffer, sep, delimiter, header, names, index_col, usecols, squeeze, prefix, mangle_dupe_cols, dtype, engine, converters, true_values, false_values, skipinitialspace, skiprows, skipfooter, nrows, na_values, keep_default_na, na_filter, verbose, skip_blank_lines, parse_dates, infer_datetime_format, keep_date_col, date_parser, dayfirst, cache_dates, iterator, chunksize, compression, thousands, decimal, lineterminator, quotechar, quoting, doublequote, escapechar, comment, encoding, encoding_errors, dialect, error_bad_lines, warn_bad_lines, on_bad_lines, delim_whitespace, low_memory, memory_map, float_precision, storage_options)\u001b[0m\n\u001b[1;32m    584\u001b[0m     \u001b[0mkwds\u001b[0m\u001b[0;34m.\u001b[0m\u001b[0mupdate\u001b[0m\u001b[0;34m(\u001b[0m\u001b[0mkwds_defaults\u001b[0m\u001b[0;34m)\u001b[0m\u001b[0;34m\u001b[0m\u001b[0;34m\u001b[0m\u001b[0m\n\u001b[1;32m    585\u001b[0m \u001b[0;34m\u001b[0m\u001b[0m\n\u001b[0;32m--> 586\u001b[0;31m     \u001b[0;32mreturn\u001b[0m \u001b[0m_read\u001b[0m\u001b[0;34m(\u001b[0m\u001b[0mfilepath_or_buffer\u001b[0m\u001b[0;34m,\u001b[0m \u001b[0mkwds\u001b[0m\u001b[0;34m)\u001b[0m\u001b[0;34m\u001b[0m\u001b[0;34m\u001b[0m\u001b[0m\n\u001b[0m\u001b[1;32m    587\u001b[0m \u001b[0;34m\u001b[0m\u001b[0m\n\u001b[1;32m    588\u001b[0m \u001b[0;34m\u001b[0m\u001b[0m\n",
            "\u001b[0;32m/usr/local/lib/python3.7/dist-packages/pandas/io/parsers/readers.py\u001b[0m in \u001b[0;36m_read\u001b[0;34m(filepath_or_buffer, kwds)\u001b[0m\n\u001b[1;32m    480\u001b[0m \u001b[0;34m\u001b[0m\u001b[0m\n\u001b[1;32m    481\u001b[0m     \u001b[0;31m# Create the parser.\u001b[0m\u001b[0;34m\u001b[0m\u001b[0;34m\u001b[0m\u001b[0;34m\u001b[0m\u001b[0m\n\u001b[0;32m--> 482\u001b[0;31m     \u001b[0mparser\u001b[0m \u001b[0;34m=\u001b[0m \u001b[0mTextFileReader\u001b[0m\u001b[0;34m(\u001b[0m\u001b[0mfilepath_or_buffer\u001b[0m\u001b[0;34m,\u001b[0m \u001b[0;34m**\u001b[0m\u001b[0mkwds\u001b[0m\u001b[0;34m)\u001b[0m\u001b[0;34m\u001b[0m\u001b[0;34m\u001b[0m\u001b[0m\n\u001b[0m\u001b[1;32m    483\u001b[0m \u001b[0;34m\u001b[0m\u001b[0m\n\u001b[1;32m    484\u001b[0m     \u001b[0;32mif\u001b[0m \u001b[0mchunksize\u001b[0m \u001b[0;32mor\u001b[0m \u001b[0miterator\u001b[0m\u001b[0;34m:\u001b[0m\u001b[0;34m\u001b[0m\u001b[0;34m\u001b[0m\u001b[0m\n",
            "\u001b[0;32m/usr/local/lib/python3.7/dist-packages/pandas/io/parsers/readers.py\u001b[0m in \u001b[0;36m__init__\u001b[0;34m(self, f, engine, **kwds)\u001b[0m\n\u001b[1;32m    809\u001b[0m             \u001b[0mself\u001b[0m\u001b[0;34m.\u001b[0m\u001b[0moptions\u001b[0m\u001b[0;34m[\u001b[0m\u001b[0;34m\"has_index_names\"\u001b[0m\u001b[0;34m]\u001b[0m \u001b[0;34m=\u001b[0m \u001b[0mkwds\u001b[0m\u001b[0;34m[\u001b[0m\u001b[0;34m\"has_index_names\"\u001b[0m\u001b[0;34m]\u001b[0m\u001b[0;34m\u001b[0m\u001b[0;34m\u001b[0m\u001b[0m\n\u001b[1;32m    810\u001b[0m \u001b[0;34m\u001b[0m\u001b[0m\n\u001b[0;32m--> 811\u001b[0;31m         \u001b[0mself\u001b[0m\u001b[0;34m.\u001b[0m\u001b[0m_engine\u001b[0m \u001b[0;34m=\u001b[0m \u001b[0mself\u001b[0m\u001b[0;34m.\u001b[0m\u001b[0m_make_engine\u001b[0m\u001b[0;34m(\u001b[0m\u001b[0mself\u001b[0m\u001b[0;34m.\u001b[0m\u001b[0mengine\u001b[0m\u001b[0;34m)\u001b[0m\u001b[0;34m\u001b[0m\u001b[0;34m\u001b[0m\u001b[0m\n\u001b[0m\u001b[1;32m    812\u001b[0m \u001b[0;34m\u001b[0m\u001b[0m\n\u001b[1;32m    813\u001b[0m     \u001b[0;32mdef\u001b[0m \u001b[0mclose\u001b[0m\u001b[0;34m(\u001b[0m\u001b[0mself\u001b[0m\u001b[0;34m)\u001b[0m\u001b[0;34m:\u001b[0m\u001b[0;34m\u001b[0m\u001b[0;34m\u001b[0m\u001b[0m\n",
            "\u001b[0;32m/usr/local/lib/python3.7/dist-packages/pandas/io/parsers/readers.py\u001b[0m in \u001b[0;36m_make_engine\u001b[0;34m(self, engine)\u001b[0m\n\u001b[1;32m   1038\u001b[0m             )\n\u001b[1;32m   1039\u001b[0m         \u001b[0;31m# error: Too many arguments for \"ParserBase\"\u001b[0m\u001b[0;34m\u001b[0m\u001b[0;34m\u001b[0m\u001b[0;34m\u001b[0m\u001b[0m\n\u001b[0;32m-> 1040\u001b[0;31m         \u001b[0;32mreturn\u001b[0m \u001b[0mmapping\u001b[0m\u001b[0;34m[\u001b[0m\u001b[0mengine\u001b[0m\u001b[0;34m]\u001b[0m\u001b[0;34m(\u001b[0m\u001b[0mself\u001b[0m\u001b[0;34m.\u001b[0m\u001b[0mf\u001b[0m\u001b[0;34m,\u001b[0m \u001b[0;34m**\u001b[0m\u001b[0mself\u001b[0m\u001b[0;34m.\u001b[0m\u001b[0moptions\u001b[0m\u001b[0;34m)\u001b[0m  \u001b[0;31m# type: ignore[call-arg]\u001b[0m\u001b[0;34m\u001b[0m\u001b[0;34m\u001b[0m\u001b[0m\n\u001b[0m\u001b[1;32m   1041\u001b[0m \u001b[0;34m\u001b[0m\u001b[0m\n\u001b[1;32m   1042\u001b[0m     \u001b[0;32mdef\u001b[0m \u001b[0m_failover_to_python\u001b[0m\u001b[0;34m(\u001b[0m\u001b[0mself\u001b[0m\u001b[0;34m)\u001b[0m\u001b[0;34m:\u001b[0m\u001b[0;34m\u001b[0m\u001b[0;34m\u001b[0m\u001b[0m\n",
            "\u001b[0;32m/usr/local/lib/python3.7/dist-packages/pandas/io/parsers/c_parser_wrapper.py\u001b[0m in \u001b[0;36m__init__\u001b[0;34m(self, src, **kwds)\u001b[0m\n\u001b[1;32m     49\u001b[0m \u001b[0;34m\u001b[0m\u001b[0m\n\u001b[1;32m     50\u001b[0m         \u001b[0;31m# open handles\u001b[0m\u001b[0;34m\u001b[0m\u001b[0;34m\u001b[0m\u001b[0;34m\u001b[0m\u001b[0m\n\u001b[0;32m---> 51\u001b[0;31m         \u001b[0mself\u001b[0m\u001b[0;34m.\u001b[0m\u001b[0m_open_handles\u001b[0m\u001b[0;34m(\u001b[0m\u001b[0msrc\u001b[0m\u001b[0;34m,\u001b[0m \u001b[0mkwds\u001b[0m\u001b[0;34m)\u001b[0m\u001b[0;34m\u001b[0m\u001b[0;34m\u001b[0m\u001b[0m\n\u001b[0m\u001b[1;32m     52\u001b[0m         \u001b[0;32massert\u001b[0m \u001b[0mself\u001b[0m\u001b[0;34m.\u001b[0m\u001b[0mhandles\u001b[0m \u001b[0;32mis\u001b[0m \u001b[0;32mnot\u001b[0m \u001b[0;32mNone\u001b[0m\u001b[0;34m\u001b[0m\u001b[0;34m\u001b[0m\u001b[0m\n\u001b[1;32m     53\u001b[0m \u001b[0;34m\u001b[0m\u001b[0m\n",
            "\u001b[0;32m/usr/local/lib/python3.7/dist-packages/pandas/io/parsers/base_parser.py\u001b[0m in \u001b[0;36m_open_handles\u001b[0;34m(self, src, kwds)\u001b[0m\n\u001b[1;32m    227\u001b[0m             \u001b[0mmemory_map\u001b[0m\u001b[0;34m=\u001b[0m\u001b[0mkwds\u001b[0m\u001b[0;34m.\u001b[0m\u001b[0mget\u001b[0m\u001b[0;34m(\u001b[0m\u001b[0;34m\"memory_map\"\u001b[0m\u001b[0;34m,\u001b[0m \u001b[0;32mFalse\u001b[0m\u001b[0;34m)\u001b[0m\u001b[0;34m,\u001b[0m\u001b[0;34m\u001b[0m\u001b[0;34m\u001b[0m\u001b[0m\n\u001b[1;32m    228\u001b[0m             \u001b[0mstorage_options\u001b[0m\u001b[0;34m=\u001b[0m\u001b[0mkwds\u001b[0m\u001b[0;34m.\u001b[0m\u001b[0mget\u001b[0m\u001b[0;34m(\u001b[0m\u001b[0;34m\"storage_options\"\u001b[0m\u001b[0;34m,\u001b[0m \u001b[0;32mNone\u001b[0m\u001b[0;34m)\u001b[0m\u001b[0;34m,\u001b[0m\u001b[0;34m\u001b[0m\u001b[0;34m\u001b[0m\u001b[0m\n\u001b[0;32m--> 229\u001b[0;31m             \u001b[0merrors\u001b[0m\u001b[0;34m=\u001b[0m\u001b[0mkwds\u001b[0m\u001b[0;34m.\u001b[0m\u001b[0mget\u001b[0m\u001b[0;34m(\u001b[0m\u001b[0;34m\"encoding_errors\"\u001b[0m\u001b[0;34m,\u001b[0m \u001b[0;34m\"strict\"\u001b[0m\u001b[0;34m)\u001b[0m\u001b[0;34m,\u001b[0m\u001b[0;34m\u001b[0m\u001b[0;34m\u001b[0m\u001b[0m\n\u001b[0m\u001b[1;32m    230\u001b[0m         )\n\u001b[1;32m    231\u001b[0m \u001b[0;34m\u001b[0m\u001b[0m\n",
            "\u001b[0;32m/usr/local/lib/python3.7/dist-packages/pandas/io/common.py\u001b[0m in \u001b[0;36mget_handle\u001b[0;34m(path_or_buf, mode, encoding, compression, memory_map, is_text, errors, storage_options)\u001b[0m\n\u001b[1;32m    705\u001b[0m                 \u001b[0mencoding\u001b[0m\u001b[0;34m=\u001b[0m\u001b[0mioargs\u001b[0m\u001b[0;34m.\u001b[0m\u001b[0mencoding\u001b[0m\u001b[0;34m,\u001b[0m\u001b[0;34m\u001b[0m\u001b[0;34m\u001b[0m\u001b[0m\n\u001b[1;32m    706\u001b[0m                 \u001b[0merrors\u001b[0m\u001b[0;34m=\u001b[0m\u001b[0merrors\u001b[0m\u001b[0;34m,\u001b[0m\u001b[0;34m\u001b[0m\u001b[0;34m\u001b[0m\u001b[0m\n\u001b[0;32m--> 707\u001b[0;31m                 \u001b[0mnewline\u001b[0m\u001b[0;34m=\u001b[0m\u001b[0;34m\"\"\u001b[0m\u001b[0;34m,\u001b[0m\u001b[0;34m\u001b[0m\u001b[0;34m\u001b[0m\u001b[0m\n\u001b[0m\u001b[1;32m    708\u001b[0m             )\n\u001b[1;32m    709\u001b[0m         \u001b[0;32melse\u001b[0m\u001b[0;34m:\u001b[0m\u001b[0;34m\u001b[0m\u001b[0;34m\u001b[0m\u001b[0m\n",
            "\u001b[0;31mFileNotFoundError\u001b[0m: [Errno 2] No such file or directory: 'arbQuemadura.csv'"
          ]
        }
      ],
      "source": [
        "#cálculo numérico y análisis de datos\n",
        "import numpy as np\n",
        "#manipulación y análisis de datos (estructuras de datos)\n",
        "import pandas as pd\n",
        "\n",
        "quemadura_data = pd.read_csv(\"arbQuemadura.csv\", index_col=0)\n",
        "quemadura_data.head()\n"
      ]
    },
    {
      "cell_type": "code",
      "execution_count": null,
      "metadata": {
        "id": "v7TRvlqWgeOS",
        "outputId": "360e7d70-3652-4de2-d988-a3adcd40305d",
        "colab": {
          "base_uri": "https://localhost:8080/"
        }
      },
      "outputs": [
        {
          "output_type": "stream",
          "name": "stdout",
          "text": [
            "Entropia del arbol 0.9544340029249649\n"
          ]
        },
        {
          "output_type": "execute_result",
          "data": {
            "text/plain": [
              "(array(['no', 'si'], dtype=object), array([5, 3]))"
            ]
          },
          "metadata": {},
          "execution_count": 34
        }
      ],
      "source": [
        "#caluclar la entropia\n",
        "def calcular_entropia(p):\n",
        "    return -np.sum(p*np.log2(p))\n",
        "#contar las clases del arbol\n",
        "valores, cuantos = np.unique(quemadura_data['Quemadura'], return_counts=True)\n",
        "entropia = calcular_entropia(cuantos/sum(cuantos))\n",
        "print(\"Entropia del arbol\",entropia)\n",
        "valores,cuantos"
      ]
    },
    {
      "cell_type": "code",
      "execution_count": null,
      "metadata": {
        "id": "dm2tB2dAgeOS",
        "outputId": "d11d12dc-4497-41b9-e7e9-adbf39f4a317",
        "colab": {
          "base_uri": "https://localhost:8080/"
        }
      },
      "outputs": [
        {
          "output_type": "stream",
          "name": "stdout",
          "text": [
            "tiene se (array([2, 5, 6]),)\n",
            "se_quemadura 2    no\n",
            "5    no\n",
            "6    no\n",
            "Name: Quemadura, dtype: object\n",
            "subgrupos  ['no'] [3]\n",
            "se_entropia 0.0\n",
            "probabilidad valor 0.375\n",
            "info_A [[0.0, 0.375]]\n",
            "tiene se (array([4]),)\n",
            "se_quemadura 4    si\n",
            "Name: Quemadura, dtype: object\n",
            "subgrupos  ['si'] [1]\n",
            "se_entropia 0.0\n",
            "probabilidad valor 0.125\n",
            "info_A [[0.0, 0.375], [0.0, 0.125]]\n",
            "tiene se (array([0, 1, 3, 7]),)\n",
            "se_quemadura 0    si\n",
            "1    no\n",
            "3    si\n",
            "7    no\n",
            "Name: Quemadura, dtype: object\n",
            "subgrupos  ['no' 'si'] [2 2]\n",
            "se_entropia 1.0\n",
            "probabilidad valor 0.5\n",
            "info_A [[0.0, 0.375], [0.0, 0.125], [1.0, 0.5]]\n",
            "info_g 0.5\n",
            "ganancia de pelo 0.45443400292496494\n"
          ]
        }
      ],
      "source": [
        "#calcular la ganancia\n",
        "def calcular_ganancia(valores, var='Pelo'):\n",
        "\n",
        "    valores, cuantos = np.unique(quemadura_data[var],return_counts=True)\n",
        "    #genero una lista para calcular la ganancia\n",
        "    info_A = []\n",
        "\n",
        "    for e in valores:\n",
        "        se = np.where(quemadura_data[var]==e)\n",
        "        print(\"tiene se\",se)\n",
        "        #particiona por valor\n",
        "        se_quemadura = quemadura_data['Quemadura'][quemadura_data.index[se[0]]]\n",
        "        print(\"se_quemadura\",se_quemadura)\n",
        "        #valores por subgrupo\n",
        "        v_se_quemadura, c_se_quemadura = np.unique(se_quemadura,return_counts=True)\n",
        "        print(\"subgrupos \",v_se_quemadura,c_se_quemadura)\n",
        "        #entropia del valor\n",
        "        se_entropia = abs(calcular_entropia(c_se_quemadura/sum(c_se_quemadura)))\n",
        "        print(\"se_entropia\",se_entropia)\n",
        "        #probabilidad del valor\n",
        "        se_size = sum(c_se_quemadura)/len(quemadura_data.index)\n",
        "        print(\"probabilidad valor\",se_size)\n",
        "        #almacenar valores\n",
        "        info_A += [[se_entropia, se_size]]\n",
        "        print(\"info_A\",info_A)\n",
        "    #convertir lista en arreglo\n",
        "    info_A = np.array(info_A)\n",
        "    #calcular la entropia de la variable\n",
        "    info_g = np.sum(info_A[:,0]*info_A[:,1])\n",
        "    print(\"info_g\",info_g)\n",
        "    return info_g\n",
        "\n",
        "info_A= calcular_ganancia(valores, var='Pelo')\n",
        "ganancia = entropia - info_A\n",
        "print(\"ganancia de pelo\",ganancia)\n",
        "\n",
        "\n",
        "\n",
        "\n",
        "\n",
        "\n",
        "\n"
      ]
    },
    {
      "cell_type": "code",
      "execution_count": null,
      "metadata": {
        "id": "lZGvV9A1geOT",
        "outputId": "d8a5b9b1-a6b4-4470-a7b6-100fa3e224f1",
        "colab": {
          "base_uri": "https://localhost:8080/"
        }
      },
      "outputs": [
        {
          "output_type": "stream",
          "name": "stdout",
          "text": [
            "tiene se (array([1, 5]),)\n",
            "se_quemadura 1    no\n",
            "5    no\n",
            "Name: Quemadura, dtype: object\n",
            "subgrupos  ['no'] [2]\n",
            "se_entropia 0.0\n",
            "probabilidad valor 0.25\n",
            "info_A [[0.0, 0.25]]\n",
            "tiene se (array([2, 3, 7]),)\n",
            "se_quemadura 2    no\n",
            "3    si\n",
            "7    no\n",
            "Name: Quemadura, dtype: object\n",
            "subgrupos  ['no' 'si'] [2 1]\n",
            "se_entropia 0.9182958340544896\n",
            "probabilidad valor 0.375\n",
            "info_A [[0.0, 0.25], [0.9182958340544896, 0.375]]\n",
            "tiene se (array([0, 4, 6]),)\n",
            "se_quemadura 0    si\n",
            "4    si\n",
            "6    no\n",
            "Name: Quemadura, dtype: object\n",
            "subgrupos  ['no' 'si'] [1 2]\n",
            "se_entropia 0.9182958340544896\n",
            "probabilidad valor 0.375\n",
            "info_A [[0.0, 0.25], [0.9182958340544896, 0.375], [0.9182958340544896, 0.375]]\n",
            "info_g 0.6887218755408672\n",
            "ganancia de altura 0.2657121273840978\n"
          ]
        }
      ],
      "source": [
        "#altura\n",
        "info_A= calcular_ganancia(valores, var='Altura')\n",
        "ganancia = entropia - info_A\n",
        "print(\"ganancia de altura\",ganancia)"
      ]
    },
    {
      "cell_type": "code",
      "execution_count": null,
      "metadata": {
        "id": "8TdRATsngeOU",
        "outputId": "b8214888-cecd-46ea-c187-1112e76ebd64",
        "colab": {
          "base_uri": "https://localhost:8080/"
        }
      },
      "outputs": [
        {
          "output_type": "stream",
          "name": "stdout",
          "text": [
            "tiene se (array([4, 5, 6]),)\n",
            "se_quemadura 4    si\n",
            "5    no\n",
            "6    no\n",
            "Name: Quemadura, dtype: object\n",
            "subgrupos  ['no' 'si'] [2 1]\n",
            "se_entropia 0.9182958340544896\n",
            "probabilidad valor 0.375\n",
            "info_A [[0.9182958340544896, 0.375]]\n",
            "tiene se (array([0, 7]),)\n",
            "se_quemadura 0    si\n",
            "7    no\n",
            "Name: Quemadura, dtype: object\n",
            "subgrupos  ['no' 'si'] [1 1]\n",
            "se_entropia 1.0\n",
            "probabilidad valor 0.25\n",
            "info_A [[0.9182958340544896, 0.375], [1.0, 0.25]]\n",
            "tiene se (array([1, 2, 3]),)\n",
            "se_quemadura 1    no\n",
            "2    no\n",
            "3    si\n",
            "Name: Quemadura, dtype: object\n",
            "subgrupos  ['no' 'si'] [2 1]\n",
            "se_entropia 0.9182958340544896\n",
            "probabilidad valor 0.375\n",
            "info_A [[0.9182958340544896, 0.375], [1.0, 0.25], [0.9182958340544896, 0.375]]\n",
            "info_g 0.9387218755408671\n",
            "ganancia de peso 0.015712127384097885\n"
          ]
        }
      ],
      "source": [
        "#ganancia de peso\n",
        "info_A= calcular_ganancia(valores, var='Peso')\n",
        "ganancia = entropia - info_A\n",
        "print(\"ganancia de peso\",ganancia)"
      ]
    },
    {
      "cell_type": "code",
      "execution_count": null,
      "metadata": {
        "id": "-0CdyECjgeOV",
        "outputId": "cb158842-b571-4a4d-87de-f6f1c7bc96b4",
        "colab": {
          "base_uri": "https://localhost:8080/"
        }
      },
      "outputs": [
        {
          "output_type": "stream",
          "name": "stdout",
          "text": [
            "tiene se (array([0, 3, 4, 5, 6]),)\n",
            "se_quemadura 0    si\n",
            "3    si\n",
            "4    si\n",
            "5    no\n",
            "6    no\n",
            "Name: Quemadura, dtype: object\n",
            "subgrupos  ['no' 'si'] [2 3]\n",
            "se_entropia 0.9709505944546686\n",
            "probabilidad valor 0.625\n",
            "info_A [[0.9709505944546686, 0.625]]\n",
            "tiene se (array([1, 2, 7]),)\n",
            "se_quemadura 1    no\n",
            "2    no\n",
            "7    no\n",
            "Name: Quemadura, dtype: object\n",
            "subgrupos  ['no'] [3]\n",
            "se_entropia 0.0\n",
            "probabilidad valor 0.375\n",
            "info_A [[0.9709505944546686, 0.625], [0.0, 0.375]]\n",
            "info_g 0.6068441215341679\n",
            "ganancia de proteccion 0.34758988139079705\n"
          ]
        }
      ],
      "source": [
        "info_A= calcular_ganancia(valores, var='Proteccion')\n",
        "ganancia = entropia - info_A\n",
        "print(\"ganancia de proteccion\",ganancia)"
      ]
    },
    {
      "cell_type": "code",
      "execution_count": null,
      "metadata": {
        "id": "NMnzbj1ogeOV",
        "outputId": "94e056bf-a0cf-4d9a-afe5-93fac743ff12",
        "colab": {
          "base_uri": "https://localhost:8080/"
        }
      },
      "outputs": [
        {
          "output_type": "execute_result",
          "data": {
            "text/plain": [
              "(   Pelo  Altura  Peso  Proteccion\n",
              " 0     2       2     1           0\n",
              " 1     2       0     2           1\n",
              " 2     0       1     2           1\n",
              " 3     2       1     2           0\n",
              " 4     1       2     0           0\n",
              " 5     0       0     0           0\n",
              " 6     0       2     0           0\n",
              " 7     2       1     1           1, 0    1\n",
              " 1    0\n",
              " 2    0\n",
              " 3    1\n",
              " 4    1\n",
              " 5    0\n",
              " 6    0\n",
              " 7    0\n",
              " Name: Quemadura, dtype: int64, DecisionTreeClassifier(criterion='entropy', max_depth=4))"
            ]
          },
          "metadata": {},
          "execution_count": 39
        }
      ],
      "source": [
        "#utilizando la librería sklearn\n",
        "\n",
        "from sklearn import tree\n",
        "from sklearn import preprocessing\n",
        "\n",
        "data = pd.DataFrame()\n",
        "le = preprocessing.LabelEncoder()\n",
        "var = [\"Pelo\",\"Altura\",\"Peso\",\"Proteccion\",\"Quemadura\"]\n",
        "\n",
        "for v in var:\n",
        "    le.fit(quemadura_data[v])\n",
        "    data[v] = le.transform(quemadura_data[v])\n",
        "\n",
        "clf = tree.DecisionTreeClassifier(criterion='entropy',max_depth=4)\n",
        "\n",
        "t_data = data[data.columns[0:4]]\n",
        "t_target = data[data.columns[4]]\n",
        "\n",
        "clf = clf.fit(t_data, t_target)\n",
        "t_data, t_target,clf\n",
        "\n",
        "\n"
      ]
    },
    {
      "cell_type": "code",
      "execution_count": null,
      "metadata": {
        "id": "IZHPrx8YgeOW"
      },
      "outputs": [],
      "source": []
    },
    {
      "cell_type": "markdown",
      "source": [
        "# New Code for solution"
      ],
      "metadata": {
        "id": "Rs7WbAC5QA6M"
      }
    },
    {
      "cell_type": "markdown",
      "source": [
        "## Libraries"
      ],
      "metadata": {
        "id": "z0FItP3IQd8X"
      }
    },
    {
      "cell_type": "code",
      "source": [
        "import numpy as np\n",
        "import pandas as pd"
      ],
      "metadata": {
        "id": "fGh7ikHGQJUr"
      },
      "execution_count": null,
      "outputs": []
    },
    {
      "cell_type": "markdown",
      "source": [
        "### libraries for sklearn (testing purposes)"
      ],
      "metadata": {
        "id": "m5Q-MNXOAOsU"
      }
    },
    {
      "cell_type": "code",
      "source": [
        "import matplotlib.pyplot as plt\n",
        "\n",
        "from sklearn import preprocessing\n",
        "\n",
        "from sklearn.tree import DecisionTreeClassifier\n",
        "from sklearn.tree import plot_tree"
      ],
      "metadata": {
        "id": "ID5vUnY8AVDG"
      },
      "execution_count": null,
      "outputs": []
    },
    {
      "cell_type": "markdown",
      "source": [
        "## Load Data"
      ],
      "metadata": {
        "id": "vV3mUJgzQfnZ"
      }
    },
    {
      "cell_type": "code",
      "source": [
        "quemadura_data = pd.read_csv('/content/sample_data/arbQuemadura.csv')\n",
        "quemadura_data"
      ],
      "metadata": {
        "colab": {
          "base_uri": "https://localhost:8080/",
          "height": 300
        },
        "id": "wpU8b_2aQbPT",
        "outputId": "f77c5fef-b2c1-4681-b502-d72fd4b61585"
      },
      "execution_count": null,
      "outputs": [
        {
          "output_type": "execute_result",
          "data": {
            "text/plain": [
              "   Ejemplo    Pelo Altura   Peso Proteccion Quemadura\n",
              "0        1   rubio  medio   bajo        no         si\n",
              "1        2   rubio   alto  medio         si        no\n",
              "2        3  moreno   bajo  medio         si        no\n",
              "3        4   rubio   bajo  medio        no         si\n",
              "4        5    rojo  medio   alto        no         si\n",
              "5        6  moreno   alto   alto        no         no\n",
              "6        7  moreno  medio   alto        no         no\n",
              "7        8   rubio   bajo   bajo         si        no"
            ],
            "text/html": [
              "\n",
              "  <div id=\"df-504f78f8-dd0d-4252-b018-14a7d1e5fc86\">\n",
              "    <div class=\"colab-df-container\">\n",
              "      <div>\n",
              "<style scoped>\n",
              "    .dataframe tbody tr th:only-of-type {\n",
              "        vertical-align: middle;\n",
              "    }\n",
              "\n",
              "    .dataframe tbody tr th {\n",
              "        vertical-align: top;\n",
              "    }\n",
              "\n",
              "    .dataframe thead th {\n",
              "        text-align: right;\n",
              "    }\n",
              "</style>\n",
              "<table border=\"1\" class=\"dataframe\">\n",
              "  <thead>\n",
              "    <tr style=\"text-align: right;\">\n",
              "      <th></th>\n",
              "      <th>Ejemplo</th>\n",
              "      <th>Pelo</th>\n",
              "      <th>Altura</th>\n",
              "      <th>Peso</th>\n",
              "      <th>Proteccion</th>\n",
              "      <th>Quemadura</th>\n",
              "    </tr>\n",
              "  </thead>\n",
              "  <tbody>\n",
              "    <tr>\n",
              "      <th>0</th>\n",
              "      <td>1</td>\n",
              "      <td>rubio</td>\n",
              "      <td>medio</td>\n",
              "      <td>bajo</td>\n",
              "      <td>no</td>\n",
              "      <td>si</td>\n",
              "    </tr>\n",
              "    <tr>\n",
              "      <th>1</th>\n",
              "      <td>2</td>\n",
              "      <td>rubio</td>\n",
              "      <td>alto</td>\n",
              "      <td>medio</td>\n",
              "      <td>si</td>\n",
              "      <td>no</td>\n",
              "    </tr>\n",
              "    <tr>\n",
              "      <th>2</th>\n",
              "      <td>3</td>\n",
              "      <td>moreno</td>\n",
              "      <td>bajo</td>\n",
              "      <td>medio</td>\n",
              "      <td>si</td>\n",
              "      <td>no</td>\n",
              "    </tr>\n",
              "    <tr>\n",
              "      <th>3</th>\n",
              "      <td>4</td>\n",
              "      <td>rubio</td>\n",
              "      <td>bajo</td>\n",
              "      <td>medio</td>\n",
              "      <td>no</td>\n",
              "      <td>si</td>\n",
              "    </tr>\n",
              "    <tr>\n",
              "      <th>4</th>\n",
              "      <td>5</td>\n",
              "      <td>rojo</td>\n",
              "      <td>medio</td>\n",
              "      <td>alto</td>\n",
              "      <td>no</td>\n",
              "      <td>si</td>\n",
              "    </tr>\n",
              "    <tr>\n",
              "      <th>5</th>\n",
              "      <td>6</td>\n",
              "      <td>moreno</td>\n",
              "      <td>alto</td>\n",
              "      <td>alto</td>\n",
              "      <td>no</td>\n",
              "      <td>no</td>\n",
              "    </tr>\n",
              "    <tr>\n",
              "      <th>6</th>\n",
              "      <td>7</td>\n",
              "      <td>moreno</td>\n",
              "      <td>medio</td>\n",
              "      <td>alto</td>\n",
              "      <td>no</td>\n",
              "      <td>no</td>\n",
              "    </tr>\n",
              "    <tr>\n",
              "      <th>7</th>\n",
              "      <td>8</td>\n",
              "      <td>rubio</td>\n",
              "      <td>bajo</td>\n",
              "      <td>bajo</td>\n",
              "      <td>si</td>\n",
              "      <td>no</td>\n",
              "    </tr>\n",
              "  </tbody>\n",
              "</table>\n",
              "</div>\n",
              "      <button class=\"colab-df-convert\" onclick=\"convertToInteractive('df-504f78f8-dd0d-4252-b018-14a7d1e5fc86')\"\n",
              "              title=\"Convert this dataframe to an interactive table.\"\n",
              "              style=\"display:none;\">\n",
              "        \n",
              "  <svg xmlns=\"http://www.w3.org/2000/svg\" height=\"24px\"viewBox=\"0 0 24 24\"\n",
              "       width=\"24px\">\n",
              "    <path d=\"M0 0h24v24H0V0z\" fill=\"none\"/>\n",
              "    <path d=\"M18.56 5.44l.94 2.06.94-2.06 2.06-.94-2.06-.94-.94-2.06-.94 2.06-2.06.94zm-11 1L8.5 8.5l.94-2.06 2.06-.94-2.06-.94L8.5 2.5l-.94 2.06-2.06.94zm10 10l.94 2.06.94-2.06 2.06-.94-2.06-.94-.94-2.06-.94 2.06-2.06.94z\"/><path d=\"M17.41 7.96l-1.37-1.37c-.4-.4-.92-.59-1.43-.59-.52 0-1.04.2-1.43.59L10.3 9.45l-7.72 7.72c-.78.78-.78 2.05 0 2.83L4 21.41c.39.39.9.59 1.41.59.51 0 1.02-.2 1.41-.59l7.78-7.78 2.81-2.81c.8-.78.8-2.07 0-2.86zM5.41 20L4 18.59l7.72-7.72 1.47 1.35L5.41 20z\"/>\n",
              "  </svg>\n",
              "      </button>\n",
              "      \n",
              "  <style>\n",
              "    .colab-df-container {\n",
              "      display:flex;\n",
              "      flex-wrap:wrap;\n",
              "      gap: 12px;\n",
              "    }\n",
              "\n",
              "    .colab-df-convert {\n",
              "      background-color: #E8F0FE;\n",
              "      border: none;\n",
              "      border-radius: 50%;\n",
              "      cursor: pointer;\n",
              "      display: none;\n",
              "      fill: #1967D2;\n",
              "      height: 32px;\n",
              "      padding: 0 0 0 0;\n",
              "      width: 32px;\n",
              "    }\n",
              "\n",
              "    .colab-df-convert:hover {\n",
              "      background-color: #E2EBFA;\n",
              "      box-shadow: 0px 1px 2px rgba(60, 64, 67, 0.3), 0px 1px 3px 1px rgba(60, 64, 67, 0.15);\n",
              "      fill: #174EA6;\n",
              "    }\n",
              "\n",
              "    [theme=dark] .colab-df-convert {\n",
              "      background-color: #3B4455;\n",
              "      fill: #D2E3FC;\n",
              "    }\n",
              "\n",
              "    [theme=dark] .colab-df-convert:hover {\n",
              "      background-color: #434B5C;\n",
              "      box-shadow: 0px 1px 3px 1px rgba(0, 0, 0, 0.15);\n",
              "      filter: drop-shadow(0px 1px 2px rgba(0, 0, 0, 0.3));\n",
              "      fill: #FFFFFF;\n",
              "    }\n",
              "  </style>\n",
              "\n",
              "      <script>\n",
              "        const buttonEl =\n",
              "          document.querySelector('#df-504f78f8-dd0d-4252-b018-14a7d1e5fc86 button.colab-df-convert');\n",
              "        buttonEl.style.display =\n",
              "          google.colab.kernel.accessAllowed ? 'block' : 'none';\n",
              "\n",
              "        async function convertToInteractive(key) {\n",
              "          const element = document.querySelector('#df-504f78f8-dd0d-4252-b018-14a7d1e5fc86');\n",
              "          const dataTable =\n",
              "            await google.colab.kernel.invokeFunction('convertToInteractive',\n",
              "                                                     [key], {});\n",
              "          if (!dataTable) return;\n",
              "\n",
              "          const docLinkHtml = 'Like what you see? Visit the ' +\n",
              "            '<a target=\"_blank\" href=https://colab.research.google.com/notebooks/data_table.ipynb>data table notebook</a>'\n",
              "            + ' to learn more about interactive tables.';\n",
              "          element.innerHTML = '';\n",
              "          dataTable['output_type'] = 'display_data';\n",
              "          await google.colab.output.renderOutput(dataTable, element);\n",
              "          const docLink = document.createElement('div');\n",
              "          docLink.innerHTML = docLinkHtml;\n",
              "          element.appendChild(docLink);\n",
              "        }\n",
              "      </script>\n",
              "    </div>\n",
              "  </div>\n",
              "  "
            ]
          },
          "metadata": {},
          "execution_count": 3
        }
      ]
    },
    {
      "cell_type": "markdown",
      "source": [
        "## Preprocessing for Sklearn"
      ],
      "metadata": {
        "id": "bHTCyvlfAbfW"
      }
    },
    {
      "cell_type": "code",
      "source": [
        "df = quemadura_data.copy()\n",
        "\n",
        "#Transformar a valores numeicos\n",
        "le = preprocessing.LabelEncoder()\n",
        "\n",
        "var = df.columns[1:-1]\n",
        "\n",
        "data = df.copy()\n",
        "\n",
        "for v in var:\n",
        "    le.fit(df[v])\n",
        "    data[v] = le.transform(df[v])\n",
        "\n",
        "data"
      ],
      "metadata": {
        "colab": {
          "base_uri": "https://localhost:8080/",
          "height": 300
        },
        "id": "2rMx4en-ADr3",
        "outputId": "bc388afb-8604-4502-aa11-7d9dfdc57851"
      },
      "execution_count": null,
      "outputs": [
        {
          "output_type": "execute_result",
          "data": {
            "text/plain": [
              "   Ejemplo  Pelo  Altura  Peso  Proteccion Quemadura\n",
              "0        1     2       2     1           0        si\n",
              "1        2     2       0     2           1        no\n",
              "2        3     0       1     2           1        no\n",
              "3        4     2       1     2           0        si\n",
              "4        5     1       2     0           0        si\n",
              "5        6     0       0     0           0        no\n",
              "6        7     0       2     0           0        no\n",
              "7        8     2       1     1           1        no"
            ],
            "text/html": [
              "\n",
              "  <div id=\"df-f7f89400-364c-4dd1-a1a2-4a8f9dcb8147\">\n",
              "    <div class=\"colab-df-container\">\n",
              "      <div>\n",
              "<style scoped>\n",
              "    .dataframe tbody tr th:only-of-type {\n",
              "        vertical-align: middle;\n",
              "    }\n",
              "\n",
              "    .dataframe tbody tr th {\n",
              "        vertical-align: top;\n",
              "    }\n",
              "\n",
              "    .dataframe thead th {\n",
              "        text-align: right;\n",
              "    }\n",
              "</style>\n",
              "<table border=\"1\" class=\"dataframe\">\n",
              "  <thead>\n",
              "    <tr style=\"text-align: right;\">\n",
              "      <th></th>\n",
              "      <th>Ejemplo</th>\n",
              "      <th>Pelo</th>\n",
              "      <th>Altura</th>\n",
              "      <th>Peso</th>\n",
              "      <th>Proteccion</th>\n",
              "      <th>Quemadura</th>\n",
              "    </tr>\n",
              "  </thead>\n",
              "  <tbody>\n",
              "    <tr>\n",
              "      <th>0</th>\n",
              "      <td>1</td>\n",
              "      <td>2</td>\n",
              "      <td>2</td>\n",
              "      <td>1</td>\n",
              "      <td>0</td>\n",
              "      <td>si</td>\n",
              "    </tr>\n",
              "    <tr>\n",
              "      <th>1</th>\n",
              "      <td>2</td>\n",
              "      <td>2</td>\n",
              "      <td>0</td>\n",
              "      <td>2</td>\n",
              "      <td>1</td>\n",
              "      <td>no</td>\n",
              "    </tr>\n",
              "    <tr>\n",
              "      <th>2</th>\n",
              "      <td>3</td>\n",
              "      <td>0</td>\n",
              "      <td>1</td>\n",
              "      <td>2</td>\n",
              "      <td>1</td>\n",
              "      <td>no</td>\n",
              "    </tr>\n",
              "    <tr>\n",
              "      <th>3</th>\n",
              "      <td>4</td>\n",
              "      <td>2</td>\n",
              "      <td>1</td>\n",
              "      <td>2</td>\n",
              "      <td>0</td>\n",
              "      <td>si</td>\n",
              "    </tr>\n",
              "    <tr>\n",
              "      <th>4</th>\n",
              "      <td>5</td>\n",
              "      <td>1</td>\n",
              "      <td>2</td>\n",
              "      <td>0</td>\n",
              "      <td>0</td>\n",
              "      <td>si</td>\n",
              "    </tr>\n",
              "    <tr>\n",
              "      <th>5</th>\n",
              "      <td>6</td>\n",
              "      <td>0</td>\n",
              "      <td>0</td>\n",
              "      <td>0</td>\n",
              "      <td>0</td>\n",
              "      <td>no</td>\n",
              "    </tr>\n",
              "    <tr>\n",
              "      <th>6</th>\n",
              "      <td>7</td>\n",
              "      <td>0</td>\n",
              "      <td>2</td>\n",
              "      <td>0</td>\n",
              "      <td>0</td>\n",
              "      <td>no</td>\n",
              "    </tr>\n",
              "    <tr>\n",
              "      <th>7</th>\n",
              "      <td>8</td>\n",
              "      <td>2</td>\n",
              "      <td>1</td>\n",
              "      <td>1</td>\n",
              "      <td>1</td>\n",
              "      <td>no</td>\n",
              "    </tr>\n",
              "  </tbody>\n",
              "</table>\n",
              "</div>\n",
              "      <button class=\"colab-df-convert\" onclick=\"convertToInteractive('df-f7f89400-364c-4dd1-a1a2-4a8f9dcb8147')\"\n",
              "              title=\"Convert this dataframe to an interactive table.\"\n",
              "              style=\"display:none;\">\n",
              "        \n",
              "  <svg xmlns=\"http://www.w3.org/2000/svg\" height=\"24px\"viewBox=\"0 0 24 24\"\n",
              "       width=\"24px\">\n",
              "    <path d=\"M0 0h24v24H0V0z\" fill=\"none\"/>\n",
              "    <path d=\"M18.56 5.44l.94 2.06.94-2.06 2.06-.94-2.06-.94-.94-2.06-.94 2.06-2.06.94zm-11 1L8.5 8.5l.94-2.06 2.06-.94-2.06-.94L8.5 2.5l-.94 2.06-2.06.94zm10 10l.94 2.06.94-2.06 2.06-.94-2.06-.94-.94-2.06-.94 2.06-2.06.94z\"/><path d=\"M17.41 7.96l-1.37-1.37c-.4-.4-.92-.59-1.43-.59-.52 0-1.04.2-1.43.59L10.3 9.45l-7.72 7.72c-.78.78-.78 2.05 0 2.83L4 21.41c.39.39.9.59 1.41.59.51 0 1.02-.2 1.41-.59l7.78-7.78 2.81-2.81c.8-.78.8-2.07 0-2.86zM5.41 20L4 18.59l7.72-7.72 1.47 1.35L5.41 20z\"/>\n",
              "  </svg>\n",
              "      </button>\n",
              "      \n",
              "  <style>\n",
              "    .colab-df-container {\n",
              "      display:flex;\n",
              "      flex-wrap:wrap;\n",
              "      gap: 12px;\n",
              "    }\n",
              "\n",
              "    .colab-df-convert {\n",
              "      background-color: #E8F0FE;\n",
              "      border: none;\n",
              "      border-radius: 50%;\n",
              "      cursor: pointer;\n",
              "      display: none;\n",
              "      fill: #1967D2;\n",
              "      height: 32px;\n",
              "      padding: 0 0 0 0;\n",
              "      width: 32px;\n",
              "    }\n",
              "\n",
              "    .colab-df-convert:hover {\n",
              "      background-color: #E2EBFA;\n",
              "      box-shadow: 0px 1px 2px rgba(60, 64, 67, 0.3), 0px 1px 3px 1px rgba(60, 64, 67, 0.15);\n",
              "      fill: #174EA6;\n",
              "    }\n",
              "\n",
              "    [theme=dark] .colab-df-convert {\n",
              "      background-color: #3B4455;\n",
              "      fill: #D2E3FC;\n",
              "    }\n",
              "\n",
              "    [theme=dark] .colab-df-convert:hover {\n",
              "      background-color: #434B5C;\n",
              "      box-shadow: 0px 1px 3px 1px rgba(0, 0, 0, 0.15);\n",
              "      filter: drop-shadow(0px 1px 2px rgba(0, 0, 0, 0.3));\n",
              "      fill: #FFFFFF;\n",
              "    }\n",
              "  </style>\n",
              "\n",
              "      <script>\n",
              "        const buttonEl =\n",
              "          document.querySelector('#df-f7f89400-364c-4dd1-a1a2-4a8f9dcb8147 button.colab-df-convert');\n",
              "        buttonEl.style.display =\n",
              "          google.colab.kernel.accessAllowed ? 'block' : 'none';\n",
              "\n",
              "        async function convertToInteractive(key) {\n",
              "          const element = document.querySelector('#df-f7f89400-364c-4dd1-a1a2-4a8f9dcb8147');\n",
              "          const dataTable =\n",
              "            await google.colab.kernel.invokeFunction('convertToInteractive',\n",
              "                                                     [key], {});\n",
              "          if (!dataTable) return;\n",
              "\n",
              "          const docLinkHtml = 'Like what you see? Visit the ' +\n",
              "            '<a target=\"_blank\" href=https://colab.research.google.com/notebooks/data_table.ipynb>data table notebook</a>'\n",
              "            + ' to learn more about interactive tables.';\n",
              "          element.innerHTML = '';\n",
              "          dataTable['output_type'] = 'display_data';\n",
              "          await google.colab.output.renderOutput(dataTable, element);\n",
              "          const docLink = document.createElement('div');\n",
              "          docLink.innerHTML = docLinkHtml;\n",
              "          element.appendChild(docLink);\n",
              "        }\n",
              "      </script>\n",
              "    </div>\n",
              "  </div>\n",
              "  "
            ]
          },
          "metadata": {},
          "execution_count": 272
        }
      ]
    },
    {
      "cell_type": "markdown",
      "source": [
        "## Model Fitting"
      ],
      "metadata": {
        "id": "0hz09TqwApKL"
      }
    },
    {
      "cell_type": "code",
      "source": [
        "explicativas = data.drop(columns=['Ejemplo', 'Quemadura'])\n",
        "Objetivo = data['Quemadura']"
      ],
      "metadata": {
        "id": "JYXs_Q6QApd1"
      },
      "execution_count": null,
      "outputs": []
    },
    {
      "cell_type": "code",
      "source": [
        "model = DecisionTreeClassifier(criterion='entropy')\n",
        "\n",
        "model.fit(X=explicativas, y=Objetivo)"
      ],
      "metadata": {
        "colab": {
          "base_uri": "https://localhost:8080/"
        },
        "id": "3Dijiq6ZAyLf",
        "outputId": "2fa26fff-a969-491e-b81f-a31de871878a"
      },
      "execution_count": null,
      "outputs": [
        {
          "output_type": "execute_result",
          "data": {
            "text/plain": [
              "DecisionTreeClassifier(criterion='entropy')"
            ]
          },
          "metadata": {},
          "execution_count": 282
        }
      ]
    },
    {
      "cell_type": "markdown",
      "source": [
        "## Model Visualization"
      ],
      "metadata": {
        "id": "4DFeOc2isaaD"
      }
    },
    {
      "cell_type": "code",
      "source": [
        "plt.figure(figsize=(14, 12))\n",
        "plot_tree(decision_tree=model, feature_names=explicativas.columns, filled=True, class_names=['Quema', 'No Quema']);"
      ],
      "metadata": {
        "colab": {
          "base_uri": "https://localhost:8080/",
          "height": 683
        },
        "id": "3yQ1Yy4vA51m",
        "outputId": "f0f1a247-b322-4909-be39-be6e149e9834"
      },
      "execution_count": null,
      "outputs": [
        {
          "output_type": "display_data",
          "data": {
            "text/plain": [
              "<Figure size 1008x864 with 1 Axes>"
            ],
            "image/png": "[encoded data removed]"
          },
          "metadata": {
            "needs_background": "light"
          }
        }
      ]
    },
    {
      "cell_type": "markdown",
      "source": [
        "## Functions declarations"
      ],
      "metadata": {
        "id": "3EIgAeCDQy5E"
      }
    },
    {
      "cell_type": "code",
      "source": [
        "#compute entropy\n",
        "\n",
        "def calcular_entropia(p):\n",
        "  return -np.sum(p * np.log2(p))\n",
        "\n",
        "# Calculate\n",
        "\n",
        "#calcular la ganancia\n",
        "def calcular_ganancia(var= 'Pelo', next_node = None):\n",
        "\n",
        "    cuantos = quemadura_data[var].value_counts()\n",
        "    valores = cuantos.keys()\n",
        "    #genero una lista para calcular la ganancia\n",
        "    info_A = []\n",
        "\n",
        "    for e in valores:\n",
        "\n",
        "        se = np.where(quemadura_data[var] == e)\n",
        "\n",
        "        #particiona por valor\n",
        "        se_quemadura = quemadura_data['Quemadura'][quemadura_data.index[se[0]]]\n",
        "\n",
        "        #valores por subgrupo\n",
        "\n",
        "        c_se_quemadura = se_quemadura.value_counts()\n",
        "        v_se_quemadura = c_se_quemadura.keys()\n",
        "\n",
        "        #entropia del valor\n",
        "        se_entropia = abs(calcular_entropia(c_se_quemadura/sum(c_se_quemadura)))\n",
        "\n",
        "        #probabilidad del valor\n",
        "        se_size = sum(c_se_quemadura)/len(quemadura_data.index)\n",
        "\n",
        "        #almacenar valores\n",
        "        info_A += [[se_entropia, se_size]]\n",
        "\n",
        "        if (len(v_se_quemadura) == 1):\n",
        "          if('no' in v_se_quemadura):\n",
        "            print('\\nNodo evaluado: ', e + ' ---> Clase: no quema')\n",
        "          else:\n",
        "            print('\\nNodo evaluado: ', e + ' ---> Clase: si quema')\n",
        "        else:\n",
        "          print('\\n\\t• De: ' + e)\n",
        "          print('\\t\\t~ Siguiente nodo: ', next_node + '\\n')\n",
        "\n",
        "        print('\\t• Value: ', c_se_quemadura.to_dict())\n",
        "        print('\\t• Sample: ', c_se_quemadura.sum())\n",
        "        print('\\t• Entropia: ', se_entropia)\n",
        "        print('\\t• Size: ', se_entropia)\n",
        "        #print('\\t'v_se_quemadura)\n",
        "\n",
        "    #convertir lista en arreglo\n",
        "    info_A = np.array(info_A)\n",
        "    #calcular la entropia de la variable\n",
        "    info_g = np.sum(info_A[:,0]*info_A[:,1])\n",
        "    return info_g"
      ],
      "metadata": {
        "id": "uobx1rQkQwG0"
      },
      "execution_count": null,
      "outputs": []
    },
    {
      "cell_type": "markdown",
      "source": [
        "## Calculate Entropy"
      ],
      "metadata": {
        "id": "w6TI3hbaWVRq"
      }
    },
    {
      "cell_type": "code",
      "source": [
        "entropy_valores = quemadura_data['Quemadura'].value_counts()\n",
        "\n",
        "#normalize data\n",
        "norm_valores = entropy_valores / entropy_valores.sum()\n",
        "\n",
        "entropia = calcular_entropia(norm_valores)\n",
        "\n",
        "print('Entropia del Arbol: ', entropia)\n",
        "print('Valores contados: ')\n",
        "print(entropy_valores)\n",
        "print('Valores Normalizados: ')\n",
        "print(norm_valores)\n"
      ],
      "metadata": {
        "colab": {
          "base_uri": "https://localhost:8080/"
        },
        "id": "gLQdnJ1mREcO",
        "outputId": "02f4d988-239e-4be4-b590-f2a7cdcea2e6"
      },
      "execution_count": null,
      "outputs": [
        {
          "output_type": "stream",
          "name": "stdout",
          "text": [
            "Entropia del Arbol:  0.9544340029249649\n",
            "Valores contados: \n",
            "no    5\n",
            "si    3\n",
            "Name: Quemadura, dtype: int64\n",
            "Valores Normalizados: \n",
            "no    0.625\n",
            "si    0.375\n",
            "Name: Quemadura, dtype: float64\n"
          ]
        }
      ]
    },
    {
      "cell_type": "markdown",
      "source": [
        "## Individual Profit"
      ],
      "metadata": {
        "id": "vNXTZlGdehiY"
      }
    },
    {
      "cell_type": "markdown",
      "source": [
        "> * Ejemplo con atributo 'Pelo'"
      ],
      "metadata": {
        "id": "icdQURp3tB9V"
      }
    },
    {
      "cell_type": "code",
      "source": [
        "nodo = 'Pelo'\n",
        "print('Nodo: ', nodo)\n",
        "print('_____________________')\n",
        "\n",
        "info_a = calcular_ganancia(var= 'Pelo', next_node = '')\n",
        "\n",
        "entropy_values = quemadura_data['Quemadura'].value_counts()\n",
        "#normalize data\n",
        "norm_values = entropy_values / entropy_values.sum()\n",
        "\n",
        "entropy = calcular_entropia(norm_values)\n",
        "\n",
        "\n",
        "ganancia = entropy - info_a\n",
        "\n",
        "#Printing Values\n",
        "\n",
        "print(\"\\n• Entropia: \", info_a)\n",
        "print('• Ganancia: ', ganancia)\n",
        "\n",
        "print('_____________________')"
      ],
      "metadata": {
        "colab": {
          "base_uri": "https://localhost:8080/"
        },
        "id": "0HSWdibFeiaI",
        "outputId": "55f43968-e883-4c21-ff8c-167ee912371b"
      },
      "execution_count": null,
      "outputs": [
        {
          "output_type": "stream",
          "name": "stdout",
          "text": [
            "Nodo:  Pelo\n",
            "_____________________\n",
            "\n",
            "\t• De: rubio\n",
            "\t\t~ Siguiente nodo:  \n",
            "\n",
            "\t• Value:  {'si': 2, 'no': 2}\n",
            "\t• Sample:  4\n",
            "\t• Entropia:  1.0\n",
            "\t• Size:  1.0\n",
            "\n",
            "Nodo evaluado:  moreno ---> Clase: no quema\n",
            "\t• Value:  {'no': 3}\n",
            "\t• Sample:  3\n",
            "\t• Entropia:  0.0\n",
            "\t• Size:  0.0\n",
            "\n",
            "Nodo evaluado:  rojo ---> Clase: si quema\n",
            "\t• Value:  {'si': 1}\n",
            "\t• Sample:  1\n",
            "\t• Entropia:  0.0\n",
            "\t• Size:  0.0\n",
            "\n",
            "• Entropia:  0.5\n",
            "• Ganancia:  0.45443400292496494\n",
            "_____________________\n"
          ]
        }
      ]
    },
    {
      "cell_type": "markdown",
      "source": [
        "## Calculate Profit of all columns on our dataframe"
      ],
      "metadata": {
        "id": "dVY29qTyX1BR"
      }
    },
    {
      "cell_type": "code",
      "source": [
        "var = quemadura_data.keys()\n",
        "incomes = {}\n",
        "\n",
        "for v in var[1:-1]:\n",
        "  print('Nodo: ', v)\n",
        "  print('_____________________')\n",
        "\n",
        "  info_a = calcular_ganancia(var= v, next_node = '')\n",
        "\n",
        "  entropy_values = quemadura_data['Quemadura'].value_counts()\n",
        "  #normalize data\n",
        "  norm_values = entropy_values / entropy_values.sum()\n",
        "\n",
        "  entropy = calcular_entropia(norm_values)\n",
        "\n",
        "\n",
        "  ganancia = entropy - info_a\n",
        "  incomes[v] = ganancia\n",
        "\n",
        "  #Printing Values\n",
        "\n",
        "  print(\"\\n• Entropia: \", info_a)\n",
        "  print('• Ganancia: ', ganancia)\n",
        "\n",
        "  print('_____________________')\n",
        "\n",
        "max_income = max(incomes, key=incomes.get)\n",
        "\n",
        "\n",
        "print('Ganancias ---->: ', incomes)\n",
        "print('Nodo Importante: ', max_income)"
      ],
      "metadata": {
        "colab": {
          "base_uri": "https://localhost:8080/"
        },
        "id": "9oGD6h7lWdvT",
        "outputId": "d77587db-855e-4c6c-ca23-fa0d2e3ef57f"
      },
      "execution_count": null,
      "outputs": [
        {
          "output_type": "stream",
          "name": "stdout",
          "text": [
            "Nodo:  Pelo\n",
            "_____________________\n",
            "\n",
            "\t• De: rubio\n",
            "\t\t~ Siguiente nodo:  \n",
            "\n",
            "\t• Value:  {'si': 2, 'no': 2}\n",
            "\t• Sample:  4\n",
            "\t• Entropia:  1.0\n",
            "\t• Size:  1.0\n",
            "\n",
            "Nodo evaluado:  moreno ---> Clase: no quema\n",
            "\t• Value:  {'no': 3}\n",
            "\t• Sample:  3\n",
            "\t• Entropia:  0.0\n",
            "\t• Size:  0.0\n",
            "\n",
            "Nodo evaluado:  rojo ---> Clase: si quema\n",
            "\t• Value:  {'si': 1}\n",
            "\t• Sample:  1\n",
            "\t• Entropia:  0.0\n",
            "\t• Size:  0.0\n",
            "\n",
            "• Entropia:  0.5\n",
            "• Ganancia:  0.45443400292496494\n",
            "_____________________\n",
            "Nodo:  Altura\n",
            "_____________________\n",
            "\n",
            "\t• De: medio\n",
            "\t\t~ Siguiente nodo:  \n",
            "\n",
            "\t• Value:  {'si': 2, 'no': 1}\n",
            "\t• Sample:  3\n",
            "\t• Entropia:  0.9182958340544896\n",
            "\t• Size:  0.9182958340544896\n",
            "\n",
            "\t• De: bajo\n",
            "\t\t~ Siguiente nodo:  \n",
            "\n",
            "\t• Value:  {'no': 2, 'si': 1}\n",
            "\t• Sample:  3\n",
            "\t• Entropia:  0.9182958340544896\n",
            "\t• Size:  0.9182958340544896\n",
            "\n",
            "Nodo evaluado:  alto ---> Clase: no quema\n",
            "\t• Value:  {'no': 2}\n",
            "\t• Sample:  2\n",
            "\t• Entropia:  0.0\n",
            "\t• Size:  0.0\n",
            "\n",
            "• Entropia:  0.6887218755408672\n",
            "• Ganancia:  0.2657121273840978\n",
            "_____________________\n",
            "Nodo:  Peso\n",
            "_____________________\n",
            "\n",
            "\t• De: medio\n",
            "\t\t~ Siguiente nodo:  \n",
            "\n",
            "\t• Value:  {'no': 2, 'si': 1}\n",
            "\t• Sample:  3\n",
            "\t• Entropia:  0.9182958340544896\n",
            "\t• Size:  0.9182958340544896\n",
            "\n",
            "\t• De: alto\n",
            "\t\t~ Siguiente nodo:  \n",
            "\n",
            "\t• Value:  {'no': 2, 'si': 1}\n",
            "\t• Sample:  3\n",
            "\t• Entropia:  0.9182958340544896\n",
            "\t• Size:  0.9182958340544896\n",
            "\n",
            "\t• De: bajo\n",
            "\t\t~ Siguiente nodo:  \n",
            "\n",
            "\t• Value:  {'si': 1, 'no': 1}\n",
            "\t• Sample:  2\n",
            "\t• Entropia:  1.0\n",
            "\t• Size:  1.0\n",
            "\n",
            "• Entropia:  0.9387218755408672\n",
            "• Ganancia:  0.015712127384097774\n",
            "_____________________\n",
            "Nodo:  Proteccion\n",
            "_____________________\n",
            "\n",
            "\t• De: no \n",
            "\t\t~ Siguiente nodo:  \n",
            "\n",
            "\t• Value:  {'si': 3, 'no': 2}\n",
            "\t• Sample:  5\n",
            "\t• Entropia:  0.9709505944546686\n",
            "\t• Size:  0.9709505944546686\n",
            "\n",
            "Nodo evaluado:  si ---> Clase: no quema\n",
            "\t• Value:  {'no': 3}\n",
            "\t• Sample:  3\n",
            "\t• Entropia:  0.0\n",
            "\t• Size:  0.0\n",
            "\n",
            "• Entropia:  0.6068441215341679\n",
            "• Ganancia:  0.34758988139079705\n",
            "_____________________\n",
            "Ganancias ---->:  {'Pelo': 0.45443400292496494, 'Altura': 0.2657121273840978, 'Peso': 0.015712127384097774, 'Proteccion': 0.34758988139079705}\n",
            "Nodo Importante:  Pelo\n"
          ]
        }
      ]
    },
    {
      "cell_type": "markdown",
      "source": [
        "## We calculate our decision tree using the profits we got above"
      ],
      "metadata": {
        "id": "hqBQlxL6Sp0U"
      }
    },
    {
      "cell_type": "code",
      "source": [
        "sorted_list = sorted(incomes.items(), key=lambda x: (x[1], x[0]), reverse=True)\n",
        "\n",
        "for i, j in sorted_list:\n",
        "  print('Nodo: ', i)\n",
        "  print('_____________________')\n",
        "\n",
        "  info_a = calcular_ganancia(var= i, next_node = sorted_list[sorted_list.index((i, j)) - len(sorted_list) + 1][0])\n",
        "\n",
        "  entropy_values = quemadura_data['Quemadura'].value_counts()\n",
        "  #normalize data\n",
        "  norm_values = entropy_values / entropy_values.sum()\n",
        "\n",
        "  entropy = calcular_entropia(norm_values)\n",
        "\n",
        "\n",
        "  ganancia = entropy - info_a\n",
        "  incomes[v] = ganancia\n",
        "\n",
        "  #Printing Values\n",
        "\n",
        "  print(\"\\n• Entropia: \", info_a)\n",
        "  print('• Ganancia: ', ganancia)\n",
        "\n",
        "  print('_____________________')\n",
        ""
      ],
      "metadata": {
        "colab": {
          "base_uri": "https://localhost:8080/"
        },
        "id": "V7TOy3x-L7Kg",
        "outputId": "448d0b87-afa7-4011-dc50-1883853c0207"
      },
      "execution_count": null,
      "outputs": [
        {
          "output_type": "stream",
          "name": "stdout",
          "text": [
            "Nodo:  Pelo\n",
            "_____________________\n",
            "\n",
            "\t• De: rubio\n",
            "\t\t~ Siguiente nodo:  Proteccion\n",
            "\n",
            "\t• Value:  {'si': 2, 'no': 2}\n",
            "\t• Sample:  4\n",
            "\t• Entropia:  1.0\n",
            "\t• Size:  1.0\n",
            "\n",
            "Nodo evaluado:  moreno ---> Clase: no quema\n",
            "\t• Value:  {'no': 3}\n",
            "\t• Sample:  3\n",
            "\t• Entropia:  0.0\n",
            "\t• Size:  0.0\n",
            "\n",
            "Nodo evaluado:  rojo ---> Clase: si quema\n",
            "\t• Value:  {'si': 1}\n",
            "\t• Sample:  1\n",
            "\t• Entropia:  0.0\n",
            "\t• Size:  0.0\n",
            "\n",
            "• Entropia:  0.5\n",
            "• Ganancia:  0.45443400292496494\n",
            "_____________________\n",
            "Nodo:  Proteccion\n",
            "_____________________\n",
            "\n",
            "\t• De: no \n",
            "\t\t~ Siguiente nodo:  Altura\n",
            "\n",
            "\t• Value:  {'si': 3, 'no': 2}\n",
            "\t• Sample:  5\n",
            "\t• Entropia:  0.9709505944546686\n",
            "\t• Size:  0.9709505944546686\n",
            "\n",
            "Nodo evaluado:  si ---> Clase: no quema\n",
            "\t• Value:  {'no': 3}\n",
            "\t• Sample:  3\n",
            "\t• Entropia:  0.0\n",
            "\t• Size:  0.0\n",
            "\n",
            "• Entropia:  0.6068441215341679\n",
            "• Ganancia:  0.34758988139079705\n",
            "_____________________\n",
            "Nodo:  Altura\n",
            "_____________________\n",
            "\n",
            "\t• De: medio\n",
            "\t\t~ Siguiente nodo:  Peso\n",
            "\n",
            "\t• Value:  {'si': 2, 'no': 1}\n",
            "\t• Sample:  3\n",
            "\t• Entropia:  0.9182958340544896\n",
            "\t• Size:  0.9182958340544896\n",
            "\n",
            "\t• De: bajo\n",
            "\t\t~ Siguiente nodo:  Peso\n",
            "\n",
            "\t• Value:  {'no': 2, 'si': 1}\n",
            "\t• Sample:  3\n",
            "\t• Entropia:  0.9182958340544896\n",
            "\t• Size:  0.9182958340544896\n",
            "\n",
            "Nodo evaluado:  alto ---> Clase: no quema\n",
            "\t• Value:  {'no': 2}\n",
            "\t• Sample:  2\n",
            "\t• Entropia:  0.0\n",
            "\t• Size:  0.0\n",
            "\n",
            "• Entropia:  0.6887218755408672\n",
            "• Ganancia:  0.2657121273840978\n",
            "_____________________\n",
            "Nodo:  Peso\n",
            "_____________________\n",
            "\n",
            "\t• De: medio\n",
            "\t\t~ Siguiente nodo:  Pelo\n",
            "\n",
            "\t• Value:  {'no': 2, 'si': 1}\n",
            "\t• Sample:  3\n",
            "\t• Entropia:  0.9182958340544896\n",
            "\t• Size:  0.9182958340544896\n",
            "\n",
            "\t• De: alto\n",
            "\t\t~ Siguiente nodo:  Pelo\n",
            "\n",
            "\t• Value:  {'no': 2, 'si': 1}\n",
            "\t• Sample:  3\n",
            "\t• Entropia:  0.9182958340544896\n",
            "\t• Size:  0.9182958340544896\n",
            "\n",
            "\t• De: bajo\n",
            "\t\t~ Siguiente nodo:  Pelo\n",
            "\n",
            "\t• Value:  {'si': 1, 'no': 1}\n",
            "\t• Sample:  2\n",
            "\t• Entropia:  1.0\n",
            "\t• Size:  1.0\n",
            "\n",
            "• Entropia:  0.9387218755408672\n",
            "• Ganancia:  0.015712127384097774\n",
            "_____________________\n"
          ]
        }
      ]
    },
    {
      "cell_type": "code",
      "source": [],
      "metadata": {
        "id": "5jfvlOf0ynpk"
      },
      "execution_count": null,
      "outputs": []
    }
  ],
  "metadata": {
    "kernelspec": {
      "display_name": "Python 3",
      "language": "python",
      "name": "python3"
    },
    "language_info": {
      "codemirror_mode": {
        "name": "ipython",
        "version": 3
      },
      "file_extension": ".py",
      "mimetype": "text/x-python",
      "name": "python",
      "nbconvert_exporter": "python",
      "pygments_lexer": "ipython3",
      "version": "3.8.5"
    },
    "colab": {
      "provenance": [],
      "collapsed_sections": [
        "P-5M_IqPP-PG"
      ],
      "include_colab_link": true
    }
  },
  "nbformat": 4,
  "nbformat_minor": 0
}