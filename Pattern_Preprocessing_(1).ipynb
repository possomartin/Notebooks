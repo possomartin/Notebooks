{
  "nbformat": 4,
  "nbformat_minor": 0,
  "metadata": {
    "colab": {
      "provenance": [],
      "include_colab_link": true
    },
    "kernelspec": {
      "name": "python3",
      "display_name": "Python 3"
    },
    "language_info": {
      "name": "python"
    }
  },
  "cells": [
    {
      "cell_type": "markdown",
      "metadata": {
        "id": "view-in-github",
        "colab_type": "text"
      },
      "source": [
        "<a href=\"https://colab.research.google.com/github/possomartin/Notebooks/blob/main/Pattern_Preprocessing_(1).ipynb\" target=\"_parent\"><img src=\"https://colab.research.google.com/assets/colab-badge.svg\" alt=\"Open In Colab\"/></a>"
      ]
    },
    {
      "cell_type": "markdown",
      "source": [
        "# Pattern preprocessing"
      ],
      "metadata": {
        "id": "CeOnN4yh2Ai8"
      }
    },
    {
      "cell_type": "markdown",
      "source": [
        "> Preprocess the MNIST digits dataset to use as input of a machine learning model\n",
        "\n",
        "Start from the following notbooks:\n",
        "Deepnote\n",
        "* GitHub\n",
        "* Binarize the images.\n",
        "\n",
        "> Perform a feature engineering process on the images. (E.g. mean, standard deviation, row sum/range, columns sum/range).\n",
        "Perform a visualization of the new features grouped by class (digit)."
      ],
      "metadata": {
        "id": "RBCo7WyX2IGV"
      }
    },
    {
      "cell_type": "markdown",
      "source": [
        "### 1. Import Libraries"
      ],
      "metadata": {
        "id": "GKyPCM_h7STl"
      }
    },
    {
      "cell_type": "code",
      "source": [
        "import numpy as np\n",
        "import pandas as pd\n",
        "from matplotlib import pyplot as plt"
      ],
      "metadata": {
        "id": "w-o1lyaT2Hwx"
      },
      "execution_count": null,
      "outputs": []
    },
    {
      "cell_type": "markdown",
      "source": [
        "### 2. Read Dataset"
      ],
      "metadata": {
        "id": "Ec6jiDDB7ZeD"
      }
    },
    {
      "cell_type": "code",
      "source": [
        "data = pd.read_csv('https://raw.githubusercontent.com/sbussmann/kaggle-mnist/master/Data/train.csv')"
      ],
      "metadata": {
        "id": "hDMMAgi84CGA"
      },
      "execution_count": null,
      "outputs": []
    },
    {
      "cell_type": "markdown",
      "source": [
        "### 3. Preprocess data"
      ],
      "metadata": {
        "id": "mV53X7jb7dp-"
      }
    },
    {
      "cell_type": "code",
      "execution_count": null,
      "metadata": {
        "id": "miKnmpuK19TF"
      },
      "outputs": [],
      "source": [
        "data = np.array(data)\n",
        "m, n = data.shape\n",
        "np.random.shuffle(data) # shuffle before splitting into dev and training sets\n",
        "\n",
        "data_dev = data[0:1000].T\n",
        "Y_dev = data_dev[0]\n",
        "X_dev = data_dev[1:n]\n",
        "X_dev = X_dev / 255.\n",
        "\n",
        "data_train = data[1000:m].T\n",
        "Y_train = data_train[0]\n",
        "X_train = data_train[1:n]\n",
        "X_train = X_train / 255.\n",
        "_,m_train = X_train.shape"
      ]
    },
    {
      "cell_type": "code",
      "source": [
        "Y_train"
      ],
      "metadata": {
        "colab": {
          "base_uri": "https://localhost:8080/"
        },
        "id": "Zckg2tjr4BOD",
        "outputId": "645f844a-0bb4-4f4e-f88a-afd9f472a116"
      },
      "execution_count": null,
      "outputs": [
        {
          "output_type": "execute_result",
          "data": {
            "text/plain": [
              "array([7, 8, 3, ..., 6, 0, 9])"
            ]
          },
          "metadata": {},
          "execution_count": 5
        }
      ]
    },
    {
      "cell_type": "markdown",
      "source": [
        "### 4. Helpers (Functions that will help the model)"
      ],
      "metadata": {
        "id": "nu0W3qh8Z_Xt"
      }
    },
    {
      "cell_type": "markdown",
      "source": [
        "If we take a look at the code, then we can see that since the input images are on a based format of 28x28 we are taking this into consideration and setting up:\n",
        "* a[0]: our zeroth layer (meaning the input layer) to have 784 units\n",
        "* a[1]: the first layer is going to have 10 units (hidden layer)\n",
        "* a[2]: and the thrid and final layer is going to have 10 units as well as the second layer (this will be our output layer)"
      ],
      "metadata": {
        "id": "DjK9M2jAgspH"
      }
    },
    {
      "cell_type": "code",
      "source": [
        "def init_params():\n",
        "    W1 = np.random.rand(10, 784) - 0.5\n",
        "    b1 = np.random.rand(10, 1) - 0.5\n",
        "    W2 = np.random.rand(10, 10) - 0.5\n",
        "    b2 = np.random.rand(10, 1) - 0.5\n",
        "    return W1, b1, W2, b2\n",
        "\n",
        "def ReLU(Z):\n",
        "    return np.maximum(Z, 0)\n",
        "\n",
        "def softmax(Z):\n",
        "    A = np.exp(Z) / sum(np.exp(Z))\n",
        "    return A\n",
        "\n",
        "def forward_prop(W1, b1, W2, b2, X):\n",
        "    Z1 = W1.dot(X) + b1\n",
        "    A1 = ReLU(Z1)\n",
        "    Z2 = W2.dot(A1) + b2\n",
        "    A2 = softmax(Z2)\n",
        "    return Z1, A1, Z2, A2\n",
        "\n",
        "def ReLU_deriv(Z):\n",
        "    return Z > 0\n",
        "\n",
        "def one_hot(Y):\n",
        "    one_hot_Y = np.zeros((Y.size, Y.max() + 1))\n",
        "    one_hot_Y[np.arange(Y.size), Y] = 1\n",
        "    one_hot_Y = one_hot_Y.T\n",
        "    return one_hot_Y\n",
        "\n",
        "def backward_prop(Z1, A1, Z2, A2, W1, W2, X, Y):\n",
        "    one_hot_Y = one_hot(Y)\n",
        "    dZ2 = A2 - one_hot_Y\n",
        "    dW2 = 1 / m * dZ2.dot(A1.T)\n",
        "    db2 = 1 / m * np.sum(dZ2)\n",
        "    dZ1 = W2.T.dot(dZ2) * ReLU_deriv(Z1)\n",
        "    dW1 = 1 / m * dZ1.dot(X.T)\n",
        "    db1 = 1 / m * np.sum(dZ1)\n",
        "    return dW1, db1, dW2, db2\n",
        "\n",
        "def update_params(W1, b1, W2, b2, dW1, db1, dW2, db2, alpha):\n",
        "    W1 = W1 - alpha * dW1\n",
        "    b1 = b1 - alpha * db1\n",
        "    W2 = W2 - alpha * dW2\n",
        "    b2 = b2 - alpha * db2\n",
        "    return W1, b1, W2, b2"
      ],
      "metadata": {
        "id": "iCPYdi_o4MQf"
      },
      "execution_count": null,
      "outputs": []
    },
    {
      "cell_type": "markdown",
      "source": [
        "the $\\mathrm{a}^{[1]}$ layer is going to have a ReLU activation, meaning that we are going to work with a $\\mathbf{Z}$ ($\\mathrm{a}^{[1]}$ layer not being activated) applied weights and a bias and then running the forward propagation and backward propagation"
      ],
      "metadata": {
        "id": "kKMRiNMKk5hz"
      }
    },
    {
      "cell_type": "markdown",
      "source": [
        "#### forward Propagation\n",
        "> $\\mathrm{Z}^{[1]} = {W}^{[1]}{X} + {b}^{[1]}$\n",
        "\n",
        "> $\\mathrm{A}^{[1]} = {G}_{ReLU}({Z}^{[1]})$\n",
        "\n",
        "> $\\mathrm{Z}^{[2]} = {W}^{[2]}{A}^{[1]} + {b}^{[2]}$\n",
        "\n",
        "> $\\mathrm{A}^{[2]} = {G}_{softmax}({Z}^{[2]})$"
      ],
      "metadata": {
        "id": "LBcL1piDp_66"
      }
    },
    {
      "cell_type": "markdown",
      "source": [
        "### Backward Propagation\n",
        "\n",
        "> $\\mathrm dZ^{[2]} = A^{[2]} - Y$\n",
        "\n",
        "> $\\mathrm dW^{[2]} = \\frac{1}{m} dZ^{[2]} A^{[1]T}$\n",
        "\n",
        "> $\\mathrm{dB}^{[2]} = \\frac{1}{m} \\Sigma {dZ^{[2]}}$\n",
        "\n",
        "> $\\mathrm dZ^{[1]} = W^{[2]T} dZ^{[2]} .* g^{[1]\\prime} (z^{[1]})$\n",
        "\n",
        "> $\\mathrm dW^{[1]} = \\frac{1}{m} dZ^{[1]} A^{[0]T}$\n",
        "\n",
        "> $\\mathrm dB^{[1]} = \\frac{1}{m} \\Sigma {dZ^{[1]}}$\n",
        "\n"
      ],
      "metadata": {
        "id": "OwFN_A0d2EQ1"
      }
    },
    {
      "cell_type": "markdown",
      "source": [
        "### 5. Model"
      ],
      "metadata": {
        "id": "cSiahtTgkGR_"
      }
    },
    {
      "cell_type": "markdown",
      "source": [
        "Within our model we are going to get the forward propagation and backward propagation and with the return values of those functions update our global paramters in each iteration we have set to N steps in order to train it"
      ],
      "metadata": {
        "id": "m8yUf_9n42eR"
      }
    },
    {
      "cell_type": "code",
      "source": [
        "def get_predictions(A2):\n",
        "    return np.argmax(A2, 0)\n",
        "\n",
        "def get_accuracy(predictions, Y):\n",
        "    print(predictions, Y)\n",
        "    return np.sum(predictions == Y) / Y.size\n",
        "\n",
        "def gradient_descent(X, Y, alpha, iterations):\n",
        "    W1, b1, W2, b2 = init_params()\n",
        "    for i in range(iterations):\n",
        "        Z1, A1, Z2, A2 = forward_prop(W1, b1, W2, b2, X)\n",
        "        dW1, db1, dW2, db2 = backward_prop(Z1, A1, Z2, A2, W1, W2, X, Y)\n",
        "        W1, b1, W2, b2 = update_params(W1, b1, W2, b2, dW1, db1, dW2, db2, alpha)\n",
        "        if i % 10 == 0:\n",
        "            print(\"Iteration: \", i)\n",
        "            predictions = get_predictions(A2)\n",
        "            print(get_accuracy(predictions, Y))\n",
        "    return W1, b1, W2, b2"
      ],
      "metadata": {
        "id": "mopUkrnE4NbX"
      },
      "execution_count": null,
      "outputs": []
    },
    {
      "cell_type": "markdown",
      "source": [
        "### 6. Training"
      ],
      "metadata": {
        "id": "OTRv3cafkKfi"
      }
    },
    {
      "cell_type": "markdown",
      "source": [
        "The model is going to train taking into consideration our split X_train values, and Y_train values, then compare those values and predict to get the training accuracy of our model"
      ],
      "metadata": {
        "id": "VTVzS68c5Rkc"
      }
    },
    {
      "cell_type": "code",
      "source": [
        "W1, b1, W2, b2 = gradient_descent(X_train, Y_train, 0.10, 500)"
      ],
      "metadata": {
        "colab": {
          "base_uri": "https://localhost:8080/"
        },
        "id": "1nIRg6f54PV-",
        "outputId": "c5564140-b6b3-4b17-d113-a633fb6a426c"
      },
      "execution_count": null,
      "outputs": [
        {
          "output_type": "stream",
          "name": "stdout",
          "text": [
            "Iteration:  0\n",
            "[9 9 9 ... 9 1 9] [7 8 3 ... 6 0 9]\n",
            "0.15195121951219512\n",
            "Iteration:  10\n",
            "[0 8 0 ... 4 1 8] [7 8 3 ... 6 0 9]\n",
            "0.21992682926829268\n",
            "Iteration:  20\n",
            "[7 8 3 ... 6 0 8] [7 8 3 ... 6 0 9]\n",
            "0.3190731707317073\n",
            "Iteration:  30\n",
            "[7 2 3 ... 6 0 8] [7 8 3 ... 6 0 9]\n",
            "0.40495121951219515\n",
            "Iteration:  40\n",
            "[7 2 3 ... 6 0 8] [7 8 3 ... 6 0 9]\n",
            "0.468\n",
            "Iteration:  50\n",
            "[7 2 3 ... 6 0 7] [7 8 3 ... 6 0 9]\n",
            "0.5197560975609756\n",
            "Iteration:  60\n",
            "[7 2 3 ... 6 0 7] [7 8 3 ... 6 0 9]\n",
            "0.5610975609756098\n",
            "Iteration:  70\n",
            "[7 8 3 ... 6 0 7] [7 8 3 ... 6 0 9]\n",
            "0.5948780487804878\n",
            "Iteration:  80\n",
            "[7 8 3 ... 6 0 7] [7 8 3 ... 6 0 9]\n",
            "0.6232926829268293\n",
            "Iteration:  90\n",
            "[7 8 3 ... 6 0 7] [7 8 3 ... 6 0 9]\n",
            "0.6485609756097561\n",
            "Iteration:  100\n",
            "[7 8 3 ... 6 0 7] [7 8 3 ... 6 0 9]\n",
            "0.6693414634146342\n",
            "Iteration:  110\n",
            "[7 8 3 ... 6 0 7] [7 8 3 ... 6 0 9]\n",
            "0.6877560975609756\n",
            "Iteration:  120\n",
            "[7 8 3 ... 6 0 7] [7 8 3 ... 6 0 9]\n",
            "0.7014146341463414\n",
            "Iteration:  130\n",
            "[7 8 3 ... 6 0 7] [7 8 3 ... 6 0 9]\n",
            "0.7148292682926829\n",
            "Iteration:  140\n",
            "[7 8 3 ... 6 0 7] [7 8 3 ... 6 0 9]\n",
            "0.7263170731707317\n",
            "Iteration:  150\n",
            "[7 8 3 ... 6 0 7] [7 8 3 ... 6 0 9]\n",
            "0.7371463414634146\n",
            "Iteration:  160\n",
            "[7 2 3 ... 6 0 7] [7 8 3 ... 6 0 9]\n",
            "0.7467560975609756\n",
            "Iteration:  170\n",
            "[7 2 3 ... 6 0 7] [7 8 3 ... 6 0 9]\n",
            "0.7552926829268293\n",
            "Iteration:  180\n",
            "[7 2 3 ... 6 0 7] [7 8 3 ... 6 0 9]\n",
            "0.7622926829268293\n",
            "Iteration:  190\n",
            "[7 2 3 ... 6 0 7] [7 8 3 ... 6 0 9]\n",
            "0.7689024390243903\n",
            "Iteration:  200\n",
            "[7 2 3 ... 6 0 7] [7 8 3 ... 6 0 9]\n",
            "0.7746829268292683\n",
            "Iteration:  210\n",
            "[7 2 3 ... 6 0 7] [7 8 3 ... 6 0 9]\n",
            "0.7792926829268293\n",
            "Iteration:  220\n",
            "[7 2 3 ... 6 0 7] [7 8 3 ... 6 0 9]\n",
            "0.7842926829268293\n",
            "Iteration:  230\n",
            "[7 2 3 ... 6 0 7] [7 8 3 ... 6 0 9]\n",
            "0.7890731707317074\n",
            "Iteration:  240\n",
            "[7 2 3 ... 6 0 7] [7 8 3 ... 6 0 9]\n",
            "0.7931219512195122\n",
            "Iteration:  250\n",
            "[7 2 3 ... 6 0 7] [7 8 3 ... 6 0 9]\n",
            "0.7972439024390244\n",
            "Iteration:  260\n",
            "[7 2 3 ... 6 0 7] [7 8 3 ... 6 0 9]\n",
            "0.8013414634146342\n",
            "Iteration:  270\n",
            "[7 2 3 ... 6 0 7] [7 8 3 ... 6 0 9]\n",
            "0.8053170731707318\n",
            "Iteration:  280\n",
            "[7 2 3 ... 6 0 7] [7 8 3 ... 6 0 9]\n",
            "0.8082682926829269\n",
            "Iteration:  290\n",
            "[7 2 3 ... 6 0 7] [7 8 3 ... 6 0 9]\n",
            "0.8121707317073171\n",
            "Iteration:  300\n",
            "[7 8 3 ... 6 0 7] [7 8 3 ... 6 0 9]\n",
            "0.8150975609756097\n",
            "Iteration:  310\n",
            "[7 8 3 ... 6 0 7] [7 8 3 ... 6 0 9]\n",
            "0.818\n",
            "Iteration:  320\n",
            "[7 8 3 ... 6 0 7] [7 8 3 ... 6 0 9]\n",
            "0.8210975609756097\n",
            "Iteration:  330\n",
            "[7 8 3 ... 6 0 7] [7 8 3 ... 6 0 9]\n",
            "0.823780487804878\n",
            "Iteration:  340\n",
            "[7 8 3 ... 6 0 7] [7 8 3 ... 6 0 9]\n",
            "0.8261463414634146\n",
            "Iteration:  350\n",
            "[7 8 3 ... 6 0 7] [7 8 3 ... 6 0 9]\n",
            "0.828390243902439\n",
            "Iteration:  360\n",
            "[7 8 3 ... 6 0 7] [7 8 3 ... 6 0 9]\n",
            "0.8306829268292683\n",
            "Iteration:  370\n",
            "[7 8 3 ... 6 0 7] [7 8 3 ... 6 0 9]\n",
            "0.8333170731707317\n",
            "Iteration:  380\n",
            "[7 8 3 ... 6 0 7] [7 8 3 ... 6 0 9]\n",
            "0.8353658536585366\n",
            "Iteration:  390\n",
            "[7 8 3 ... 6 0 7] [7 8 3 ... 6 0 9]\n",
            "0.837390243902439\n",
            "Iteration:  400\n",
            "[7 8 3 ... 6 0 7] [7 8 3 ... 6 0 9]\n",
            "0.8395365853658536\n",
            "Iteration:  410\n",
            "[7 8 3 ... 6 0 7] [7 8 3 ... 6 0 9]\n",
            "0.8411951219512195\n",
            "Iteration:  420\n",
            "[7 8 3 ... 6 0 7] [7 8 3 ... 6 0 9]\n",
            "0.8427560975609756\n",
            "Iteration:  430\n",
            "[7 8 3 ... 6 0 7] [7 8 3 ... 6 0 9]\n",
            "0.8445121951219512\n",
            "Iteration:  440\n",
            "[7 8 3 ... 6 0 7] [7 8 3 ... 6 0 9]\n",
            "0.8464390243902439\n",
            "Iteration:  450\n",
            "[7 8 3 ... 6 0 7] [7 8 3 ... 6 0 9]\n",
            "0.8480243902439024\n",
            "Iteration:  460\n",
            "[7 8 3 ... 6 0 7] [7 8 3 ... 6 0 9]\n",
            "0.8492926829268292\n",
            "Iteration:  470\n",
            "[7 8 3 ... 6 0 7] [7 8 3 ... 6 0 9]\n",
            "0.8502682926829268\n",
            "Iteration:  480\n",
            "[7 8 3 ... 6 0 7] [7 8 3 ... 6 0 9]\n",
            "0.8516341463414634\n",
            "Iteration:  490\n",
            "[7 8 3 ... 6 0 7] [7 8 3 ... 6 0 9]\n",
            "0.8528780487804878\n"
          ]
        }
      ]
    },
    {
      "cell_type": "markdown",
      "source": [
        "~85% accuracy on training set.\n"
      ],
      "metadata": {
        "id": "ytUw3vPf5uFM"
      }
    },
    {
      "cell_type": "markdown",
      "source": [
        "### 7. Testing"
      ],
      "metadata": {
        "id": "uXnV_ne0kPfa"
      }
    },
    {
      "cell_type": "markdown",
      "source": [
        "With our previous trained model we can now test with real examples from the MNIST Dataset and test in a real situation how good our NN model is"
      ],
      "metadata": {
        "id": "ECLojDhj59Ix"
      }
    },
    {
      "cell_type": "code",
      "source": [
        "def make_predictions(X, W1, b1, W2, b2):\n",
        "    _, _, _, A2 = forward_prop(W1, b1, W2, b2, X)\n",
        "    predictions = get_predictions(A2)\n",
        "    return predictions\n",
        "\n",
        "def test_prediction(index, W1, b1, W2, b2):\n",
        "    current_image = X_train[:, index, None]\n",
        "    prediction = make_predictions(X_train[:, index, None], W1, b1, W2, b2)\n",
        "    label = Y_train[index]\n",
        "    print(\"Prediction: \", prediction)\n",
        "    print(\"Label: \", label)\n",
        "\n",
        "    current_image = current_image.reshape((28, 28)) * 255\n",
        "    plt.gray()\n",
        "    plt.imshow(current_image, interpolation='nearest')\n",
        "    plt.show()"
      ],
      "metadata": {
        "id": "vZDEA7eF4WEx"
      },
      "execution_count": null,
      "outputs": []
    },
    {
      "cell_type": "markdown",
      "source": [
        "We are testing with a couple examples, and the results are astonishing since it can predict incredibly accurate"
      ],
      "metadata": {
        "id": "vSCj9YRU6KuJ"
      }
    },
    {
      "cell_type": "code",
      "source": [
        "test_prediction(0, W1, b1, W2, b2)\n",
        "test_prediction(1, W1, b1, W2, b2)\n",
        "test_prediction(2, W1, b1, W2, b2)\n",
        "test_prediction(3, W1, b1, W2, b2)"
      ],
      "metadata": {
        "colab": {
          "base_uri": "https://localhost:8080/",
          "height": 1000
        },
        "id": "TssDZRk-4bMN",
        "outputId": "c2a1e2a7-0975-416c-e883-b60d64c01b49"
      },
      "execution_count": null,
      "outputs": [
        {
          "output_type": "stream",
          "name": "stdout",
          "text": [
            "Prediction:  [7]\n",
            "Label:  7\n"
          ]
        },
        {
          "output_type": "display_data",
          "data": {
            "text/plain": [
              "<Figure size 432x288 with 1 Axes>"
            ],
            "image/png": "[encoded data removed]"
          },
          "metadata": {
            "needs_background": "light"
          }
        },
        {
          "output_type": "stream",
          "name": "stdout",
          "text": [
            "Prediction:  [8]\n",
            "Label:  8\n"
          ]
        },
        {
          "output_type": "display_data",
          "data": {
            "text/plain": [
              "<Figure size 432x288 with 1 Axes>"
            ],
            "image/png": "[encoded data removed]"
          },
          "metadata": {
            "needs_background": "light"
          }
        },
        {
          "output_type": "stream",
          "name": "stdout",
          "text": [
            "Prediction:  [3]\n",
            "Label:  3\n"
          ]
        },
        {
          "output_type": "display_data",
          "data": {
            "text/plain": [
              "<Figure size 432x288 with 1 Axes>"
            ],
            "image/png": "[encoded data removed]"
          },
          "metadata": {
            "needs_background": "light"
          }
        },
        {
          "output_type": "stream",
          "name": "stdout",
          "text": [
            "Prediction:  [7]\n",
            "Label:  7\n"
          ]
        },
        {
          "output_type": "display_data",
          "data": {
            "text/plain": [
              "<Figure size 432x288 with 1 Axes>"
            ],
            "image/png": "[encoded data removed]"
          },
          "metadata": {
            "needs_background": "light"
          }
        }
      ]
    },
    {
      "cell_type": "markdown",
      "source": [
        "#### 7.1 Testing Accuracy"
      ],
      "metadata": {
        "id": "6lM4wJTj7Ux7"
      }
    },
    {
      "cell_type": "markdown",
      "source": [
        "Now if we test with the X_test and Y_test split data we can clearly see we still get a pretty decent accuracy with 83% and as we saw it above the model classifying the digits is doing a decent job"
      ],
      "metadata": {
        "id": "BCNiMqeB7f8k"
      }
    },
    {
      "cell_type": "code",
      "source": [
        "dev_predictions = make_predictions(X_dev, W1, b1, W2, b2)\n",
        "get_accuracy(dev_predictions, Y_dev)"
      ],
      "metadata": {
        "id": "sVmCq2_C54oU",
        "colab": {
          "base_uri": "https://localhost:8080/"
        },
        "outputId": "5bccf888-0080-47c5-b7da-f092c1ab022d"
      },
      "execution_count": null,
      "outputs": [
        {
          "output_type": "stream",
          "name": "stdout",
          "text": [
            "[8 2 2 4 9 1 1 3 0 9 9 3 7 7 4 7 8 7 9 3 1 9 8 9 6 9 3 5 5 0 4 2 7 1 6 3 8\n",
            " 6 7 8 9 7 4 2 6 1 6 8 0 0 2 9 7 5 6 9 2 8 8 8 3 4 2 8 2 9 7 6 6 1 5 4 1 8\n",
            " 0 0 6 3 3 8 4 8 3 1 3 2 0 8 9 1 1 9 9 7 4 4 5 1 4 6 2 6 8 5 2 8 5 8 9 7 1\n",
            " 2 0 3 0 5 3 3 6 3 1 5 3 3 0 0 1 3 8 2 5 5 7 9 7 2 8 6 2 8 0 8 9 0 9 3 6 3\n",
            " 6 5 6 9 1 6 0 2 7 6 7 3 9 3 1 6 8 6 7 6 8 8 9 0 9 9 5 7 2 1 0 1 4 9 7 7 5\n",
            " 3 9 5 8 6 2 6 3 5 1 6 0 5 5 3 6 7 7 5 9 0 2 1 4 9 0 7 9 2 9 2 8 4 1 3 4 6\n",
            " 1 7 7 4 7 2 0 5 4 1 6 3 0 1 6 5 4 2 7 0 3 9 1 5 1 6 6 6 3 8 6 4 5 4 8 4 9\n",
            " 8 1 1 3 4 1 0 3 5 2 9 7 2 7 9 2 4 4 9 5 7 6 6 1 0 0 0 8 5 6 0 5 2 4 8 3 5\n",
            " 6 5 1 2 6 2 8 4 3 4 0 0 1 1 0 8 6 5 8 8 4 1 0 6 7 4 8 6 7 5 3 9 7 9 9 8 8\n",
            " 0 3 7 3 5 6 7 2 8 2 2 9 7 5 2 8 1 3 0 3 8 6 9 3 2 3 9 6 2 7 0 8 5 6 6 9 6\n",
            " 4 3 0 3 5 6 4 2 1 2 1 2 6 4 4 3 1 6 8 8 3 4 9 7 6 4 9 4 2 9 8 9 1 1 3 8 7\n",
            " 0 9 9 6 3 3 8 8 8 6 5 9 2 2 7 8 4 7 8 8 7 2 2 6 2 7 7 3 4 3 1 7 7 5 0 0 1\n",
            " 5 1 6 5 7 7 5 3 2 1 9 9 4 5 7 5 7 5 8 1 7 5 5 0 4 3 7 4 6 1 6 6 9 9 6 0 5\n",
            " 9 2 1 4 5 4 1 6 9 0 4 1 5 1 9 7 1 0 7 9 3 4 2 9 3 3 1 5 2 2 2 7 7 7 6 0 0\n",
            " 7 1 5 4 6 2 2 4 8 7 0 7 9 2 1 2 8 6 7 9 4 2 9 9 3 4 2 1 3 8 3 3 4 0 9 7 9\n",
            " 4 8 5 5 2 5 3 0 3 6 6 2 6 4 4 2 3 9 0 1 4 7 1 6 9 2 5 5 1 1 1 3 4 3 7 6 2\n",
            " 8 9 2 2 8 4 4 7 1 6 1 9 6 9 0 9 0 4 7 6 1 8 8 6 1 7 8 5 7 2 6 0 3 4 1 7 1\n",
            " 4 7 0 8 1 8 6 9 0 7 2 9 7 2 4 4 9 1 3 0 6 2 6 8 7 8 7 7 0 1 3 3 3 4 1 3 9\n",
            " 6 0 2 0 1 0 5 6 6 8 0 0 0 7 7 0 7 2 8 2 0 4 7 4 7 1 5 0 9 9 6 7 5 4 8 7 6\n",
            " 6 6 9 8 2 1 1 9 5 3 3 5 0 6 2 4 9 9 8 7 6 5 1 4 6 6 9 2 3 9 5 3 6 1 4 7 4\n",
            " 3 4 5 9 5 5 1 2 4 3 6 9 8 1 0 8 3 8 8 3 4 6 9 3 4 0 5 8 0 9 4 6 0 3 9 8 6\n",
            " 6 0 6 6 9 2 7 1 1 7 0 4 1 4 0 2 0 2 1 4 1 0 5 0 8 2 6 8 3 7 5 3 4 5 2 5 8\n",
            " 2 7 0 5 0 6 4 1 4 8 5 2 7 6 9 9 9 3 3 7 4 8 7 7 4 1 9 0 4 8 1 9 9 7 3 4 9\n",
            " 3 5 2 0 0 2 1 3 3 1 8 9 0 9 9 7 8 6 6 2 7 9 6 0 9 6 5 5 0 4 1 8 7 5 7 3 9\n",
            " 1 1 5 8 0 2 1 1 8 7 1 5 5 2 6 8 2 2 9 3 2 9 3 9 9 1 7 1 2 3 6 2 3 0 7 3 8\n",
            " 7 3 1 8 5 1 3 9 8 0 9 2 6 5 7 6 4 7 5 6 2 0 7 1 8 9 7 6 1 8 9 3 9 6 7 7 1\n",
            " 5 1 0 9 3 5 9 4 2 8 6 1 7 9 4 3 6 4 6 6 7 3 7 0 6 4 3 8 9 7 9 7 1 6 9 5 3\n",
            " 1] [8 2 2 4 9 1 1 3 0 9 9 3 7 7 4 2 8 7 9 3 1 9 8 9 8 9 3 5 3 0 4 9 7 1 0 3 8\n",
            " 6 7 8 9 7 4 2 6 1 6 8 0 0 2 5 7 8 6 9 2 3 8 8 2 4 2 8 2 9 7 6 6 3 5 4 1 8\n",
            " 0 0 6 3 3 8 4 8 3 1 3 2 0 5 4 1 1 7 9 7 5 4 5 3 4 6 2 6 8 5 2 8 9 8 9 7 2\n",
            " 2 0 7 6 5 3 7 6 3 1 5 3 3 0 0 1 8 8 2 5 5 7 9 9 2 8 3 2 3 0 8 9 6 9 8 6 3\n",
            " 6 5 6 8 1 6 0 2 7 3 7 3 9 3 1 6 8 6 7 6 8 8 9 0 7 4 5 7 2 2 0 3 9 9 7 7 5\n",
            " 3 9 5 8 6 2 6 3 5 1 6 0 5 5 3 6 7 7 5 9 0 2 1 4 9 0 7 9 2 9 2 8 4 1 3 4 6\n",
            " 1 9 7 4 7 2 5 5 4 1 6 3 0 1 6 6 4 2 7 8 3 9 1 5 4 6 6 6 3 8 6 4 0 4 8 4 4\n",
            " 9 1 1 3 4 1 0 3 5 2 9 7 2 7 9 2 4 4 0 5 7 6 6 1 0 0 0 8 5 5 0 3 6 4 8 3 5\n",
            " 2 5 1 2 6 3 8 4 3 4 8 0 3 1 0 3 6 5 8 8 4 1 0 2 7 4 8 6 7 5 3 7 7 9 9 8 8\n",
            " 0 3 7 3 0 6 7 2 8 2 2 9 7 5 2 8 1 8 0 3 8 6 9 3 2 3 9 6 2 7 0 6 6 6 6 8 6\n",
            " 4 3 0 3 5 6 4 2 1 2 1 2 3 4 4 8 8 6 8 8 3 8 7 3 8 9 9 9 2 9 8 9 1 1 3 8 7\n",
            " 0 4 9 5 3 3 8 8 8 6 5 9 2 2 7 8 4 7 8 8 3 2 2 6 2 7 7 9 4 3 1 7 9 5 0 0 5\n",
            " 5 1 6 8 7 7 5 3 2 1 9 9 9 5 7 5 7 5 8 1 7 8 0 0 4 3 7 4 6 1 6 6 9 9 6 0 5\n",
            " 9 2 1 4 9 4 1 6 9 0 4 1 5 7 9 7 1 0 7 9 5 4 2 7 3 2 1 5 0 2 4 7 7 7 6 0 0\n",
            " 7 1 5 4 6 2 2 9 8 7 0 7 9 2 1 2 5 6 7 9 4 6 9 9 3 4 2 1 3 8 8 5 4 0 9 7 9\n",
            " 4 8 5 5 2 5 3 3 3 6 6 3 6 4 5 2 3 5 0 1 4 7 1 2 9 1 5 0 1 1 2 3 4 3 7 6 2\n",
            " 8 9 2 2 8 0 4 0 1 6 1 9 6 9 0 9 0 4 7 6 1 3 8 6 1 7 8 5 7 2 6 0 3 4 1 3 1\n",
            " 9 2 0 8 1 9 6 9 0 7 9 9 7 2 4 4 9 1 3 0 6 1 6 7 7 5 7 7 0 1 3 3 3 4 1 3 9\n",
            " 6 0 2 0 1 0 5 6 2 8 0 0 0 7 7 0 7 2 8 2 0 7 7 4 7 1 5 0 9 9 6 7 5 4 7 7 6\n",
            " 6 6 9 8 2 9 1 9 5 3 3 8 0 6 2 4 9 9 6 3 6 5 1 4 6 6 7 2 5 8 5 3 6 1 4 7 4\n",
            " 3 4 5 7 5 5 1 6 4 5 4 4 8 1 0 8 5 3 3 3 4 6 9 3 4 0 5 8 0 7 4 6 0 3 9 8 6\n",
            " 6 0 6 6 8 2 7 1 1 7 0 4 1 4 2 2 0 2 1 4 1 0 5 0 5 2 6 8 8 7 5 3 4 5 2 5 3\n",
            " 3 7 0 5 0 6 4 1 4 8 5 2 3 6 9 9 9 3 0 7 7 8 7 7 4 1 9 0 9 5 1 9 9 7 3 4 9\n",
            " 3 5 8 3 0 2 1 3 3 8 8 9 0 7 9 7 8 6 6 6 7 9 6 0 9 2 5 5 0 4 1 8 7 5 7 3 4\n",
            " 1 1 5 8 0 2 1 1 8 7 1 0 5 7 6 8 2 2 9 3 2 9 3 4 9 1 9 1 2 3 6 7 3 0 7 8 8\n",
            " 7 3 1 8 5 1 3 9 5 0 9 2 6 5 7 6 2 7 5 6 2 0 7 1 3 9 7 6 1 8 9 1 9 6 7 7 1\n",
            " 5 1 0 2 3 5 9 9 2 8 6 1 7 4 4 3 6 9 4 6 7 3 7 0 6 4 3 3 9 7 4 7 1 6 4 5 3\n",
            " 1]\n"
          ]
        },
        {
          "output_type": "execute_result",
          "data": {
            "text/plain": [
              "0.838"
            ]
          },
          "metadata": {},
          "execution_count": 11
        }
      ]
    },
    {
      "cell_type": "markdown",
      "source": [
        "### 8. Conclusions\n",
        "\n",
        "it is amazing how we can create a NN with some simple algebra and how it is so simple to generalized our model from a dataset like MNIST and build something that can predict digits pretty well and not only hand written digits, we can use it towards other datasets and classify pretty much anything doing the proper data preprocessing to give it as an input to our NN"
      ],
      "metadata": {
        "id": "rZWIFyBJ79zg"
      }
    }
  ]
}