{
  "nbformat": 4,
  "nbformat_minor": 0,
  "metadata": {
    "colab": {
      "provenance": [],
      "authorship_tag": "ABX9TyPKO/tSTPFmtkIz5SLa7feN",
      "include_colab_link": true
    },
    "kernelspec": {
      "name": "python3",
      "display_name": "Python 3"
    },
    "language_info": {
      "name": "python"
    }
  },
  "cells": [
    {
      "cell_type": "markdown",
      "metadata": {
        "id": "view-in-github",
        "colab_type": "text"
      },
      "source": [
        "<a href=\"https://colab.research.google.com/github/possomartin/Notebooks/blob/main/celular_automata.ipynb\" target=\"_parent\"><img src=\"https://colab.research.google.com/assets/colab-badge.svg\" alt=\"Open In Colab\"/></a>"
      ]
    },
    {
      "cell_type": "code",
      "execution_count": null,
      "metadata": {
        "colab": {
          "base_uri": "https://localhost:8080/",
          "height": 606
        },
        "id": "5TwcNidSIDVe",
        "outputId": "0587da73-723f-47d1-e574-cf4d903800bd"
      },
      "outputs": [
        {
          "output_type": "execute_result",
          "data": {
            "text/plain": [
              "<matplotlib.image.AxesImage at 0x7f2510f47ed0>"
            ]
          },
          "metadata": {},
          "execution_count": 4
        },
        {
          "output_type": "display_data",
          "data": {
            "text/plain": [
              "<Figure size 288x689.594 with 1 Axes>"
            ],
            "image/png": "[encoded data removed]"
          },
          "metadata": {
            "needs_background": "light"
          }
        }
      ],
      "source": [
        "import numpy as np\n",
        "import matplotlib.pyplot as plt\n",
        "\n",
        "def rule_to_binary(rule):\n",
        "    return bin(rule)[2:].rjust(8, '0')[::-1]\n",
        "\n",
        "def get_neighborhood(CA, cell_i):\n",
        "    # CA: cellular automata\n",
        "    return ''.join(CA[cell_i-1:cell_i+2].astype('str'))\n",
        "\n",
        "def update_automata(CA, binary_rule):\n",
        "    CAU = CA.copy()  # CAU, state in t+1, CA is in time t\n",
        "\n",
        "    # Leave out the extemes\n",
        "    for cell_i in range(1, len(CA)-1):\n",
        "        CAU[cell_i] = binary_rule[int(get_neighborhood(CA, cell_i), 2)]\n",
        "\n",
        "    return CAU\n",
        "\n",
        "def wolfram_initialization(size):\n",
        "    CA = np.zeros(size, dtype='int')\n",
        "    CA[len(CA)//2] = 1\n",
        "    return CA\n",
        "\n",
        "size = 251  # size of the automata\n",
        "steps = 600  # time steps\n",
        "rule = 60  # decimal rule\n",
        "binary_rule = rule_to_binary(rule)\n",
        "# init automata\n",
        "CA = [wolfram_initialization(size)]\n",
        "\n",
        "# Evolve in time (steps)\n",
        "for t in range(steps):\n",
        "    CA += [update_automata(CA[-1], binary_rule)]\n",
        "\n",
        "plt.matshow(CA)"
      ]
    },
    {
      "cell_type": "code",
      "source": [],
      "metadata": {
        "id": "ZFWwjkmzIK35"
      },
      "execution_count": null,
      "outputs": []
    }
  ]
}